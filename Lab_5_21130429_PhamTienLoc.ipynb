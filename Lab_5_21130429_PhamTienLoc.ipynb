{
  "nbformat": 4,
  "nbformat_minor": 0,
  "metadata": {
    "colab": {
      "provenance": [],
      "include_colab_link": true
    },
    "kernelspec": {
      "name": "python3",
      "display_name": "Python 3"
    },
    "language_info": {
      "name": "python"
    }
  },
  "cells": [
    {
      "cell_type": "markdown",
      "metadata": {
        "id": "view-in-github",
        "colab_type": "text"
      },
      "source": [
        "<a href=\"https://colab.research.google.com/github/PhamTienLoc/Lab_ML/blob/main/Lab_5_21130429_PhamTienLoc.ipynb\" target=\"_parent\"><img src=\"https://colab.research.google.com/assets/colab-badge.svg\" alt=\"Open In Colab\"/></a>"
      ]
    },
    {
      "cell_type": "markdown",
      "source": [
        "# This lab is to deal with **SVM** to classification tasks and compare its performance with other competitive algorithms. In general, **SVM** is one of the most popular and widely used supervised machine learning algorithms.\n",
        "\n",
        "*   **Deadline: 23:59, 08/04/2024**\n",
        "\n"
      ],
      "metadata": {
        "id": "LMzehe0sy5wr"
      }
    },
    {
      "cell_type": "code",
      "source": [
        "from google.colab import drive\n",
        "drive.mount('/content/gdrive')\n",
        "%cd '/content/gdrive/MyDrive/data'"
      ],
      "metadata": {
        "id": "L5JsNZAUsdI4",
        "colab": {
          "base_uri": "https://localhost:8080/"
        },
        "outputId": "76f5e3e4-5c04-439b-84ea-3fce0c8cda78"
      },
      "execution_count": 1,
      "outputs": [
        {
          "output_type": "stream",
          "name": "stdout",
          "text": [
            "Mounted at /content/gdrive\n",
            "/content/gdrive/MyDrive/data\n"
          ]
        }
      ]
    },
    {
      "cell_type": "markdown",
      "source": [
        "# Import libraries"
      ],
      "metadata": {
        "id": "H4nJmxp9zGX4"
      }
    },
    {
      "cell_type": "code",
      "execution_count": 25,
      "metadata": {
        "id": "DoVWQ8AEyc-C",
        "colab": {
          "base_uri": "https://localhost:8080/"
        },
        "outputId": "b0b9b468-7ab0-4a96-865b-d0222a541ced"
      },
      "outputs": [
        {
          "output_type": "stream",
          "name": "stdout",
          "text": [
            "Populating the interactive namespace from numpy and matplotlib\n"
          ]
        },
        {
          "output_type": "stream",
          "name": "stderr",
          "text": [
            "/usr/local/lib/python3.10/dist-packages/IPython/core/magics/pylab.py:159: UserWarning: pylab import has clobbered these variables: ['clf', 'plt']\n",
            "`%matplotlib` prevents importing * from pylab and numpy\n",
            "  warn(\"pylab import has clobbered these variables: %s\"  % clobbered +\n"
          ]
        }
      ],
      "source": [
        "# code\n",
        "import numpy as np\n",
        "import pandas as pd\n",
        "import matplotlib.pyplot as plt\n",
        "import seaborn as sns\n",
        "import seaborn as sns\n",
        "import matplotlib.ticker as ticker\n",
        "from sklearn import metrics\n",
        "from sklearn.model_selection import train_test_split\n",
        "import matplotlib.pylab as plt\n",
        "from sklearn import svm\n",
        "from sklearn.neighbors import KNeighborsClassifier\n",
        "from sklearn.linear_model import LinearRegression,LogisticRegression\n",
        "from sklearn.tree import DecisionTreeClassifier\n",
        "from sklearn.metrics import classification_report, confusion_matrix\n",
        "from prettytable import PrettyTable\n",
        "from sklearn.metrics import accuracy_score\n",
        "from sklearn.metrics import precision_score\n",
        "from sklearn.metrics import recall_score\n",
        "from sklearn.metrics import f1_score\n",
        "\n",
        "%pylab inline\n",
        "#%run Utils.ipynb\n",
        "# Warnings configuration\n",
        "# ==============================================================================\n",
        "import warnings\n",
        "# warnings.filterwarnings('ignore')\n"
      ]
    },
    {
      "cell_type": "markdown",
      "source": [
        "#Task 1.\n",
        "For **breast cancer** dataset (https://tinyurl.com/3vme8hr3) which could be loaded from datasets in sklearn as follows:\n",
        "\n",
        "```\n",
        "#Import scikit-learn dataset library\n",
        "from sklearn import datasets\n",
        "\n",
        "#Load dataset\n",
        "cancer = datasets.load_breast_cancer()\n",
        "```\n",
        "\n",
        "*   1.1.\tApply **SVM algorithm** to above dataset using linear kernel.\n",
        "*   1.2.\tCompare the obtained results with other competitive algorithms (**Logistic Regression, Decision Tree, kNN**) based on metrics: accuracy, precision, recall, f1 measures.\n",
        "\n"
      ],
      "metadata": {
        "id": "kNv07ARGzOUm"
      }
    },
    {
      "cell_type": "code",
      "source": [
        "# code\n",
        "# 1.1\n",
        "from sklearn import datasets\n",
        "cancer = datasets.load_breast_cancer()\n",
        "X = cancer.data\n",
        "y = cancer.target\n",
        "X_train, X_test, y_train, y_test = train_test_split(X,y, test_size= 0.2, random_state = 1)\n",
        "clf = svm.SVC(kernel='linear')\n",
        "clf.fit(X_train, y_train)\n",
        "y_pred_svm = clf.predict(X_test)\n",
        "svm_accuracy_score = (accuracy_score(y_test, y_pred_svm))\n",
        "svm_precision_score = (precision_score(y_test, y_pred_svm, average='macro'))\n",
        "svm_recall_score = (recall_score(y_test, y_pred_svm, average='macro'))\n",
        "svm_f1_score = (f1_score(y_test, y_pred_svm, average='macro'))\n",
        "\n",
        "# 1.2\n",
        "lr_classifier = LogisticRegression(max_iter = 1000)\n",
        "lr_classifier.fit(X_train, y_train)\n",
        "y_pred_lr = lr_classifier.predict(X_test)\n",
        "lr_accuracy_score = (accuracy_score(y_test, y_pred_lr))\n",
        "lr_precision_score = (precision_score(y_test, y_pred_lr, average='macro'))\n",
        "lr_recall_score = (recall_score(y_test, y_pred_lr, average='macro'))\n",
        "lr_f1_score = (f1_score(y_test, y_pred_lr, average='macro'))\n",
        "\n",
        "kNN_accuracy_score = []\n",
        "kNN_precision_score = []\n",
        "kNN_recall_score = []\n",
        "kNN_f1_score = []\n",
        "for i in range (3,30,2):\n",
        "  kNN_classifier = KNeighborsClassifier(n_neighbors=i)\n",
        "  kNN_classifier.fit(X_train,y_train)\n",
        "  y_pred_kNN = kNN_classifier.predict(X_test)\n",
        "  kNN_accuracy_score.append(accuracy_score(y_test, y_pred_kNN))\n",
        "  kNN_precision_score.append(precision_score(y_test, y_pred_kNN, average='macro'))\n",
        "  kNN_recall_score.append(recall_score(y_test, y_pred_kNN, average='macro'))\n",
        "  kNN_f1_score.append(f1_score(y_test, y_pred_kNN, average='macro'))\n",
        "\n",
        "dt_classifier = DecisionTreeClassifier()\n",
        "dt_classifier.fit(X_train, y_train)\n",
        "y_pred_dt = dt_classifier.predict(X_test)\n",
        "dt_accuracy_score = (accuracy_score(y_test, y_pred_dt))\n",
        "dt_precision_score = (precision_score(y_test, y_pred_dt, average='macro'))\n",
        "dt_recall_score = (recall_score(y_test, y_pred_dt, average='macro'))\n",
        "dt_f1_score = (f1_score(y_test, y_pred_dt, average='macro'))\n",
        "\n",
        "t = PrettyTable(['classification algorithm', 'accuracy', 'precision', 'recall', 'f1'])\n",
        "t.add_row(['Logistic regression', lr_accuracy_score, lr_precision_score, lr_recall_score, lr_f1_score])\n",
        "t.add_row(['SVM', svm_accuracy_score, svm_precision_score, svm_recall_score, svm_f1_score])\n",
        "t.add_row(['kNN', np.mean(kNN_accuracy_score), np.mean(kNN_precision_score), np.mean(kNN_recall_score), np.mean(kNN_f1_score)])\n",
        "t.add_row(['Decision Tree', dt_accuracy_score, dt_precision_score, dt_recall_score, dt_f1_score])\n",
        "\n",
        "print(t)"
      ],
      "metadata": {
        "id": "sOsg77IBzEyo",
        "colab": {
          "base_uri": "https://localhost:8080/"
        },
        "outputId": "d79e4f16-aa72-4e72-f33f-18122111b153"
      },
      "execution_count": 39,
      "outputs": [
        {
          "output_type": "stream",
          "name": "stderr",
          "text": [
            "/usr/local/lib/python3.10/dist-packages/sklearn/linear_model/_logistic.py:458: ConvergenceWarning: lbfgs failed to converge (status=1):\n",
            "STOP: TOTAL NO. of ITERATIONS REACHED LIMIT.\n",
            "\n",
            "Increase the number of iterations (max_iter) or scale the data as shown in:\n",
            "    https://scikit-learn.org/stable/modules/preprocessing.html\n",
            "Please also refer to the documentation for alternative solver options:\n",
            "    https://scikit-learn.org/stable/modules/linear_model.html#logistic-regression\n",
            "  n_iter_i = _check_optimize_result(\n"
          ]
        },
        {
          "output_type": "stream",
          "name": "stdout",
          "text": [
            "+--------------------------+--------------------+--------------------+--------------------+--------------------+\n",
            "| classification algorithm |      accuracy      |     precision      |       recall       |         f1         |\n",
            "+--------------------------+--------------------+--------------------+--------------------+--------------------+\n",
            "|   Logistic regression    | 0.9473684210526315 | 0.9539473684210527 | 0.933531746031746  | 0.9422297297297297 |\n",
            "|           SVM            | 0.956140350877193  | 0.9675324675324675 | 0.9404761904761905 | 0.951575906889814  |\n",
            "|           kNN            | 0.917919799498747  | 0.9311317026285958 | 0.8949829931972789 | 0.9081595273191684 |\n",
            "|      Decision Tree       | 0.9298245614035088 | 0.9412393162393162 | 0.9097222222222223 | 0.9220512820512821 |\n",
            "+--------------------------+--------------------+--------------------+--------------------+--------------------+\n"
          ]
        }
      ]
    },
    {
      "cell_type": "markdown",
      "source": [
        "#Task 2.\n",
        "\n",
        "*   2.1.\tPerform SVM algorithm to **Iris dataset** using **linear kernel**.\n",
        "*   2.2.\tCompare the obtained results in task 2.1 with **SVM** using other kernels (**Polynomial Kernel, Sigmoid Kernel, Radial Basis Function Kernel**). Some metrics could be used: **accuracy, precision, recall, f1** measures\n"
      ],
      "metadata": {
        "id": "S43IoUT-0OQq"
      }
    },
    {
      "cell_type": "code",
      "source": [
        "# code\n",
        "data1 = datasets.load_iris()\n",
        "X = data1.data\n",
        "y = data1.target\n",
        "X_train, X_test, y_train, y_test = train_test_split(X,y, test_size=0.2, random_state=1)\n",
        "linear_clf = svm.SVC(kernel='linear')\n",
        "linear_clf.fit(X_train, y_train)\n",
        "y_pred_svm_linear = linear_clf.predict(X_test)\n",
        "linear_svm_accuracy_score = (accuracy_score(y_test, y_pred_svm_linear))\n",
        "linear_svm_precision_score = (precision_score(y_test, y_pred_svm_linear, average='macro'))\n",
        "linear_svm_recall_score = (recall_score(y_test, y_pred_svm_linear, average='macro'))\n",
        "linear_svm_f1_score = (f1_score(y_test, y_pred_svm_linear, average='macro'))\n",
        "\n",
        "poly_clf = svm.SVC(kernel='poly')\n",
        "poly_clf.fit(X_train, y_train)\n",
        "y_pred_svm_poly = poly_clf.predict(X_test)\n",
        "poly_svm_accuracy_score = (accuracy_score(y_test, y_pred_svm_poly))\n",
        "poly_svm_precision_score = (precision_score(y_test, y_pred_svm_poly, average='macro'))\n",
        "poly_svm_recall_score = (recall_score(y_test, y_pred_svm_poly, average='macro'))\n",
        "poly_svm_f1_score = (f1_score(y_test, y_pred_svm_poly, average='macro'))\n",
        "\n",
        "sigmoid_clf = svm.SVC(kernel='sigmoid')\n",
        "sigmoid_clf.fit(X_train, y_train)\n",
        "y_pred_svm_sigmoid = sigmoid_clf.predict(X_test)\n",
        "sigmoid_svm_accuracy_score = (accuracy_score(y_test, y_pred_svm_sigmoid))\n",
        "sigmoid_svm_precision_score = (precision_score(y_test, y_pred_svm_sigmoid, average='macro'))\n",
        "sigmoid_svm_recall_score = (recall_score(y_test, y_pred_svm_sigmoid, average='macro'))\n",
        "sigmoid_svm_f1_score = (f1_score(y_test, y_pred_svm_sigmoid, average='macro'))\n",
        "\n",
        "rbf_clf = svm.SVC(kernel='rbf')\n",
        "rbf_clf.fit(X_train, y_train)\n",
        "y_pred_svm_rbf = rbf_clf.predict(X_test)\n",
        "rbf_svm_accuracy_score = (accuracy_score(y_test, y_pred_svm_rbf))\n",
        "rbf_svm_precision_score = (precision_score(y_test, y_pred_svm_rbf, average='macro'))\n",
        "rbf_svm_recall_score = (recall_score(y_test, y_pred_svm_rbf, average='macro'))\n",
        "rbf_svm_f1_score = (f1_score(y_test, y_pred_svm_rbf, average='macro'))\n",
        "\n",
        "t = PrettyTable(['SVM kernels', 'accuracy', 'precision', 'recall', 'f1'])\n",
        "t.add_row(['Linear', linear_svm_accuracy_score, linear_svm_precision_score, linear_svm_recall_score, linear_svm_f1_score])\n",
        "t.add_row(['Polynomial', poly_svm_accuracy_score, poly_svm_precision_score, poly_svm_recall_score, poly_svm_f1_score])\n",
        "t.add_row(['Sigmoid', sigmoid_svm_accuracy_score, sigmoid_svm_precision_score, sigmoid_svm_recall_score, sigmoid_svm_f1_score])\n",
        "t.add_row(['Radial Basis Function', rbf_svm_accuracy_score, rbf_svm_precision_score, rbf_svm_recall_score, rbf_svm_f1_score])\n",
        "\n",
        "print(t)"
      ],
      "metadata": {
        "id": "_xhPpF5b033h",
        "colab": {
          "base_uri": "https://localhost:8080/"
        },
        "outputId": "aeb64718-955b-4403-f6fe-af55416b8080"
      },
      "execution_count": 38,
      "outputs": [
        {
          "output_type": "stream",
          "name": "stdout",
          "text": [
            "+-----------------------+--------------------+---------------------+--------------------+---------------------+\n",
            "|      SVM kernels      |      accuracy      |      precision      |       recall       |          f1         |\n",
            "+-----------------------+--------------------+---------------------+--------------------+---------------------+\n",
            "|         Linear        |        1.0         |         1.0         |        1.0         |         1.0         |\n",
            "|       Polynomial      | 0.9666666666666667 |  0.9523809523809524 | 0.9743589743589745 |  0.9610256410256409 |\n",
            "|        Sigmoid        |        0.2         | 0.06666666666666667 | 0.3333333333333333 | 0.11111111111111112 |\n",
            "| Radial Basis Function | 0.9666666666666667 |  0.9523809523809524 | 0.9743589743589745 |  0.9610256410256409 |\n",
            "+-----------------------+--------------------+---------------------+--------------------+---------------------+\n"
          ]
        },
        {
          "output_type": "stream",
          "name": "stderr",
          "text": [
            "/usr/local/lib/python3.10/dist-packages/sklearn/metrics/_classification.py:1344: UndefinedMetricWarning: Precision is ill-defined and being set to 0.0 in labels with no predicted samples. Use `zero_division` parameter to control this behavior.\n",
            "  _warn_prf(average, modifier, msg_start, len(result))\n"
          ]
        }
      ]
    },
    {
      "cell_type": "markdown",
      "source": [
        "#Task 3.\n",
        "Compare the performance of selected classification algorithms (**Decision Tree, kNN, Logistic Regression**) and **SVM** (using different kernels) with **FASHION** dataset based on **accuracy, precision, recall, f1** measures.\n"
      ],
      "metadata": {
        "id": "b52OPWPD2afi"
      }
    },
    {
      "cell_type": "code",
      "source": [
        "# code\n",
        "data1 = pd.read_csv('fashion_train.csv')\n",
        "data2 = pd.read_csv('fashion_test.csv')\n",
        "X_train = data1.iloc[:,0:len(data2.columns)-1]\n",
        "y_train = data1[['y']]\n",
        "X_test = data2.iloc[:,0:len(data2.columns)-1]\n",
        "y_test = data2[['y']]\n",
        "linear_clf = svm.SVC(kernel='linear')\n",
        "linear_clf.fit(X_train, y_train)\n",
        "y_pred_svm_linear = linear_clf.predict(X_test)\n",
        "linear_svm_accuracy_score = (accuracy_score(y_test, y_pred_svm_linear))\n",
        "linear_svm_precision_score = (precision_score(y_test, y_pred_svm_linear, average='macro'))\n",
        "linear_svm_recall_score = (recall_score(y_test, y_pred_svm_linear, average='macro'))\n",
        "linear_svm_f1_score = (f1_score(y_test, y_pred_svm_linear, average='macro'))\n",
        "\n",
        "poly_clf = svm.SVC(kernel='poly')\n",
        "poly_clf.fit(X_train, y_train)\n",
        "y_pred_svm_poly = poly_clf.predict(X_test)\n",
        "poly_svm_accuracy_score = (accuracy_score(y_test, y_pred_svm_poly))\n",
        "poly_svm_precision_score = (precision_score(y_test, y_pred_svm_poly, average='macro'))\n",
        "poly_svm_recall_score = (recall_score(y_test, y_pred_svm_poly, average='macro'))\n",
        "poly_svm_f1_score = (f1_score(y_test, y_pred_svm_poly, average='macro'))\n",
        "\n",
        "sigmoid_clf = svm.SVC(kernel='sigmoid')\n",
        "sigmoid_clf.fit(X_train, y_train)\n",
        "y_pred_svm_sigmoid = sigmoid_clf.predict(X_test)\n",
        "sigmoid_svm_accuracy_score = (accuracy_score(y_test, y_pred_svm_sigmoid))\n",
        "sigmoid_svm_precision_score = (precision_score(y_test, y_pred_svm_sigmoid, average='macro'))\n",
        "sigmoid_svm_recall_score = (recall_score(y_test, y_pred_svm_sigmoid, average='macro'))\n",
        "sigmoid_svm_f1_score = (f1_score(y_test, y_pred_svm_sigmoid, average='macro'))\n",
        "\n",
        "rbf_clf = svm.SVC(kernel='rbf')\n",
        "rbf_clf.fit(X_train, y_train)\n",
        "y_pred_svm_rbf = rbf_clf.predict(X_test)\n",
        "rbf_svm_accuracy_score = (accuracy_score(y_test, y_pred_svm_rbf))\n",
        "rbf_svm_precision_score = (precision_score(y_test, y_pred_svm_rbf, average='macro'))\n",
        "rbf_svm_recall_score = (recall_score(y_test, y_pred_svm_rbf, average='macro'))\n",
        "rbf_svm_f1_score = (f1_score(y_test, y_pred_svm_rbf, average='macro'))\n",
        "\n",
        "lr_classifier = LogisticRegression(max_iter = 1000)\n",
        "lr_classifier.fit(X_train, y_train)\n",
        "y_pred_lr = lr_classifier.predict(X_test)\n",
        "lr_accuracy_score = (accuracy_score(y_test, y_pred_lr))\n",
        "lr_precision_score = (precision_score(y_test, y_pred_lr, average='macro'))\n",
        "lr_recall_score = (recall_score(y_test, y_pred_lr, average='macro'))\n",
        "lr_f1_score = (f1_score(y_test, y_pred_lr, average='macro'))\n",
        "\n",
        "kNN_accuracy_score = []\n",
        "kNN_precision_score = []\n",
        "kNN_recall_score = []\n",
        "kNN_f1_score = []\n",
        "for i in range (3,30,2):\n",
        "  kNN_classifier = KNeighborsClassifier(n_neighbors=i)\n",
        "  kNN_classifier.fit(X_train,y_train)\n",
        "  y_pred_kNN = kNN_classifier.predict(X_test)\n",
        "  kNN_accuracy_score.append(accuracy_score(y_test, y_pred_kNN))\n",
        "  kNN_precision_score.append(precision_score(y_test, y_pred_kNN, average='macro'))\n",
        "  kNN_recall_score.append(recall_score(y_test, y_pred_kNN, average='macro'))\n",
        "  kNN_f1_score.append(f1_score(y_test, y_pred_kNN, average='macro'))\n",
        "\n",
        "dt_classifier = DecisionTreeClassifier()\n",
        "dt_classifier.fit(X_train, y_train)\n",
        "y_pred_dt = dt_classifier.predict(X_test)\n",
        "dt_accuracy_score = (accuracy_score(y_test, y_pred_dt))\n",
        "dt_precision_score = (precision_score(y_test, y_pred_dt, average='macro'))\n",
        "dt_recall_score = (recall_score(y_test, y_pred_dt, average='macro'))\n",
        "dt_f1_score = (f1_score(y_test, y_pred_dt, average='macro'))\n",
        "\n",
        "t = PrettyTable(['classification algorithms', 'accuracy', 'precision', 'recall', 'f1'])\n",
        "t.add_row(['SVM Linear', linear_svm_accuracy_score, linear_svm_precision_score, linear_svm_recall_score, linear_svm_f1_score])\n",
        "t.add_row(['SVM Polynomial', poly_svm_accuracy_score, poly_svm_precision_score, poly_svm_recall_score, poly_svm_f1_score])\n",
        "t.add_row(['SVM Sigmoid', sigmoid_svm_accuracy_score, sigmoid_svm_precision_score, sigmoid_svm_recall_score, sigmoid_svm_f1_score])\n",
        "t.add_row(['SVM Radial Basis Function', rbf_svm_accuracy_score, rbf_svm_precision_score, rbf_svm_recall_score, rbf_svm_f1_score])\n",
        "t.add_row(['Logistic regression', lr_accuracy_score, lr_precision_score, lr_recall_score, lr_f1_score])\n",
        "t.add_row(['kNN', np.mean(kNN_accuracy_score), np.mean(kNN_precision_score), np.mean(kNN_recall_score), np.mean(kNN_f1_score)])\n",
        "t.add_row(['Decision Tree', dt_accuracy_score, dt_precision_score, dt_recall_score, dt_f1_score])\n",
        "\n",
        "print(t)"
      ],
      "metadata": {
        "colab": {
          "base_uri": "https://localhost:8080/"
        },
        "id": "RmQ2bc_7TyIO",
        "outputId": "df4c7a34-3b28-4867-d15d-d37ef6c696d7"
      },
      "execution_count": 42,
      "outputs": [
        {
          "output_type": "stream",
          "name": "stderr",
          "text": [
            "/usr/local/lib/python3.10/dist-packages/sklearn/utils/validation.py:1143: DataConversionWarning: A column-vector y was passed when a 1d array was expected. Please change the shape of y to (n_samples, ), for example using ravel().\n",
            "  y = column_or_1d(y, warn=True)\n",
            "/usr/local/lib/python3.10/dist-packages/sklearn/utils/validation.py:1143: DataConversionWarning: A column-vector y was passed when a 1d array was expected. Please change the shape of y to (n_samples, ), for example using ravel().\n",
            "  y = column_or_1d(y, warn=True)\n",
            "/usr/local/lib/python3.10/dist-packages/sklearn/utils/validation.py:1143: DataConversionWarning: A column-vector y was passed when a 1d array was expected. Please change the shape of y to (n_samples, ), for example using ravel().\n",
            "  y = column_or_1d(y, warn=True)\n",
            "/usr/local/lib/python3.10/dist-packages/sklearn/utils/validation.py:1143: DataConversionWarning: A column-vector y was passed when a 1d array was expected. Please change the shape of y to (n_samples, ), for example using ravel().\n",
            "  y = column_or_1d(y, warn=True)\n",
            "/usr/local/lib/python3.10/dist-packages/sklearn/utils/validation.py:1143: DataConversionWarning: A column-vector y was passed when a 1d array was expected. Please change the shape of y to (n_samples, ), for example using ravel().\n",
            "  y = column_or_1d(y, warn=True)\n",
            "/usr/local/lib/python3.10/dist-packages/sklearn/neighbors/_classification.py:215: DataConversionWarning: A column-vector y was passed when a 1d array was expected. Please change the shape of y to (n_samples,), for example using ravel().\n",
            "  return self._fit(X, y)\n",
            "/usr/local/lib/python3.10/dist-packages/sklearn/neighbors/_classification.py:215: DataConversionWarning: A column-vector y was passed when a 1d array was expected. Please change the shape of y to (n_samples,), for example using ravel().\n",
            "  return self._fit(X, y)\n",
            "/usr/local/lib/python3.10/dist-packages/sklearn/neighbors/_classification.py:215: DataConversionWarning: A column-vector y was passed when a 1d array was expected. Please change the shape of y to (n_samples,), for example using ravel().\n",
            "  return self._fit(X, y)\n",
            "/usr/local/lib/python3.10/dist-packages/sklearn/neighbors/_classification.py:215: DataConversionWarning: A column-vector y was passed when a 1d array was expected. Please change the shape of y to (n_samples,), for example using ravel().\n",
            "  return self._fit(X, y)\n",
            "/usr/local/lib/python3.10/dist-packages/sklearn/neighbors/_classification.py:215: DataConversionWarning: A column-vector y was passed when a 1d array was expected. Please change the shape of y to (n_samples,), for example using ravel().\n",
            "  return self._fit(X, y)\n",
            "/usr/local/lib/python3.10/dist-packages/sklearn/neighbors/_classification.py:215: DataConversionWarning: A column-vector y was passed when a 1d array was expected. Please change the shape of y to (n_samples,), for example using ravel().\n",
            "  return self._fit(X, y)\n",
            "/usr/local/lib/python3.10/dist-packages/sklearn/neighbors/_classification.py:215: DataConversionWarning: A column-vector y was passed when a 1d array was expected. Please change the shape of y to (n_samples,), for example using ravel().\n",
            "  return self._fit(X, y)\n",
            "/usr/local/lib/python3.10/dist-packages/sklearn/neighbors/_classification.py:215: DataConversionWarning: A column-vector y was passed when a 1d array was expected. Please change the shape of y to (n_samples,), for example using ravel().\n",
            "  return self._fit(X, y)\n",
            "/usr/local/lib/python3.10/dist-packages/sklearn/neighbors/_classification.py:215: DataConversionWarning: A column-vector y was passed when a 1d array was expected. Please change the shape of y to (n_samples,), for example using ravel().\n",
            "  return self._fit(X, y)\n",
            "/usr/local/lib/python3.10/dist-packages/sklearn/neighbors/_classification.py:215: DataConversionWarning: A column-vector y was passed when a 1d array was expected. Please change the shape of y to (n_samples,), for example using ravel().\n",
            "  return self._fit(X, y)\n",
            "/usr/local/lib/python3.10/dist-packages/sklearn/neighbors/_classification.py:215: DataConversionWarning: A column-vector y was passed when a 1d array was expected. Please change the shape of y to (n_samples,), for example using ravel().\n",
            "  return self._fit(X, y)\n",
            "/usr/local/lib/python3.10/dist-packages/sklearn/neighbors/_classification.py:215: DataConversionWarning: A column-vector y was passed when a 1d array was expected. Please change the shape of y to (n_samples,), for example using ravel().\n",
            "  return self._fit(X, y)\n",
            "/usr/local/lib/python3.10/dist-packages/sklearn/neighbors/_classification.py:215: DataConversionWarning: A column-vector y was passed when a 1d array was expected. Please change the shape of y to (n_samples,), for example using ravel().\n",
            "  return self._fit(X, y)\n",
            "/usr/local/lib/python3.10/dist-packages/sklearn/neighbors/_classification.py:215: DataConversionWarning: A column-vector y was passed when a 1d array was expected. Please change the shape of y to (n_samples,), for example using ravel().\n",
            "  return self._fit(X, y)\n"
          ]
        },
        {
          "output_type": "stream",
          "name": "stdout",
          "text": [
            "+---------------------------+----------+--------------------+--------------------+--------------------+\n",
            "| classification algorithms | accuracy |     precision      |       recall       |         f1         |\n",
            "+---------------------------+----------+--------------------+--------------------+--------------------+\n",
            "|         SVM Linear        |  0.809   | 0.8117729613602249 | 0.8080638899207333 | 0.8054464844513045 |\n",
            "|       SVM Polynomial      |  0.747   | 0.7622399866233962 | 0.7442901360474709 | 0.7457242413882829 |\n",
            "|        SVM Sigmoid        |  0.394   | 0.4538437282083073 | 0.3964375751137075 | 0.3891539162597036 |\n",
            "| SVM Radial Basis Function |  0.812   | 0.8070229601657756 | 0.8098864991670668 | 0.8068213516036611 |\n",
            "|    Logistic regression    |  0.783   | 0.7805722822135391 | 0.7814072147995884 | 0.7790413311115769 |\n",
            "|            kNN            |  0.745   | 0.759771455543393  | 0.7466707723615341 | 0.739794109730143  |\n",
            "|       Decision Tree       |  0.659   | 0.6626021948302346 | 0.6574989442582735 | 0.6563700904906742 |\n",
            "+---------------------------+----------+--------------------+--------------------+--------------------+\n"
          ]
        }
      ]
    },
    {
      "cell_type": "markdown",
      "source": [
        "#Task 4.\n",
        "For a given mobile price classification dataset with the following information:\n",
        "\n",
        "*   **Attributes**: 'battery_power', 'blue', 'clock_speed', 'dual_sim', 'fc', 'four_g', 'int_memory', 'm_dep', 'mobile_wt', 'n_cores', 'pc', 'px_height',\n",
        "       'px_width', 'ram', 'sc_h', 'sc_w', 'talk_time', 'three_g',     'touch_screen', 'wifi'\n",
        "*   **class label**: ***price_range*** (0,1,2,3)\n",
        "\n"
      ],
      "metadata": {
        "id": "Z5pp7_h-aP2u"
      }
    },
    {
      "cell_type": "markdown",
      "source": [
        "#Task 4.1.\n",
        "Compare the performance of selected classification algorithms (**Decision Tree, kNN, Logistic Regression**) and **SVM** (using different kernels) with **mobile price classification** based on **accuracy, precision, recall, f1** measures."
      ],
      "metadata": {
        "id": "I348UU6nHjGl"
      }
    },
    {
      "cell_type": "code",
      "source": [
        "# code\n",
        "data3 = pd.read_csv('mobile_train.csv')\n",
        "X = data3.drop(columns='price_range')\n",
        "y = data3[['price_range']]\n",
        "X_train, X_test, y_train, y_test = train_test_split(X,y, test_size=0.3, random_state=1)\n",
        "linear_clf = svm.SVC(kernel='linear')\n",
        "linear_clf.fit(X_train, y_train)\n",
        "y_pred_svm_linear = linear_clf.predict(X_test)\n",
        "linear_svm_accuracy_score = (accuracy_score(y_test, y_pred_svm_linear))\n",
        "linear_svm_precision_score = (precision_score(y_test, y_pred_svm_linear, average='macro'))\n",
        "linear_svm_recall_score = (recall_score(y_test, y_pred_svm_linear, average='macro'))\n",
        "linear_svm_f1_score = (f1_score(y_test, y_pred_svm_linear, average='macro'))\n",
        "\n",
        "poly_clf = svm.SVC(kernel='poly')\n",
        "poly_clf.fit(X_train, y_train)\n",
        "y_pred_svm_poly = poly_clf.predict(X_test)\n",
        "poly_svm_accuracy_score = (accuracy_score(y_test, y_pred_svm_poly))\n",
        "poly_svm_precision_score = (precision_score(y_test, y_pred_svm_poly, average='macro'))\n",
        "poly_svm_recall_score = (recall_score(y_test, y_pred_svm_poly, average='macro'))\n",
        "poly_svm_f1_score = (f1_score(y_test, y_pred_svm_poly, average='macro'))\n",
        "\n",
        "sigmoid_clf = svm.SVC(kernel='sigmoid')\n",
        "sigmoid_clf.fit(X_train, y_train)\n",
        "y_pred_svm_sigmoid = sigmoid_clf.predict(X_test)\n",
        "sigmoid_svm_accuracy_score = (accuracy_score(y_test, y_pred_svm_sigmoid))\n",
        "sigmoid_svm_precision_score = (precision_score(y_test, y_pred_svm_sigmoid, average='macro'))\n",
        "sigmoid_svm_recall_score = (recall_score(y_test, y_pred_svm_sigmoid, average='macro'))\n",
        "sigmoid_svm_f1_score = (f1_score(y_test, y_pred_svm_sigmoid, average='macro'))\n",
        "\n",
        "rbf_clf = svm.SVC(kernel='rbf')\n",
        "rbf_clf.fit(X_train, y_train)\n",
        "y_pred_svm_rbf = rbf_clf.predict(X_test)\n",
        "rbf_svm_accuracy_score = (accuracy_score(y_test, y_pred_svm_rbf))\n",
        "rbf_svm_precision_score = (precision_score(y_test, y_pred_svm_rbf, average='macro'))\n",
        "rbf_svm_recall_score = (recall_score(y_test, y_pred_svm_rbf, average='macro'))\n",
        "rbf_svm_f1_score = (f1_score(y_test, y_pred_svm_rbf, average='macro'))\n",
        "\n",
        "lr_classifier = LogisticRegression(max_iter = 1000)\n",
        "lr_classifier.fit(X_train, y_train)\n",
        "y_pred_lr = lr_classifier.predict(X_test)\n",
        "lr_accuracy_score = (accuracy_score(y_test, y_pred_lr))\n",
        "lr_precision_score = (precision_score(y_test, y_pred_lr, average='macro'))\n",
        "lr_recall_score = (recall_score(y_test, y_pred_lr, average='macro'))\n",
        "lr_f1_score = (f1_score(y_test, y_pred_lr, average='macro'))\n",
        "\n",
        "kNN_accuracy_score = []\n",
        "kNN_precision_score = []\n",
        "kNN_recall_score = []\n",
        "kNN_f1_score = []\n",
        "for i in range (3,30,2):\n",
        "  kNN_classifier = KNeighborsClassifier(n_neighbors=i)\n",
        "  kNN_classifier.fit(X_train,y_train)\n",
        "  y_pred_kNN = kNN_classifier.predict(X_test)\n",
        "  kNN_accuracy_score.append(accuracy_score(y_test, y_pred_kNN))\n",
        "  kNN_precision_score.append(precision_score(y_test, y_pred_kNN, average='macro'))\n",
        "  kNN_recall_score.append(recall_score(y_test, y_pred_kNN, average='macro'))\n",
        "  kNN_f1_score.append(f1_score(y_test, y_pred_kNN, average='macro'))\n",
        "\n",
        "dt_classifier = DecisionTreeClassifier()\n",
        "dt_classifier.fit(X_train, y_train)\n",
        "y_pred_dt = dt_classifier.predict(X_test)\n",
        "dt_accuracy_score = (accuracy_score(y_test, y_pred_dt))\n",
        "dt_precision_score = (precision_score(y_test, y_pred_dt, average='macro'))\n",
        "dt_recall_score = (recall_score(y_test, y_pred_dt, average='macro'))\n",
        "dt_f1_score = (f1_score(y_test, y_pred_dt, average='macro'))\n",
        "\n",
        "t = PrettyTable(['classification algorithms', 'accuracy', 'precision', 'recall', 'f1'])\n",
        "t.add_row(['SVM Linear', linear_svm_accuracy_score, linear_svm_precision_score, linear_svm_recall_score, linear_svm_f1_score])\n",
        "t.add_row(['SVM Polynomial', poly_svm_accuracy_score, poly_svm_precision_score, poly_svm_recall_score, poly_svm_f1_score])\n",
        "t.add_row(['SVM Sigmoid', sigmoid_svm_accuracy_score, sigmoid_svm_precision_score, sigmoid_svm_recall_score, sigmoid_svm_f1_score])\n",
        "t.add_row(['SVM Radial Basis Function', rbf_svm_accuracy_score, rbf_svm_precision_score, rbf_svm_recall_score, rbf_svm_f1_score])\n",
        "t.add_row(['Logistic regression', lr_accuracy_score, lr_precision_score, lr_recall_score, lr_f1_score])\n",
        "t.add_row(['kNN', np.mean(kNN_accuracy_score), np.mean(kNN_precision_score), np.mean(kNN_recall_score), np.mean(kNN_f1_score)])\n",
        "t.add_row(['Decision Tree', dt_accuracy_score, dt_precision_score, dt_recall_score, dt_f1_score])\n",
        "\n",
        "print(t)"
      ],
      "metadata": {
        "id": "Rw_-8FIf2KxW",
        "colab": {
          "base_uri": "https://localhost:8080/"
        },
        "outputId": "d36accb1-0fed-44c8-c792-480d8ac3963f"
      },
      "execution_count": 53,
      "outputs": [
        {
          "output_type": "stream",
          "name": "stderr",
          "text": [
            "/usr/local/lib/python3.10/dist-packages/sklearn/utils/validation.py:1143: DataConversionWarning: A column-vector y was passed when a 1d array was expected. Please change the shape of y to (n_samples, ), for example using ravel().\n",
            "  y = column_or_1d(y, warn=True)\n",
            "/usr/local/lib/python3.10/dist-packages/sklearn/utils/validation.py:1143: DataConversionWarning: A column-vector y was passed when a 1d array was expected. Please change the shape of y to (n_samples, ), for example using ravel().\n",
            "  y = column_or_1d(y, warn=True)\n",
            "/usr/local/lib/python3.10/dist-packages/sklearn/utils/validation.py:1143: DataConversionWarning: A column-vector y was passed when a 1d array was expected. Please change the shape of y to (n_samples, ), for example using ravel().\n",
            "  y = column_or_1d(y, warn=True)\n",
            "/usr/local/lib/python3.10/dist-packages/sklearn/metrics/_classification.py:1344: UndefinedMetricWarning: Precision is ill-defined and being set to 0.0 in labels with no predicted samples. Use `zero_division` parameter to control this behavior.\n",
            "  _warn_prf(average, modifier, msg_start, len(result))\n",
            "/usr/local/lib/python3.10/dist-packages/sklearn/utils/validation.py:1143: DataConversionWarning: A column-vector y was passed when a 1d array was expected. Please change the shape of y to (n_samples, ), for example using ravel().\n",
            "  y = column_or_1d(y, warn=True)\n",
            "/usr/local/lib/python3.10/dist-packages/sklearn/utils/validation.py:1143: DataConversionWarning: A column-vector y was passed when a 1d array was expected. Please change the shape of y to (n_samples, ), for example using ravel().\n",
            "  y = column_or_1d(y, warn=True)\n",
            "/usr/local/lib/python3.10/dist-packages/sklearn/linear_model/_logistic.py:458: ConvergenceWarning: lbfgs failed to converge (status=1):\n",
            "STOP: TOTAL NO. of ITERATIONS REACHED LIMIT.\n",
            "\n",
            "Increase the number of iterations (max_iter) or scale the data as shown in:\n",
            "    https://scikit-learn.org/stable/modules/preprocessing.html\n",
            "Please also refer to the documentation for alternative solver options:\n",
            "    https://scikit-learn.org/stable/modules/linear_model.html#logistic-regression\n",
            "  n_iter_i = _check_optimize_result(\n",
            "/usr/local/lib/python3.10/dist-packages/sklearn/neighbors/_classification.py:215: DataConversionWarning: A column-vector y was passed when a 1d array was expected. Please change the shape of y to (n_samples,), for example using ravel().\n",
            "  return self._fit(X, y)\n",
            "/usr/local/lib/python3.10/dist-packages/sklearn/neighbors/_classification.py:215: DataConversionWarning: A column-vector y was passed when a 1d array was expected. Please change the shape of y to (n_samples,), for example using ravel().\n",
            "  return self._fit(X, y)\n",
            "/usr/local/lib/python3.10/dist-packages/sklearn/neighbors/_classification.py:215: DataConversionWarning: A column-vector y was passed when a 1d array was expected. Please change the shape of y to (n_samples,), for example using ravel().\n",
            "  return self._fit(X, y)\n",
            "/usr/local/lib/python3.10/dist-packages/sklearn/neighbors/_classification.py:215: DataConversionWarning: A column-vector y was passed when a 1d array was expected. Please change the shape of y to (n_samples,), for example using ravel().\n",
            "  return self._fit(X, y)\n",
            "/usr/local/lib/python3.10/dist-packages/sklearn/neighbors/_classification.py:215: DataConversionWarning: A column-vector y was passed when a 1d array was expected. Please change the shape of y to (n_samples,), for example using ravel().\n",
            "  return self._fit(X, y)\n",
            "/usr/local/lib/python3.10/dist-packages/sklearn/neighbors/_classification.py:215: DataConversionWarning: A column-vector y was passed when a 1d array was expected. Please change the shape of y to (n_samples,), for example using ravel().\n",
            "  return self._fit(X, y)\n",
            "/usr/local/lib/python3.10/dist-packages/sklearn/neighbors/_classification.py:215: DataConversionWarning: A column-vector y was passed when a 1d array was expected. Please change the shape of y to (n_samples,), for example using ravel().\n",
            "  return self._fit(X, y)\n",
            "/usr/local/lib/python3.10/dist-packages/sklearn/neighbors/_classification.py:215: DataConversionWarning: A column-vector y was passed when a 1d array was expected. Please change the shape of y to (n_samples,), for example using ravel().\n",
            "  return self._fit(X, y)\n",
            "/usr/local/lib/python3.10/dist-packages/sklearn/neighbors/_classification.py:215: DataConversionWarning: A column-vector y was passed when a 1d array was expected. Please change the shape of y to (n_samples,), for example using ravel().\n",
            "  return self._fit(X, y)\n",
            "/usr/local/lib/python3.10/dist-packages/sklearn/neighbors/_classification.py:215: DataConversionWarning: A column-vector y was passed when a 1d array was expected. Please change the shape of y to (n_samples,), for example using ravel().\n",
            "  return self._fit(X, y)\n",
            "/usr/local/lib/python3.10/dist-packages/sklearn/neighbors/_classification.py:215: DataConversionWarning: A column-vector y was passed when a 1d array was expected. Please change the shape of y to (n_samples,), for example using ravel().\n",
            "  return self._fit(X, y)\n",
            "/usr/local/lib/python3.10/dist-packages/sklearn/neighbors/_classification.py:215: DataConversionWarning: A column-vector y was passed when a 1d array was expected. Please change the shape of y to (n_samples,), for example using ravel().\n",
            "  return self._fit(X, y)\n"
          ]
        },
        {
          "output_type": "stream",
          "name": "stdout",
          "text": [
            "+---------------------------+---------------------+---------------------+--------------------+--------------------+\n",
            "| classification algorithms |       accuracy      |      precision      |       recall       |         f1         |\n",
            "+---------------------------+---------------------+---------------------+--------------------+--------------------+\n",
            "|         SVM Linear        |        0.965        |  0.9656026142383909 | 0.9664704193647147 | 0.9659476655535535 |\n",
            "|       SVM Polynomial      |  0.9533333333333334 |  0.9547763085875609 | 0.9548270106156013 | 0.9546134787575309 |\n",
            "|        SVM Sigmoid        | 0.17666666666666667 | 0.21872755510749026 | 0.1920936876473789 | 0.2006605507386361 |\n",
            "| SVM Radial Basis Function |  0.9433333333333334 |  0.9434031099766766 | 0.945948207315657  | 0.9444130600847882 |\n",
            "|    Logistic regression    |        0.685        |  0.6866861617516411 | 0.6964421816351347 | 0.6897800704394628 |\n",
            "|            kNN            |  0.9192857142857144 |  0.9214422166648116 | 0.9213499419156177 | 0.9212149663834245 |\n",
            "|       Decision Tree       |  0.8616666666666667 |  0.8673661717851697 | 0.864563676811999  | 0.8635800417747679 |\n",
            "+---------------------------+---------------------+---------------------+--------------------+--------------------+\n"
          ]
        },
        {
          "output_type": "stream",
          "name": "stderr",
          "text": [
            "/usr/local/lib/python3.10/dist-packages/sklearn/neighbors/_classification.py:215: DataConversionWarning: A column-vector y was passed when a 1d array was expected. Please change the shape of y to (n_samples,), for example using ravel().\n",
            "  return self._fit(X, y)\n",
            "/usr/local/lib/python3.10/dist-packages/sklearn/neighbors/_classification.py:215: DataConversionWarning: A column-vector y was passed when a 1d array was expected. Please change the shape of y to (n_samples,), for example using ravel().\n",
            "  return self._fit(X, y)\n"
          ]
        }
      ]
    },
    {
      "cell_type": "markdown",
      "source": [
        "#Task 4.2.\n",
        "Predict class label for test set using the best model found in task 4.1"
      ],
      "metadata": {
        "id": "TY35jiORHPJh"
      }
    },
    {
      "cell_type": "code",
      "source": [
        "#code\n",
        "data4 = pd.read_csv('mobile_test.csv')\n",
        "X = data4.drop(columns='id', inplace=True)\n",
        "linear_clf = svm.SVC(kernel='linear')\n",
        "linear_clf.fit(X_train, y_train)\n",
        "y_pred_svm_linear = linear_clf.predict(X_test)\n",
        "y_pred_svm_linear"
      ],
      "metadata": {
        "id": "z_irQuKyHtdP",
        "colab": {
          "base_uri": "https://localhost:8080/"
        },
        "outputId": "ccef3748-fd6a-419c-88be-f7c01076a4c1"
      },
      "execution_count": 59,
      "outputs": [
        {
          "output_type": "stream",
          "name": "stderr",
          "text": [
            "/usr/local/lib/python3.10/dist-packages/sklearn/utils/validation.py:1143: DataConversionWarning: A column-vector y was passed when a 1d array was expected. Please change the shape of y to (n_samples, ), for example using ravel().\n",
            "  y = column_or_1d(y, warn=True)\n"
          ]
        },
        {
          "output_type": "execute_result",
          "data": {
            "text/plain": [
              "array([0, 0, 1, 1, 2, 2, 0, 2, 2, 3, 0, 3, 1, 1, 3, 0, 0, 1, 1, 1, 3, 3,\n",
              "       1, 2, 3, 2, 2, 3, 2, 2, 2, 1, 2, 0, 3, 3, 0, 0, 0, 1, 2, 1, 2, 1,\n",
              "       0, 1, 2, 2, 1, 2, 1, 3, 1, 3, 1, 3, 1, 3, 3, 1, 0, 2, 1, 3, 2, 1,\n",
              "       1, 2, 3, 2, 1, 2, 0, 3, 3, 1, 2, 1, 0, 0, 0, 3, 1, 2, 3, 2, 2, 0,\n",
              "       1, 1, 3, 0, 1, 1, 2, 3, 3, 0, 3, 3, 3, 3, 0, 1, 2, 0, 0, 1, 0, 2,\n",
              "       0, 3, 1, 1, 2, 2, 3, 1, 2, 1, 1, 0, 0, 0, 3, 0, 1, 1, 0, 1, 0, 2,\n",
              "       0, 3, 3, 0, 3, 2, 2, 1, 0, 0, 3, 1, 0, 2, 0, 0, 0, 1, 3, 3, 1, 1,\n",
              "       0, 1, 1, 0, 3, 2, 3, 1, 2, 2, 3, 1, 2, 2, 3, 2, 2, 0, 2, 2, 0, 3,\n",
              "       3, 0, 0, 3, 0, 3, 0, 0, 2, 3, 3, 1, 2, 1, 2, 3, 2, 2, 0, 1, 1, 3,\n",
              "       3, 1, 3, 2, 0, 1, 2, 2, 1, 1, 0, 2, 0, 3, 2, 0, 3, 0, 1, 0, 2, 1,\n",
              "       0, 1, 2, 2, 3, 3, 0, 3, 2, 1, 0, 2, 3, 3, 2, 1, 0, 1, 3, 2, 3, 2,\n",
              "       2, 2, 0, 1, 3, 0, 3, 3, 3, 1, 2, 2, 0, 1, 1, 3, 2, 0, 3, 1, 1, 1,\n",
              "       2, 1, 2, 0, 3, 2, 2, 0, 0, 1, 3, 3, 0, 1, 1, 2, 3, 2, 2, 2, 2, 0,\n",
              "       0, 3, 0, 0, 1, 3, 2, 3, 0, 0, 1, 2, 3, 2, 2, 2, 0, 0, 3, 1, 1, 0,\n",
              "       0, 0, 3, 1, 2, 1, 0, 2, 3, 2, 3, 3, 3, 1, 1, 1, 2, 1, 1, 0, 3, 3,\n",
              "       3, 1, 1, 0, 1, 2, 3, 2, 0, 3, 3, 2, 2, 2, 2, 2, 3, 2, 3, 2, 1, 3,\n",
              "       1, 0, 3, 1, 3, 1, 2, 2, 3, 0, 2, 0, 1, 1, 2, 3, 0, 0, 2, 3, 1, 0,\n",
              "       3, 3, 3, 0, 2, 2, 2, 3, 3, 3, 3, 0, 3, 2, 0, 1, 3, 2, 2, 0, 2, 2,\n",
              "       3, 3, 1, 0, 1, 0, 0, 0, 1, 2, 3, 1, 1, 3, 0, 1, 1, 3, 3, 2, 2, 3,\n",
              "       3, 3, 2, 2, 0, 1, 3, 1, 1, 2, 1, 1, 1, 0, 2, 1, 1, 1, 0, 0, 3, 2,\n",
              "       0, 3, 3, 1, 1, 3, 0, 2, 3, 0, 2, 3, 1, 0, 2, 0, 2, 0, 3, 2, 0, 1,\n",
              "       0, 2, 0, 3, 2, 2, 0, 1, 0, 1, 1, 2, 1, 2, 1, 1, 1, 2, 0, 2, 1, 1,\n",
              "       3, 1, 3, 2, 2, 0, 2, 2, 2, 1, 1, 2, 0, 0, 2, 0, 2, 1, 1, 2, 1, 2,\n",
              "       2, 3, 0, 3, 1, 1, 0, 0, 1, 0, 3, 1, 3, 1, 1, 3, 3, 3, 3, 1, 0, 3,\n",
              "       3, 1, 2, 1, 2, 0, 1, 2, 3, 3, 1, 2, 0, 1, 1, 0, 0, 2, 3, 2, 1, 2,\n",
              "       3, 1, 1, 3, 1, 2, 2, 0, 3, 1, 2, 0, 2, 3, 3, 2, 2, 3, 3, 2, 0, 1,\n",
              "       0, 2, 3, 2, 3, 0, 2, 3, 1, 0, 2, 2, 0, 1, 2, 2, 0, 3, 3, 2, 3, 0,\n",
              "       2, 0, 2, 2, 3, 3])"
            ]
          },
          "metadata": {},
          "execution_count": 59
        }
      ]
    },
    {
      "cell_type": "markdown",
      "source": [
        "#Task 5.\n",
        "\n",
        "*   5.1.\tPerform SVM algorithm to **spambase dataset** using **linear kernel**.\n",
        "*   5.2.\tCompare the obtained results in task 5.1 with **SVM** using other kernels (**Polynomial Kernel, Sigmoid Kernel, Radial Basis Function Kernel**). Some metrics could be used: **accuracy, precision, recall, f1** measures"
      ],
      "metadata": {
        "id": "7SCMLfMfyWPU"
      }
    },
    {
      "cell_type": "code",
      "source": [
        "#code"
      ],
      "metadata": {
        "id": "CU4u3CvDyfxg"
      },
      "execution_count": null,
      "outputs": []
    },
    {
      "cell_type": "markdown",
      "source": [
        "#Finally,\n",
        "Save a copy in your Github. Remember renaming the notebook."
      ],
      "metadata": {
        "id": "Ok7RGkea_b7n"
      }
    }
  ]
}