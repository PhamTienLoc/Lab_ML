{
  "nbformat": 4,
  "nbformat_minor": 0,
  "metadata": {
    "colab": {
      "provenance": [],
      "include_colab_link": true
    },
    "kernelspec": {
      "name": "python3",
      "display_name": "Python 3"
    },
    "language_info": {
      "name": "python"
    }
  },
  "cells": [
    {
      "cell_type": "markdown",
      "metadata": {
        "id": "view-in-github",
        "colab_type": "text"
      },
      "source": [
        "<a href=\"https://colab.research.google.com/github/PhamTienLoc/Lab_ML/blob/main/Lab_8_21130429_PhamTienLoc.ipynb\" target=\"_parent\"><img src=\"https://colab.research.google.com/assets/colab-badge.svg\" alt=\"Open In Colab\"/></a>"
      ]
    },
    {
      "cell_type": "markdown",
      "source": [
        "The main aim of this lab is to deal with the **pipeline** technique and **MultilayerPerceptron** algorithm\n",
        "\n",
        "*   **Deadline: 23:59, 06/5/2024**\n",
        "\n"
      ],
      "metadata": {
        "id": "LMzehe0sy5wr"
      }
    },
    {
      "cell_type": "markdown",
      "source": [
        "# Import libraries"
      ],
      "metadata": {
        "id": "H4nJmxp9zGX4"
      }
    },
    {
      "cell_type": "code",
      "execution_count": 43,
      "metadata": {
        "id": "DoVWQ8AEyc-C"
      },
      "outputs": [],
      "source": [
        "# code\n",
        "import numpy as np\n",
        "import pandas as pd\n",
        "import matplotlib.pyplot as plt\n",
        "from sklearn import metrics\n",
        "from sklearn.model_selection import train_test_split\n",
        "from sklearn import datasets\n",
        "from sklearn import svm\n",
        "from sklearn.neighbors import KNeighborsClassifier\n",
        "from sklearn.ensemble import RandomForestClassifier\n",
        "from sklearn.linear_model import LogisticRegression\n",
        "from sklearn import metrics\n",
        "from prettytable import PrettyTable\n",
        "from sklearn.model_selection import GridSearchCV\n",
        "from sklearn.pipeline import Pipeline\n",
        "from sklearn.preprocessing import StandardScaler\n",
        "from sklearn.datasets import make_classification\n",
        "from sklearn.decomposition import PCA\n",
        "from sklearn import set_config\n",
        "from sklearn.neural_network import MLPClassifier\n",
        "from sklearn.feature_selection import SelectKBest, chi2"
      ]
    },
    {
      "cell_type": "code",
      "source": [
        "from google.colab import drive\n",
        "drive.mount('/content/gdrive')\n",
        "%cd '/content/gdrive/MyDrive/data'"
      ],
      "metadata": {
        "colab": {
          "base_uri": "https://localhost:8080/"
        },
        "id": "9esccuPJf8_L",
        "outputId": "e644e1b5-bb09-4d1a-8fb2-940ed1b49d48"
      },
      "execution_count": 2,
      "outputs": [
        {
          "output_type": "stream",
          "name": "stdout",
          "text": [
            "Mounted at /content/gdrive\n",
            "/content/gdrive/MyDrive/data\n"
          ]
        }
      ]
    },
    {
      "cell_type": "markdown",
      "source": [
        "#Task 1. With **iris** dataset\n",
        "*  Apply **pipeline** including preprocessing steps (i.e., **StandardScaler**, **SimpleImputer**, **feature selection**, **KBinsDiscretizer**, …) and classification algorithms (i.e., **Random forest, kNN, Naïve Bayes**).\n"
      ],
      "metadata": {
        "id": "x_dG9SA5OhGT"
      }
    },
    {
      "cell_type": "code",
      "source": [
        "#code\n",
        "iris = datasets.load_iris()\n",
        "X = iris.data\n",
        "y = iris.target\n",
        "X_train, X_test, y_train, y_test = train_test_split(X,y, test_size=0.2, random_state=0)\n",
        "\n",
        "pipe_lr = Pipeline([('scl', StandardScaler()),('pca', PCA(n_components=4)),('clf', RandomForestClassifier(n_estimators=100))])\n",
        "pipe_lr.fit(X_train, y_train)\n",
        "\n",
        "y_pred = pipe_lr.predict(X_test)\n",
        "\n",
        "print('Accuracy:', metrics.accuracy_score(y_test, y_pred))\n",
        "\n",
        "set_config(display=\"text\")\n",
        "pipe_lr\n"
      ],
      "metadata": {
        "id": "62jExOZ952fF",
        "colab": {
          "base_uri": "https://localhost:8080/"
        },
        "outputId": "dc01c88c-16d4-40e1-cfd4-d723c0ae9785"
      },
      "execution_count": 11,
      "outputs": [
        {
          "output_type": "stream",
          "name": "stdout",
          "text": [
            "Accuracy: 1.0\n"
          ]
        },
        {
          "output_type": "execute_result",
          "data": {
            "text/plain": [
              "Pipeline(steps=[('scl', StandardScaler()), ('pca', PCA(n_components=4)),\n",
              "                ('clf', RandomForestClassifier())])"
            ]
          },
          "metadata": {},
          "execution_count": 11
        }
      ]
    },
    {
      "cell_type": "markdown",
      "source": [
        "#Task 2. With **fashion** dataset\n",
        "*   2.1. Apply **MultilayerPerceptron** classification with 1 hidden layer\n",
        "having 10 nodes"
      ],
      "metadata": {
        "id": "kNv07ARGzOUm"
      }
    },
    {
      "cell_type": "code",
      "source": [
        "# code\n",
        "data2 = pd.read_csv('fashion_train.csv')\n",
        "data3 = pd.read_csv('fashion_test.csv')\n",
        "X_train = data2.drop(columns='y')\n",
        "y_train = data2[['y']]\n",
        "X_test = data3.drop(columns='y')\n",
        "y_test = data3[['y']]\n",
        "\n",
        "clf = MLPClassifier(solver='lbfgs', alpha=1e-5, hidden_layer_sizes=(10), random_state=1)\n",
        "clf.fit(X_train, y_train.values.ravel())\n",
        "y_pred = clf.predict(X_test)\n",
        "print('Accuracy:', metrics.accuracy_score(y_test, y_pred))"
      ],
      "metadata": {
        "id": "sOsg77IBzEyo",
        "colab": {
          "base_uri": "https://localhost:8080/"
        },
        "outputId": "4182c88a-cf1c-49fc-d90c-0fcbb59c5196"
      },
      "execution_count": 19,
      "outputs": [
        {
          "output_type": "stream",
          "name": "stdout",
          "text": [
            "Accuracy: 0.148\n"
          ]
        }
      ]
    },
    {
      "cell_type": "markdown",
      "source": [
        "*   2.2. Apply **MultilayerPerceptron** algorithm with the following settings (the first hidden layer has 250 neuron, the second one has 100 neurons)."
      ],
      "metadata": {
        "id": "pnoVB8J4vV36"
      }
    },
    {
      "cell_type": "code",
      "source": [
        "# code\n",
        "clf2 = MLPClassifier(solver='lbfgs', alpha=1e-5, hidden_layer_sizes=(250, 100), random_state=1)\n",
        "clf2.fit(X_train, y_train.values.ravel())\n",
        "y_pred2 = clf2.predict(X_test)\n",
        "print('Accuracy2:', metrics.accuracy_score(y_test, y_pred2))"
      ],
      "metadata": {
        "id": "-ZTSvsJdvYqI",
        "outputId": "5f51d8ce-2931-4ef2-b9c3-dc659c9659ff",
        "colab": {
          "base_uri": "https://localhost:8080/"
        }
      },
      "execution_count": 16,
      "outputs": [
        {
          "output_type": "stream",
          "name": "stdout",
          "text": [
            "Accuracy2: 0.762\n"
          ]
        }
      ]
    },
    {
      "cell_type": "markdown",
      "source": [
        "*   2.3. Find the best hyperparameters using **GridSearchCV**"
      ],
      "metadata": {
        "id": "uyey-ndXvZlb"
      }
    },
    {
      "cell_type": "code",
      "source": [
        "#code\n",
        "mlp_param_grid = {'hidden_layer_sizes': [(100), (50,100)],\n",
        "              'activation': ['tanh','relu']}\n",
        "\n",
        "grid_mlp_class = GridSearchCV(estimator = MLPClassifier(max_iter=10000), param_grid = mlp_param_grid, n_jobs = -1)\n",
        "\n",
        "grid_mlp_class.fit(X_train, y_train.values.ravel())\n",
        "y_pred_mlp = grid_mlp_class.predict(X_test)\n",
        "mlp_accuracy_score = metrics.accuracy_score(y_test, y_pred_mlp)\n",
        "mlp_precision_score = metrics.precision_score(y_test, y_pred_mlp, average='macro')\n",
        "mlp_recall_score = metrics.recall_score(y_test, y_pred_mlp, average='macro')\n",
        "mlp_f1_score = metrics.f1_score(y_test, y_pred_mlp, average='macro')\n",
        "\n",
        "#kNN\n",
        "kNN_classifier = KNeighborsClassifier(n_neighbors = 5)\n",
        "kNN_classifier.fit(X_train,y_train)\n",
        "y_pred_kNN = kNN_classifier.predict(X_test)\n",
        "kNN_accuracy_score = metrics.accuracy_score(y_test, y_pred_kNN)\n",
        "kNN_precision_score = metrics.precision_score(y_test, y_pred_kNN, average='macro')\n",
        "kNN_recall_score = metrics.recall_score(y_test, y_pred_kNN, average='macro')\n",
        "kNN_f1_score = metrics.f1_score(y_test, y_pred_kNN, average='macro')\n",
        "\n",
        "#RandomForest\n",
        "rf_clf = RandomForestClassifier(n_estimators = 100)\n",
        "rf_clf.fit(X_train, y_train.values.ravel())\n",
        "y_pred_rf = rf_clf.predict(X_test)\n",
        "rf_accuracy_score = metrics.accuracy_score(y_test, y_pred_rf)\n",
        "rf_precision_score = metrics.precision_score(y_test, y_pred_rf, average='macro')\n",
        "rf_recall_score = metrics.recall_score(y_test, y_pred_rf, average='macro')\n",
        "rf_f1_score = metrics.f1_score(y_test, y_pred_rf, average='macro')"
      ],
      "metadata": {
        "id": "Qzh_D-rgvbv9",
        "outputId": "51ba1c79-e668-45a2-da44-6c844534fd52",
        "colab": {
          "base_uri": "https://localhost:8080/"
        }
      },
      "execution_count": 28,
      "outputs": [
        {
          "output_type": "stream",
          "name": "stderr",
          "text": [
            "/usr/local/lib/python3.10/dist-packages/sklearn/neighbors/_classification.py:215: DataConversionWarning: A column-vector y was passed when a 1d array was expected. Please change the shape of y to (n_samples,), for example using ravel().\n",
            "  return self._fit(X, y)\n"
          ]
        }
      ]
    },
    {
      "cell_type": "markdown",
      "source": [
        "*   2.4. Compare the **MultilayerPerceptron** using the best hyperparameters in 2.3 and other classification algorithms (i.e., Random forest, kNN, Naïve Bayes)  in termns of accuracy, precision, recall, and F1"
      ],
      "metadata": {
        "id": "ol1U_T_NvcqV"
      }
    },
    {
      "cell_type": "code",
      "source": [
        "#code\n",
        "t = PrettyTable(['classification algorithm', 'accuracy', 'precision', 'recall', 'f1'])\n",
        "t.add_row([grid_mlp_class.best_estimator_, mlp_accuracy_score, mlp_precision_score, mlp_recall_score, mlp_f1_score])\n",
        "t.add_row(['kNN', kNN_accuracy_score, kNN_precision_score, kNN_recall_score, kNN_f1_score])\n",
        "t.add_row(['Random Forest', rf_accuracy_score, rf_precision_score, rf_recall_score, rf_f1_score])\n",
        "\n",
        "print(t)"
      ],
      "metadata": {
        "id": "5ZE7A0Au1Pg0",
        "outputId": "26020e14-0f1a-49ab-b204-44f87f043589",
        "colab": {
          "base_uri": "https://localhost:8080/"
        }
      },
      "execution_count": 29,
      "outputs": [
        {
          "output_type": "stream",
          "name": "stdout",
          "text": [
            "+-------------------------------------------------------+----------+--------------------+--------------------+--------------------+\n",
            "|                classification algorithm               | accuracy |     precision      |       recall       |         f1         |\n",
            "+-------------------------------------------------------+----------+--------------------+--------------------+--------------------+\n",
            "| MLPClassifier(hidden_layer_sizes=100, max_iter=10000) |  0.747   | 0.7480211554184114 | 0.7467266842285726 | 0.7445117464697836 |\n",
            "|                          kNN                          |  0.761   | 0.7769873089533864 |  0.76181486566761  | 0.7569379032729887 |\n",
            "|                     Random Forest                     |  0.815   | 0.811351977406431  | 0.8118867957442077 | 0.8068016343988861 |\n",
            "+-------------------------------------------------------+----------+--------------------+--------------------+--------------------+\n"
          ]
        }
      ]
    },
    {
      "cell_type": "markdown",
      "source": [
        "#Task 3. With **breast cancer** dataset"
      ],
      "metadata": {
        "id": "SBSLD_k3Pk3X"
      }
    },
    {
      "cell_type": "markdown",
      "source": [
        "*   3.1. Apply **GridSearchCV** to **MultilayperPerceptron** to find the best hyperparameters (the setting of hyperparameters chosen by students)"
      ],
      "metadata": {
        "id": "w1IZborjPzMH"
      }
    },
    {
      "cell_type": "code",
      "source": [
        "#code\n",
        "cancer = datasets.load_breast_cancer()\n",
        "X = cancer.data\n",
        "y = cancer.target\n",
        "X_train, X_test, y_train, y_test = train_test_split(X,y, test_size= 0.2, random_state = 1)\n",
        "\n",
        "grid_mlp_class.fit(X_train, y_train)\n",
        "grid_mlp_class.best_estimator_\n",
        "y_pred_mlp = grid_mlp_class.predict(X_test)\n",
        "mlp_accuracy_score = metrics.accuracy_score(y_test, y_pred_mlp)\n",
        "mlp_precision_score = metrics.precision_score(y_test, y_pred_mlp, average='macro')\n",
        "mlp_recall_score = metrics.recall_score(y_test, y_pred_mlp, average='macro')\n",
        "mlp_f1_score = metrics.f1_score(y_test, y_pred_mlp, average='macro')"
      ],
      "metadata": {
        "id": "m-mbZEK0QZTv"
      },
      "execution_count": 41,
      "outputs": []
    },
    {
      "cell_type": "code",
      "source": [
        "#kNN\n",
        "kNN_classifier.fit(X_train,y_train)\n",
        "y_pred_kNN = kNN_classifier.predict(X_test)\n",
        "kNN_accuracy_score = metrics.accuracy_score(y_test, y_pred_kNN)\n",
        "kNN_precision_score = metrics.precision_score(y_test, y_pred_kNN, average='macro')\n",
        "kNN_recall_score = metrics.recall_score(y_test, y_pred_kNN, average='macro')\n",
        "kNN_f1_score = metrics.f1_score(y_test, y_pred_kNN, average='macro')\n",
        "\n",
        "#RandomForest\n",
        "rf_clf.fit(X_train, y_train)\n",
        "y_pred_rf = rf_clf.predict(X_test)\n",
        "rf_accuracy_score = metrics.accuracy_score(y_test, y_pred_rf)\n",
        "rf_precision_score = metrics.precision_score(y_test, y_pred_rf, average='macro')\n",
        "rf_recall_score = metrics.recall_score(y_test, y_pred_rf, average='macro')\n",
        "rf_f1_score = metrics.f1_score(y_test, y_pred_rf, average='macro')"
      ],
      "metadata": {
        "id": "XppgSWQIVs5r"
      },
      "execution_count": 36,
      "outputs": []
    },
    {
      "cell_type": "markdown",
      "source": [
        "*   3.2. Compare the **MultilayerPerceptron** using the best hyperparameters in 3.1) and other classification algorithms (i.e., Random forest, kNN, Naïve Bayes)  in termns of accuracy, precision, recall, and F1"
      ],
      "metadata": {
        "id": "H77rqX7sPv9v"
      }
    },
    {
      "cell_type": "code",
      "source": [
        "#code\n",
        "t2 = PrettyTable(['classification algorithm', 'accuracy', 'precision', 'recall', 'f1'])\n",
        "t2.add_row([grid_mlp_class.best_estimator_, mlp_accuracy_score, mlp_precision_score, mlp_recall_score, mlp_f1_score])\n",
        "t2.add_row(['kNN', kNN_accuracy_score, kNN_precision_score, kNN_recall_score, kNN_f1_score])\n",
        "t2.add_row(['Random Forest', rf_accuracy_score, rf_precision_score, rf_recall_score, rf_f1_score])\n",
        "\n",
        "print(t2)"
      ],
      "metadata": {
        "id": "pBU6vVH_QakV",
        "outputId": "6a8deaad-dabd-4588-b5f7-1b67b416d63a",
        "colab": {
          "base_uri": "https://localhost:8080/"
        }
      },
      "execution_count": 42,
      "outputs": [
        {
          "output_type": "stream",
          "name": "stdout",
          "text": [
            "+--------------------------------------------------------------------------+--------------------+--------------------+--------------------+--------------------+\n",
            "|                         classification algorithm                         |      accuracy      |     precision      |       recall       |         f1         |\n",
            "+--------------------------------------------------------------------------+--------------------+--------------------+--------------------+--------------------+\n",
            "| MLPClassifier(activation='tanh', hidden_layer_sizes=100, max_iter=10000) | 0.9473684210526315 | 0.9539473684210527 | 0.933531746031746  | 0.9422297297297297 |\n",
            "|                                   kNN                                    | 0.9385964912280702 | 0.941025641025641  | 0.9265873015873016 | 0.9329805996472663 |\n",
            "|                              Random Forest                               | 0.956140350877193  | 0.9605128205128205 | 0.9454365079365079 | 0.9521289997480473 |\n",
            "+--------------------------------------------------------------------------+--------------------+--------------------+--------------------+--------------------+\n"
          ]
        }
      ]
    },
    {
      "cell_type": "markdown",
      "source": [
        "#Task 4. With **mobile price classification** dataset\n",
        "\n",
        "\n",
        "*   4.1. Build your own Neural Network using **MultilayerPerceptron**  \n",
        "\n"
      ],
      "metadata": {
        "id": "4JdCVnj_89Fl"
      }
    },
    {
      "cell_type": "code",
      "source": [
        "#code\n",
        "mobile = pd.read_csv('mobile.csv')\n",
        "X = mobile.drop(columns='price_range')\n",
        "y = mobile[['price_range']]\n",
        "\n",
        "X_new = SelectKBest(chi2, k = 10).fit_transform(X, y)\n",
        "X_train, X_test, y_train, y_test = train_test_split(X_new, y, test_size=0.2)\n",
        "\n",
        "clf = MLPClassifier(max_iter=10000, hidden_layer_sizes=(150,100,50), random_state=1)\n",
        "clf.fit(X_train, y_train.values.ravel())\n",
        "y_pred = clf.predict(X_test)\n",
        "print('Accuracy:', metrics.accuracy_score(y_test, y_pred))"
      ],
      "metadata": {
        "id": "ePpTY6Lk9X2V",
        "outputId": "92f5e947-d911-4b01-b2ba-9fab62ad97f6",
        "colab": {
          "base_uri": "https://localhost:8080/"
        }
      },
      "execution_count": 46,
      "outputs": [
        {
          "output_type": "stream",
          "name": "stdout",
          "text": [
            "Accuracy: 0.6325\n"
          ]
        }
      ]
    },
    {
      "cell_type": "markdown",
      "source": [
        "*   4.2. Apply **GridSearchCV** to **MultilayperPerceptron** to find the best hyperparameters (the setting of hyperparameters chosen by students)"
      ],
      "metadata": {
        "id": "yqlFS6ic9ZCV"
      }
    },
    {
      "cell_type": "code",
      "source": [
        "#code\n",
        "mlp_param_grid = {'hidden_layer_sizes': [(100, 50), (150,100,50)],\n",
        "              'activation': ['tanh','relu']}\n",
        "\n",
        "grid_mlp_class = GridSearchCV(estimator = MLPClassifier(max_iter=10000), param_grid = mlp_param_grid, n_jobs = -1)\n",
        "grid_mlp_class.fit(X_train, y_train.values.ravel())\n",
        "grid_mlp_class.best_estimator_"
      ],
      "metadata": {
        "id": "OvW2yGUU9_ik",
        "outputId": "eab22529-cefb-4dca-d147-5afc29c6a4d1",
        "colab": {
          "base_uri": "https://localhost:8080/"
        }
      },
      "execution_count": 47,
      "outputs": [
        {
          "output_type": "execute_result",
          "data": {
            "text/plain": [
              "MLPClassifier(activation='tanh', hidden_layer_sizes=(100, 50), max_iter=10000)"
            ]
          },
          "metadata": {},
          "execution_count": 47
        }
      ]
    },
    {
      "cell_type": "markdown",
      "source": [
        "#Finally,\n",
        "Save a copy in your Github. Remember renaming the notebook."
      ],
      "metadata": {
        "id": "Ok7RGkea_b7n"
      }
    }
  ]
}