{
  "nbformat": 4,
  "nbformat_minor": 0,
  "metadata": {
    "colab": {
      "provenance": [],
      "authorship_tag": "ABX9TyMRYK3X8PQpAKFUsKaJRXMS",
      "include_colab_link": true
    },
    "kernelspec": {
      "name": "python3",
      "display_name": "Python 3"
    },
    "language_info": {
      "name": "python"
    }
  },
  "cells": [
    {
      "cell_type": "markdown",
      "metadata": {
        "id": "view-in-github",
        "colab_type": "text"
      },
      "source": [
        "<a href=\"https://colab.research.google.com/github/PhamTienLoc/Lab_ML/blob/main/Lab1.ipynb\" target=\"_parent\"><img src=\"https://colab.research.google.com/assets/colab-badge.svg\" alt=\"Open In Colab\"/></a>"
      ]
    },
    {
      "cell_type": "code",
      "source": [
        "from ast import Pass\n",
        "n = int(input(\"Enter n: \"))\n",
        "L = []\n",
        "i = 0\n",
        "for i in range(int(n)):\n",
        "  x = input()\n",
        "  L.append(int(x))\n",
        "\n",
        "print(L)\n",
        "\n",
        "max_re = max(L)\n",
        "print(max_re)\n",
        "\n",
        "min_re = min(L)\n",
        "print(min_re)\n",
        "\n",
        "sum_re = sum(L)\n",
        "print(sum_re)\n",
        "\n",
        "L.sort()\n",
        "print(L)\n",
        "\n",
        "def findPosAndNeg(L):\n",
        "  posNum = 0\n",
        "  negNum = 0\n",
        "  for i in L:\n",
        "    if L[i] > 0:\n",
        "      posNum +=1\n",
        "    elif L[i] < 0:\n",
        "      negNum +=1\n",
        "  print(posNum)\n",
        "  print(negNum)"
      ],
      "metadata": {
        "colab": {
          "base_uri": "https://localhost:8080/"
        },
        "id": "8LrBUYcZIKRY",
        "outputId": "dbb0ec39-36c6-4c0e-cf64-a467ab22290c"
      },
      "execution_count": 42,
      "outputs": [
        {
          "output_type": "stream",
          "name": "stdout",
          "text": [
            "Enter n: 3\n",
            "5\n",
            "1\n",
            "7\n",
            "[5, 1, 7]\n",
            "7\n",
            "1\n",
            "13\n",
            "[1, 5, 7]\n"
          ]
        }
      ]
    }
  ]
}