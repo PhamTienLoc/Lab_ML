{
  "nbformat": 4,
  "nbformat_minor": 0,
  "metadata": {
    "colab": {
      "provenance": [],
      "authorship_tag": "ABX9TyPQkvrkgaZYw4Adg0Sh5CgU",
      "include_colab_link": true
    },
    "kernelspec": {
      "name": "python3",
      "display_name": "Python 3"
    },
    "language_info": {
      "name": "python"
    }
  },
  "cells": [
    {
      "cell_type": "markdown",
      "metadata": {
        "id": "view-in-github",
        "colab_type": "text"
      },
      "source": [
        "<a href=\"https://colab.research.google.com/github/PhamTienLoc/Lab_ML/blob/main/Lab1.ipynb\" target=\"_parent\"><img src=\"https://colab.research.google.com/assets/colab-badge.svg\" alt=\"Open In Colab\"/></a>"
      ]
    },
    {
      "cell_type": "markdown",
      "source": [
        "**Task 1**"
      ],
      "metadata": {
        "id": "PVTIfuyjNH2N"
      }
    },
    {
      "cell_type": "markdown",
      "source": [
        "**Task 1.1**"
      ],
      "metadata": {
        "id": "D1zHsBs4NX9t"
      }
    },
    {
      "cell_type": "code",
      "source": [
        "n = int(input(\"Enter n: \"))\n",
        "L = []\n",
        "i = 0\n",
        "for i in range(int(n)):\n",
        "  x = input()\n",
        "  L.append(int(x))\n",
        "\n",
        "print(L)\n",
        "\n",
        "max_re = max(L)\n",
        "print(\"Max element in L: {}\".format(max_re))\n",
        "\n",
        "min_re = min(L)\n",
        "print(\"Min element in L: {}\".format(min_re))\n",
        "\n",
        "sum_re = sum(L)\n",
        "print(\"Sum of element in L: {}\".format(sum_re))\n",
        "\n",
        "# L.sort()\n",
        "# print(L)\n",
        "\n",
        "# def findPosAndNeg(L):\n",
        "#   posNum = 0\n",
        "#   negNum = 0\n",
        "#   for i in L:\n",
        "#     if L[i] > 0:\n",
        "#       posNum +=1\n",
        "#     elif L[i] < 0:\n",
        "#       negNum +=1\n",
        "#   print(posNum)\n",
        "#   print(negNum)"
      ],
      "metadata": {
        "colab": {
          "base_uri": "https://localhost:8080/"
        },
        "id": "8LrBUYcZIKRY",
        "outputId": "83d41a5b-5bdc-4c04-b663-f165f7c32e99"
      },
      "execution_count": 1,
      "outputs": [
        {
          "output_type": "stream",
          "name": "stdout",
          "text": [
            "Enter n: 3\n",
            "2\n",
            "5\n",
            "1\n",
            "[2, 5, 1]\n",
            "Max element in L: 5\n"
          ]
        }
      ]
    }
  ]
}