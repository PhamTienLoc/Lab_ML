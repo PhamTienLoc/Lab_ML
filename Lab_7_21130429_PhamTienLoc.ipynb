{
  "nbformat": 4,
  "nbformat_minor": 0,
  "metadata": {
    "colab": {
      "provenance": [],
      "include_colab_link": true
    },
    "kernelspec": {
      "name": "python3",
      "display_name": "Python 3"
    },
    "language_info": {
      "name": "python"
    }
  },
  "cells": [
    {
      "cell_type": "markdown",
      "metadata": {
        "id": "view-in-github",
        "colab_type": "text"
      },
      "source": [
        "<a href=\"https://colab.research.google.com/github/PhamTienLoc/Lab_ML/blob/main/Lab_7_mssv_HoTen.ipynb\" target=\"_parent\"><img src=\"https://colab.research.google.com/assets/colab-badge.svg\" alt=\"Open In Colab\"/></a>"
      ]
    },
    {
      "cell_type": "markdown",
      "source": [
        "# This lab deals with **GridSearchCV** for tuning the hyper-parameters of an estimator and applying vectorization techniques to the **movie reviews dataset** for classification task.\n",
        "\n",
        "*   **Deadline: 23:59, 22/4/2024 (lớp TH thứ 3) || 29/4/2024 (lớp TH thứ 5)**\n",
        "\n"
      ],
      "metadata": {
        "id": "LMzehe0sy5wr"
      }
    },
    {
      "cell_type": "markdown",
      "source": [
        "# Import libraries"
      ],
      "metadata": {
        "id": "H4nJmxp9zGX4"
      }
    },
    {
      "cell_type": "code",
      "execution_count": 28,
      "metadata": {
        "id": "DoVWQ8AEyc-C"
      },
      "outputs": [],
      "source": [
        "# code\n",
        "import numpy as np\n",
        "import pandas as pd\n",
        "import matplotlib.pyplot as plt\n",
        "from sklearn import metrics\n",
        "from sklearn.model_selection import train_test_split\n",
        "from sklearn import datasets\n",
        "from sklearn import svm\n",
        "from sklearn.neighbors import KNeighborsClassifier\n",
        "from sklearn.ensemble import RandomForestClassifier\n",
        "from sklearn.linear_model import LogisticRegression\n",
        "import os\n",
        "from sklearn.model_selection import GridSearchCV\n",
        "from prettytable import PrettyTable\n",
        "from sklearn.feature_selection import SelectKBest, chi2"
      ]
    },
    {
      "cell_type": "code",
      "source": [
        "from google.colab import drive\n",
        "drive.mount('/content/gdrive')\n",
        "%cd '/content/gdrive/MyDrive/data'"
      ],
      "metadata": {
        "id": "QO0NBw1gTcr_",
        "outputId": "c83d5a19-6675-4b6c-8ce7-6677bcfd3f63",
        "colab": {
          "base_uri": "https://localhost:8080/"
        }
      },
      "execution_count": 35,
      "outputs": [
        {
          "output_type": "stream",
          "name": "stdout",
          "text": [
            "Mounted at /content/gdrive\n",
            "/content/gdrive/MyDrive/data\n"
          ]
        }
      ]
    },
    {
      "cell_type": "markdown",
      "source": [
        "#Task 1. With **iris** dataset\n",
        "*  1.1. Apply **GridSearchCV** for **SVM** to find the best hyperparameters using the following param_grid.\n",
        "\n",
        "```\n",
        "param_grid = {'C': [0.1, 1, 10, 100, 1000],\n",
        "              'gamma': [1, 0.1, 0.01, 0.001, 0.0001],\n",
        "              'kernel': ['rbf','linear']}\n",
        "```\n",
        "\n",
        "\n"
      ],
      "metadata": {
        "id": "x_dG9SA5OhGT"
      }
    },
    {
      "cell_type": "code",
      "source": [
        "#code\n",
        "data1 = datasets.load_iris()\n",
        "X = data1.data\n",
        "y = data1.target\n",
        "X_train, X_test, y_train, y_test = train_test_split(X,y, test_size=0.2, random_state=1)\n",
        "\n",
        "svm_param_grid = {'C': [0.1, 1, 10, 100, 1000],\n",
        "              'gamma': [1, 0.1, 0.01, 0.001, 0.0001],\n",
        "              'kernel': ['rbf','linear']}\n",
        "\n",
        "svm_class = svm.SVC()\n",
        "\n",
        "grid_svm_class = GridSearchCV(estimator = svm_class, scoring = 'accuracy', n_jobs = -1, param_grid = svm_param_grid, cv = 10, refit = True, return_train_score = True)\n",
        "\n",
        "grid_svm_class.fit(X_train, y_train)\n",
        "\n",
        "grid_svm_class.predict(X_test)\n",
        "\n",
        "svm_estimator = grid_svm_class.best_estimator_\n",
        "svm_score = grid_svm_class.best_score_"
      ],
      "metadata": {
        "id": "62jExOZ952fF"
      },
      "execution_count": 21,
      "outputs": []
    },
    {
      "cell_type": "markdown",
      "source": [
        "*  1.2. Apply **GridSearchCV** for **kNN** to find the best hyperparameters using the following param_grid.\n",
        "\n",
        "```\n",
        "grid_params = { 'n_neighbors' : [5,7,9,11,13,15],\n",
        "               'weights' : ['uniform','distance'],\n",
        "               'metric' : ['minkowski','euclidean','manhattan']}\n",
        "```\n",
        "where\n",
        "\n",
        "    *  **n_neighbors**: Decide the best k based on the values we have computed earlier.\n",
        "    *  **weights**: Check whether adding weights to the data points is beneficial to the model or not. 'uniform' assigns no weight, while 'distance' weighs points by the inverse of their distances meaning nearer points will have more weight than the farther points.\n",
        "    *  **metric**: The distance metric to be used will calculating the similarity.\n"
      ],
      "metadata": {
        "id": "2g--8cng53sY"
      }
    },
    {
      "cell_type": "code",
      "source": [
        "#code\n",
        "knn_param_grid = { 'n_neighbors' : [4,6,8],\n",
        "               'weights' : ['uniform','distance'],\n",
        "               'metric' : ['euclidean','manhattan']}\n",
        "\n",
        "kNN_class = KNeighborsClassifier()\n",
        "\n",
        "grid_kNN_class = GridSearchCV(estimator = kNN_class, scoring = 'accuracy', n_jobs = -1, param_grid = knn_param_grid, cv = 10, refit = True, return_train_score = True)\n",
        "\n",
        "grid_kNN_class.fit(X_train, y_train)\n",
        "\n",
        "grid_kNN_class.predict(X_test)\n",
        "\n",
        "knn_estimator = grid_kNN_class.best_estimator_\n",
        "knn_score = grid_kNN_class.best_score_"
      ],
      "metadata": {
        "id": "fX0_kItYPism"
      },
      "execution_count": 22,
      "outputs": []
    },
    {
      "cell_type": "markdown",
      "source": [
        "*  1.3. Apply **GridSearchCV** for **Random Forest** to find the best hyperparameters using the following param_grid.\n",
        "\n",
        "```\n",
        "param_grid = {\n",
        "    'n_estimators': [25, 50, 100, 150],\n",
        "    'max_features': ['sqrt', 'log2', None],\n",
        "    'max_depth': [3, 6, 9],\n",
        "    'max_leaf_nodes': [3, 6, 9],\n",
        "}\n",
        "```"
      ],
      "metadata": {
        "id": "3lQSOcjL_TIW"
      }
    },
    {
      "cell_type": "code",
      "source": [
        "#code\n",
        "rf_param_grid = {\n",
        "    'n_estimators': [25, 50, 150],\n",
        "    'max_features': ['sqrt', 'log2', None],\n",
        "    'max_depth': [3, 6, 9],\n",
        "    'max_leaf_nodes': [3, 6, 9],\n",
        "}\n",
        "\n",
        "rf_class = RandomForestClassifier()\n",
        "\n",
        "grid_rf_class = GridSearchCV(estimator = rf_class, scoring = 'accuracy', n_jobs = 4, param_grid = rf_param_grid, cv = 10, refit = True, return_train_score = True)\n",
        "\n",
        "grid_rf_class.fit(X_train, y_train)\n",
        "\n",
        "grid_rf_class.predict(X_test)\n",
        "\n",
        "rf_estimator = grid_rf_class.best_estimator_\n",
        "rf_score = grid_rf_class.best_score_"
      ],
      "metadata": {
        "id": "OlyF9WpN_01p"
      },
      "execution_count": 23,
      "outputs": []
    },
    {
      "cell_type": "markdown",
      "source": [
        "*   1.4 Compare the best obtained results from 1.1 to 1.3 (use PrettyTable to dispaly the results)"
      ],
      "metadata": {
        "id": "G3N7TD7s_3Kp"
      }
    },
    {
      "cell_type": "code",
      "source": [
        "t = PrettyTable(['GridSearchCV algorithms best hyperparameter', 'Best score'])\n",
        "t.add_row([svm_estimator, svm_score])\n",
        "t.add_row([knn_estimator, knn_score])\n",
        "t.add_row([rf_estimator, rf_score])\n",
        "\n",
        "print(t)"
      ],
      "metadata": {
        "colab": {
          "base_uri": "https://localhost:8080/"
        },
        "id": "b3LVyrWH8l6g",
        "outputId": "f139fac9-f77b-4d9c-e3a2-eb617c1d5045"
      },
      "execution_count": 24,
      "outputs": [
        {
          "output_type": "stream",
          "name": "stdout",
          "text": [
            "+----------------------------------------------------------------------------+--------------------+\n",
            "|                GridSearchCV algorithms best hyperparameter                 |     Best score     |\n",
            "+----------------------------------------------------------------------------+--------------------+\n",
            "|                     SVC(C=1, gamma=1, kernel='linear')                     | 0.9833333333333332 |\n",
            "|          KNeighborsClassifier(metric='euclidean', n_neighbors=8)           | 0.9666666666666666 |\n",
            "| RandomForestClassifier(max_depth=3, max_features='log2', max_leaf_nodes=6, | 0.9583333333333333 |\n",
            "|                                         n_estimators=50)                   |                    |\n",
            "+----------------------------------------------------------------------------+--------------------+\n"
          ]
        }
      ]
    },
    {
      "cell_type": "markdown",
      "source": [
        "#Task 2.\n",
        "For breast cancer dataset (https://tinyurl.com/3vme8hr3) which could be loaded from datasets in sklearn as follows:\n",
        "\n",
        "```\n",
        "#Import scikit-learn dataset library\n",
        "from sklearn import datasets\n",
        "\n",
        "#Load dataset\n",
        "cancer = datasets.load_breast_cancer()\n",
        "```\n",
        "\n",
        "*   Apply **GridSearchCV** to different classification algorithms such as **SVM, kNN, LogisticRegression, RandomForest**.\n",
        "*   Compare the results obtained by the best hyperparameters among classification algorithms."
      ],
      "metadata": {
        "id": "kNv07ARGzOUm"
      }
    },
    {
      "cell_type": "markdown",
      "source": [
        "*   2.1. Apply **GridSearchCV** to **SVM**\n"
      ],
      "metadata": {
        "id": "pnoVB8J4vV36"
      }
    },
    {
      "cell_type": "code",
      "source": [
        "# code\n",
        "cancer = datasets.load_breast_cancer()\n",
        "X = cancer.data\n",
        "y = cancer.target\n",
        "X_train, X_test, y_train, y_test = train_test_split(X,y, test_size= 0.2, random_state = 1)\n",
        "svm_param_grid = {'C': [0.1, 1, 10],\n",
        "              'gamma': [1, 0.1, 0.01, 0.001],\n",
        "              'kernel': ['rbf','linear']}\n",
        "\n",
        "svm_class = svm.SVC()\n",
        "\n",
        "grid_svm_class = GridSearchCV(estimator = svm_class, scoring = 'accuracy', n_jobs = -1, param_grid = svm_param_grid, cv = 10, refit = True, return_train_score = True)\n",
        "\n",
        "grid_svm_class.fit(X_train, y_train)\n",
        "\n",
        "grid_svm_class.predict(X_test)\n",
        "\n",
        "svm_estimator = grid_svm_class.best_estimator_\n",
        "svm_score = grid_svm_class.best_score_"
      ],
      "metadata": {
        "id": "-ZTSvsJdvYqI"
      },
      "execution_count": 25,
      "outputs": []
    },
    {
      "cell_type": "markdown",
      "source": [
        "*   2.2. Apply **GridSearchCV** to **kNN**"
      ],
      "metadata": {
        "id": "ol1U_T_NvcqV"
      }
    },
    {
      "cell_type": "code",
      "source": [
        "#code\n",
        "knn_param_grid = { 'n_neighbors' : [4,6,8],\n",
        "               'weights' : ['uniform','distance'],\n",
        "               'metric' : ['euclidean','manhattan']}\n",
        "\n",
        "kNN_class = KNeighborsClassifier()\n",
        "\n",
        "grid_kNN_class = GridSearchCV(estimator = kNN_class, scoring = 'accuracy', n_jobs = -1, param_grid = knn_param_grid, cv = 10, refit = True, return_train_score = True)\n",
        "\n",
        "grid_kNN_class.fit(X_train, y_train)\n",
        "\n",
        "grid_kNN_class.predict(X_test)\n",
        "\n",
        "knn_estimator = grid_kNN_class.best_estimator_\n",
        "knn_score = grid_kNN_class.best_score_"
      ],
      "metadata": {
        "id": "kt71yrAoBwYE"
      },
      "execution_count": 26,
      "outputs": []
    },
    {
      "cell_type": "markdown",
      "source": [
        "*   2.3. Apply **GridSearchCV** to **LogisticRegression**"
      ],
      "metadata": {
        "id": "pPkAvse-BxNa"
      }
    },
    {
      "cell_type": "code",
      "source": [
        "#code\n",
        "lr_param_grid = {\n",
        "    'C': [0.01, 0.1, 1],\n",
        "    'max_iter': [100,800,1000],\n",
        "}\n",
        "\n",
        "grid_lr_class = GridSearchCV(estimator = LogisticRegression(), scoring = 'accuracy', n_jobs = -1, param_grid = lr_param_grid, cv = 10, refit = True, return_train_score = True)\n",
        "\n",
        "grid_lr_class.fit(X_train, y_train)\n",
        "\n",
        "grid_lr_class.predict(X_test)\n",
        "\n",
        "lr_estimator = grid_lr_class.best_estimator_\n",
        "lr_score = grid_lr_class.best_score_"
      ],
      "metadata": {
        "id": "nyYjpHFbB1Ci"
      },
      "execution_count": 33,
      "outputs": []
    },
    {
      "cell_type": "markdown",
      "source": [
        "*   2.4. Apply **GridSearchCV** to **RandomForest**"
      ],
      "metadata": {
        "id": "3NjSLo5jB1xY"
      }
    },
    {
      "cell_type": "code",
      "source": [
        "#code\n",
        "rf_param_grid = {\n",
        "    'n_estimators': [25, 50, 150],\n",
        "    'max_features': ['sqrt', 'log2', None],\n",
        "    'max_depth': [3, 6, 9],\n",
        "    'max_leaf_nodes': [3, 6, 9],\n",
        "}\n",
        "\n",
        "rf_class = RandomForestClassifier()\n",
        "\n",
        "grid_rf_class = GridSearchCV(estimator = rf_class, scoring = 'accuracy', n_jobs = -1, param_grid = rf_param_grid, cv = 10, refit = True, return_train_score = True)\n",
        "\n",
        "grid_rf_class.fit(X_train, y_train)\n",
        "\n",
        "grid_rf_class.predict(X_test)\n",
        "\n",
        "rf_estimator = grid_rf_class.best_estimator_\n",
        "rf_score = grid_rf_class.best_score_"
      ],
      "metadata": {
        "id": "nktGtM0PB7XB"
      },
      "execution_count": 27,
      "outputs": []
    },
    {
      "cell_type": "markdown",
      "source": [
        "*   2.5. Compare the best obtained results among classification algorithms (use PrettyTable to dispaly the results)"
      ],
      "metadata": {
        "id": "NZJ3BSHpB9Dx"
      }
    },
    {
      "cell_type": "code",
      "source": [
        "#code\n",
        "t = PrettyTable(['GridSearchCV algorithms best hyperparameter', 'Best score'])\n",
        "t.add_row([svm_estimator, svm_score])\n",
        "t.add_row([knn_estimator, knn_score])\n",
        "t.add_row([lr_estimator, lr_score])\n",
        "t.add_row([rf_estimator, rf_score])\n",
        "\n",
        "print(t)"
      ],
      "metadata": {
        "id": "8LS_IYfNCFEj",
        "colab": {
          "base_uri": "https://localhost:8080/"
        },
        "outputId": "d913364c-6abb-476f-b902-78c7d1a974b2"
      },
      "execution_count": 34,
      "outputs": [
        {
          "output_type": "stream",
          "name": "stdout",
          "text": [
            "+--------------------------------------------------------------------------+--------------------+\n",
            "|               GridSearchCV algorithms best hyperparameter                |     Best score     |\n",
            "+--------------------------------------------------------------------------+--------------------+\n",
            "|                    SVC(C=1, gamma=1, kernel='linear')                    | 0.9562801932367149 |\n",
            "|         KNeighborsClassifier(metric='manhattan', n_neighbors=4)          | 0.9277777777777778 |\n",
            "|                 LogisticRegression(C=0.01, max_iter=800)                 | 0.9497584541062801 |\n",
            "| RandomForestClassifier(max_depth=9, max_features=None, max_leaf_nodes=9, | 0.9583091787439614 |\n",
            "|                                        n_estimators=25)                  |                    |\n",
            "+--------------------------------------------------------------------------+--------------------+\n"
          ]
        }
      ]
    },
    {
      "cell_type": "markdown",
      "source": [
        "#Task 3. With **mobile price classification** dataset\n",
        "* 3.1.  Apply **GridSearchCV** for **SVM, kNN, RandomForest** algorithms to find the best hyperparameters for each classification algorithm.\n",
        "* 3.2. Compare the best obtained results among classification algorithms (use PrettyTable to dispaly the results)"
      ],
      "metadata": {
        "id": "az26oYW1Yxuz"
      }
    },
    {
      "cell_type": "code",
      "source": [
        "#code\n",
        "#3.1\n",
        "mobile = pd.read_csv('mobile.csv')\n",
        "X = mobile.drop(columns='price_range')\n",
        "y = mobile[['price_range']]\n",
        "\n",
        "X_new = SelectKBest(chi2, k = 5).fit_transform(X, y)\n",
        "X_train, X_test, y_train, y_test = train_test_split(X_new, y, test_size=0.2)\n",
        "\n",
        "#SVM\n",
        "svm_param_grid = {'C': [0.1, 1, 10],\n",
        "                  'gamma': [1, 0.1, 0.01]}\n",
        "grid_svm_class = GridSearchCV(estimator = svm_class, scoring = 'accuracy', n_jobs = -1, param_grid = svm_param_grid, cv = 10, refit = True, return_train_score = True)\n",
        "grid_svm_class.fit(X_train, y_train)\n",
        "\n",
        "grid_svm_class.predict(X_test)\n",
        "\n",
        "svm_estimator = grid_svm_class.best_estimator_\n",
        "svm_score = grid_svm_class.best_score_"
      ],
      "metadata": {
        "id": "_jsYpiNYWxXK",
        "colab": {
          "base_uri": "https://localhost:8080/"
        },
        "outputId": "96b6a868-e78d-4bcc-9bd4-9cb860a950c7"
      },
      "execution_count": 44,
      "outputs": [
        {
          "output_type": "stream",
          "name": "stderr",
          "text": [
            "/usr/local/lib/python3.10/dist-packages/sklearn/utils/validation.py:1143: DataConversionWarning: A column-vector y was passed when a 1d array was expected. Please change the shape of y to (n_samples, ), for example using ravel().\n",
            "  y = column_or_1d(y, warn=True)\n"
          ]
        }
      ]
    },
    {
      "cell_type": "code",
      "source": [
        "#kNN\n",
        "grid_kNN_class.fit(X_train, y_train)\n",
        "\n",
        "grid_kNN_class.predict(X_test)\n",
        "\n",
        "knn_estimator = grid_kNN_class.best_estimator_\n",
        "knn_score = grid_kNN_class.best_score_"
      ],
      "metadata": {
        "id": "WLm94otdeMTz",
        "outputId": "4983f14f-f68d-4119-ec7f-2b5a9a623833",
        "colab": {
          "base_uri": "https://localhost:8080/"
        }
      },
      "execution_count": 39,
      "outputs": [
        {
          "output_type": "stream",
          "name": "stderr",
          "text": [
            "/usr/local/lib/python3.10/dist-packages/sklearn/neighbors/_classification.py:215: DataConversionWarning: A column-vector y was passed when a 1d array was expected. Please change the shape of y to (n_samples,), for example using ravel().\n",
            "  return self._fit(X, y)\n"
          ]
        }
      ]
    },
    {
      "cell_type": "code",
      "source": [
        "#RandomForest\n",
        "rf_param_grid = {\n",
        "    'n_estimators': [25, 50],\n",
        "    'max_features': ['sqrt', 'log2'],\n",
        "    'max_depth': [3, 6, 9],\n",
        "    'max_leaf_nodes': [3, 6, 9],\n",
        "}\n",
        "\n",
        "grid_rf_class = GridSearchCV(estimator = rf_class, scoring = 'accuracy', n_jobs = -1, param_grid = rf_param_grid, cv = 10, refit = True, return_train_score = True)\n",
        "\n",
        "grid_rf_class.fit(X_train, y_train)\n",
        "\n",
        "grid_rf_class.predict(X_test)\n",
        "\n",
        "rf_estimator = grid_rf_class.best_estimator_\n",
        "rf_score = grid_rf_class.best_score_"
      ],
      "metadata": {
        "id": "FnsM3M5teM2p",
        "outputId": "b33c7321-0304-4ca7-9201-aad36c9ce568",
        "colab": {
          "base_uri": "https://localhost:8080/"
        }
      },
      "execution_count": 41,
      "outputs": [
        {
          "output_type": "stream",
          "name": "stderr",
          "text": [
            "/usr/local/lib/python3.10/dist-packages/sklearn/model_selection/_search.py:909: DataConversionWarning: A column-vector y was passed when a 1d array was expected. Please change the shape of y to (n_samples,), for example using ravel().\n",
            "  self.best_estimator_.fit(X, y, **fit_params)\n"
          ]
        }
      ]
    },
    {
      "cell_type": "code",
      "source": [
        "#code\n",
        "#3.2\n",
        "t = PrettyTable(['GridSearchCV algorithms best hyperparameter', 'Best score'])\n",
        "t.add_row([svm_estimator, svm_score])\n",
        "t.add_row([knn_estimator, knn_score])\n",
        "t.add_row([rf_estimator, rf_score])\n",
        "\n",
        "print(t)"
      ],
      "metadata": {
        "id": "EWD4PRQiTJIg",
        "outputId": "16defea9-52a2-4f2b-d607-56b1241e895d",
        "colab": {
          "base_uri": "https://localhost:8080/"
        }
      },
      "execution_count": 45,
      "outputs": [
        {
          "output_type": "stream",
          "name": "stdout",
          "text": [
            "+-----------------------------------------------------------------------------+------------+\n",
            "|                 GridSearchCV algorithms best hyperparameter                 | Best score |\n",
            "+-----------------------------------------------------------------------------+------------+\n",
            "|                             SVC(C=0.1, gamma=1)                             |  0.255625  |\n",
            "| KNeighborsClassifier(metric='manhattan', n_neighbors=8, weights='distance') |  0.928125  |\n",
            "|  RandomForestClassifier(max_depth=6, max_features='log2', max_leaf_nodes=9, |   0.835    |\n",
            "|                                          n_estimators=50)                   |            |\n",
            "+-----------------------------------------------------------------------------+------------+\n"
          ]
        }
      ]
    },
    {
      "cell_type": "markdown",
      "source": [
        "#Task 4.\n",
        "The dataset consists of **2000 user-created movie reviews** archived on the IMDb(Internet Movie Database). The reviews are equally partitioned into a positive set and a negative set (1000+1000). Each review consists of a plain text file (.txt) and a class label representing the overall user opinion.\n",
        "The class attribute has only two values: **pos** (positive) or **neg** (negative).\n"
      ],
      "metadata": {
        "id": "b52OPWPD2afi"
      }
    },
    {
      "cell_type": "markdown",
      "source": [
        "*   4.1 Importing additional libraries"
      ],
      "metadata": {
        "id": "lDcxOQRmDz_h"
      }
    },
    {
      "cell_type": "code",
      "source": [
        "import nltk, random\n",
        "nltk.download('movie_reviews')#download movie reviews dataset\n",
        "from nltk.corpus import movie_reviews\n",
        "import pandas as pd\n",
        "import matplotlib.pyplot as plt\n",
        "import numpy as np\n",
        "from sklearn.model_selection import cross_val_score\n",
        "from collections import Counter\n",
        "from sklearn.model_selection import train_test_split"
      ],
      "metadata": {
        "id": "ZjyW06skDwvL",
        "colab": {
          "base_uri": "https://localhost:8080/"
        },
        "outputId": "c6bff2f2-5325-41fc-bb8a-3a388a3b4374"
      },
      "execution_count": 46,
      "outputs": [
        {
          "output_type": "stream",
          "name": "stderr",
          "text": [
            "[nltk_data] Downloading package movie_reviews to /root/nltk_data...\n",
            "[nltk_data]   Unzipping corpora/movie_reviews.zip.\n"
          ]
        }
      ]
    },
    {
      "cell_type": "markdown",
      "source": [
        "*   4.2. Movie reviews information"
      ],
      "metadata": {
        "id": "RJpsTIiyv-1h"
      }
    },
    {
      "cell_type": "code",
      "source": [
        "#code\n",
        "print(len(movie_reviews.fileids()))\n",
        "print(movie_reviews.categories())\n",
        "print(movie_reviews.words()[:100])\n",
        "print(movie_reviews.fileids()[:10])"
      ],
      "metadata": {
        "id": "5ZE7A0Au1Pg0",
        "colab": {
          "base_uri": "https://localhost:8080/"
        },
        "outputId": "d087335f-5749-4ad6-808f-7e162655c072"
      },
      "execution_count": 47,
      "outputs": [
        {
          "output_type": "stream",
          "name": "stdout",
          "text": [
            "2000\n",
            "['neg', 'pos']\n",
            "['plot', ':', 'two', 'teen', 'couples', 'go', 'to', ...]\n",
            "['neg/cv000_29416.txt', 'neg/cv001_19502.txt', 'neg/cv002_17424.txt', 'neg/cv003_12683.txt', 'neg/cv004_12641.txt', 'neg/cv005_29357.txt', 'neg/cv006_17022.txt', 'neg/cv007_4992.txt', 'neg/cv008_29326.txt', 'neg/cv009_29417.txt']\n"
          ]
        }
      ]
    },
    {
      "cell_type": "markdown",
      "source": [
        "*   4.3. Create dataset from movie reviews"
      ],
      "metadata": {
        "id": "6pHmMpqMHS23"
      }
    },
    {
      "cell_type": "code",
      "source": [
        "documents = [(list(movie_reviews.words(fileid)), category)\n",
        "             for category in movie_reviews.categories()\n",
        "             for fileid in movie_reviews.fileids(category)]\n",
        "random.seed(123)\n",
        "random.shuffle(documents)"
      ],
      "metadata": {
        "id": "45aY6woMHSH5"
      },
      "execution_count": 48,
      "outputs": []
    },
    {
      "cell_type": "code",
      "source": [
        "print('Number of Reviews/Documents: {}'.format(len(documents)))\n",
        "print('Corpus Size (words): {}'.format(np.sum([len(d) for (d,l) in documents])))\n",
        "print('Sample Text of Doc 1:')\n",
        "print('-'*30)\n",
        "print(' '.join(documents[0][0][:50])) # first 50 words of the first document"
      ],
      "metadata": {
        "id": "NNke0Da5HqFa",
        "colab": {
          "base_uri": "https://localhost:8080/"
        },
        "outputId": "a00c5708-b65b-4416-c14d-dd86539098ee"
      },
      "execution_count": 49,
      "outputs": [
        {
          "output_type": "stream",
          "name": "stdout",
          "text": [
            "Number of Reviews/Documents: 2000\n",
            "Corpus Size (words): 1583820\n",
            "Sample Text of Doc 1:\n",
            "------------------------------\n",
            "most movies seem to release a third movie just so it can be called a trilogy . rocky iii seems to kind of fit in that category , but manages to be slightly unique . the rocky formula of \" rocky loses fight / rocky trains / rocky wins fight\n"
          ]
        }
      ]
    },
    {
      "cell_type": "code",
      "source": [
        "sentiment_distr = Counter([label for (words, label) in documents])\n",
        "print(sentiment_distr)"
      ],
      "metadata": {
        "id": "vVFUEhnXHsGd",
        "colab": {
          "base_uri": "https://localhost:8080/"
        },
        "outputId": "bb5f8b98-e49d-4642-82d6-14ccb3bbc59c"
      },
      "execution_count": 50,
      "outputs": [
        {
          "output_type": "stream",
          "name": "stdout",
          "text": [
            "Counter({'pos': 1000, 'neg': 1000})\n"
          ]
        }
      ]
    },
    {
      "cell_type": "markdown",
      "source": [
        "*   4.4. Train test split"
      ],
      "metadata": {
        "id": "jTXiEbMzHgVC"
      }
    },
    {
      "cell_type": "code",
      "source": [
        "train, test = train_test_split(documents, test_size = 0.33, random_state=42)"
      ],
      "metadata": {
        "id": "v_-0gZZFHvJN"
      },
      "execution_count": 51,
      "outputs": []
    },
    {
      "cell_type": "code",
      "source": [
        "## Sentiment Distrubtion for Train and Test\n",
        "print(Counter([label for (words, label) in train]))\n",
        "print(Counter([label for (words, label) in test]))"
      ],
      "metadata": {
        "id": "UUGlm5TGHvpV",
        "colab": {
          "base_uri": "https://localhost:8080/"
        },
        "outputId": "f1f02032-f704-4733-8835-accc1d820147"
      },
      "execution_count": 52,
      "outputs": [
        {
          "output_type": "stream",
          "name": "stdout",
          "text": [
            "Counter({'neg': 674, 'pos': 666})\n",
            "Counter({'pos': 334, 'neg': 326})\n"
          ]
        }
      ]
    },
    {
      "cell_type": "code",
      "source": [
        "X_train = [' '.join(words) for (words, label) in train]\n",
        "X_test = [' '.join(words) for (words, label) in test]\n",
        "y_train = [label for (words, label) in train]\n",
        "y_test = [label for (words, label) in test]"
      ],
      "metadata": {
        "id": "l1ppl_0RHx1P"
      },
      "execution_count": 53,
      "outputs": []
    },
    {
      "cell_type": "markdown",
      "source": [
        "*   4.5. Text Vectorization"
      ],
      "metadata": {
        "id": "7xUaXrjxH6Ee"
      }
    },
    {
      "cell_type": "code",
      "source": [
        "from sklearn.feature_extraction.text import CountVectorizer, TfidfVectorizer\n",
        "\n",
        "tfidf_vec = TfidfVectorizer(min_df = 10, token_pattern = r'[a-zA-Z]+')\n",
        "X_train_bow = tfidf_vec.fit_transform(X_train) # fit train\n",
        "X_test_bow = tfidf_vec.transform(X_test) # transform test"
      ],
      "metadata": {
        "id": "fzwM0nsIH-8l"
      },
      "execution_count": 54,
      "outputs": []
    },
    {
      "cell_type": "code",
      "source": [
        "print(\"Using selection feature\")\n",
        "new_X_train_bow = SelectKBest(chi2, k = 1000).fit_transform(X_train_bow, y_train)\n",
        "new_X_test_bow = SelectKBest(chi2, k = 1000).fit_transform(X_test_bow, y_test)"
      ],
      "metadata": {
        "id": "ibF_hG-dc-3g",
        "outputId": "56acbbb6-79c4-405c-a7b3-dbac05b05005",
        "colab": {
          "base_uri": "https://localhost:8080/"
        }
      },
      "execution_count": 55,
      "outputs": [
        {
          "output_type": "stream",
          "name": "stdout",
          "text": [
            "Using selection feature\n"
          ]
        }
      ]
    },
    {
      "cell_type": "markdown",
      "source": [
        "*   4.6. Apply **SVM** with **GridSearchCV**"
      ],
      "metadata": {
        "id": "BP1vB3loIF28"
      }
    },
    {
      "cell_type": "code",
      "source": [
        "#code\n",
        "grid_svm_class.fit(new_X_train_bow, y_train)\n",
        "\n",
        "grid_svm_class.predict(new_X_test_bow)\n",
        "\n",
        "svm_estimator = grid_svm_class.best_estimator_\n",
        "svm_score = grid_svm_class.best_score_"
      ],
      "metadata": {
        "id": "b3FHQqh1Hlrd"
      },
      "execution_count": 56,
      "outputs": []
    },
    {
      "cell_type": "markdown",
      "source": [
        "*   4.7. Apply **RandomForest** with **GridSearchCV**"
      ],
      "metadata": {
        "id": "N1Fy8jYBIdxi"
      }
    },
    {
      "cell_type": "code",
      "source": [
        "#code\n",
        "grid_rf_class.fit(new_X_train_bow, y_train)\n",
        "\n",
        "grid_rf_class.predict(new_X_test_bow)\n",
        "\n",
        "rf_estimator = grid_rf_class.best_estimator_\n",
        "rf_score = grid_rf_class.best_score_"
      ],
      "metadata": {
        "id": "Fyfw2R-gIhWl"
      },
      "execution_count": 57,
      "outputs": []
    },
    {
      "cell_type": "markdown",
      "source": [
        "*   4.8. Apply **kNN** with **GridSearchCV**"
      ],
      "metadata": {
        "id": "_btsVKjIIiLT"
      }
    },
    {
      "cell_type": "code",
      "source": [
        "#code\n",
        "knn_param_grid = { 'n_neighbors' : [4,6],\n",
        "               'weights' : ['uniform','distance']}\n",
        "\n",
        "grid_kNN_class = GridSearchCV(estimator = kNN_class, scoring = 'accuracy', n_jobs = -1, param_grid = knn_param_grid, cv = 10, refit = True, return_train_score = True)\n",
        "\n",
        "grid_kNN_class.fit(new_X_train_bow, y_train)\n",
        "\n",
        "grid_kNN_class.predict(new_X_test_bow)\n",
        "\n",
        "knn_estimator = grid_kNN_class.best_estimator_\n",
        "knn_score = grid_kNN_class.best_score_"
      ],
      "metadata": {
        "id": "IZmFu1ZQImhn"
      },
      "execution_count": 59,
      "outputs": []
    },
    {
      "cell_type": "markdown",
      "source": [
        "*   4.9. Apply **LogisticRegression** with **GridSearchCV**"
      ],
      "metadata": {
        "id": "0Ix_HeVGIvDu"
      }
    },
    {
      "cell_type": "code",
      "source": [
        "#code\n",
        "r_param_grid = {\n",
        "    'C': [0.01, 0.1, 1],\n",
        "    'max_iter': [100,1000]}\n",
        "\n",
        "grid_lr_class = GridSearchCV(estimator = LogisticRegression(), scoring = 'accuracy', n_jobs = -1, param_grid = lr_param_grid, cv = 10, refit = True, return_train_score = True)\n",
        "\n",
        "grid_lr_class.fit(new_X_train_bow, y_train)\n",
        "\n",
        "grid_lr_class.predict(new_X_test_bow)\n",
        "\n",
        "lr_estimator = grid_lr_class.best_estimator_\n",
        "lr_score = grid_lr_class.best_score_"
      ],
      "metadata": {
        "id": "sTd3alCMIr-i"
      },
      "execution_count": 61,
      "outputs": []
    },
    {
      "cell_type": "markdown",
      "source": [
        "*   4.10. Compare the best obtained results among classification algorithms (use PrettyTable to dispaly the results)"
      ],
      "metadata": {
        "id": "nhYF2y6eI058"
      }
    },
    {
      "cell_type": "code",
      "source": [
        "#code\n",
        "t = PrettyTable(['GridSearchCV algorithms best hyperparameter', 'Best score'])\n",
        "t.add_row([svm_estimator, svm_score])\n",
        "t.add_row([rf_estimator, rf_score])\n",
        "t.add_row([knn_estimator, knn_score])\n",
        "t.add_row([lr_estimator, lr_score])\n",
        "\n",
        "print(t)"
      ],
      "metadata": {
        "id": "j000iogUduP2",
        "outputId": "4c077ad0-5ec6-4248-b2c8-62bdd63bffad",
        "colab": {
          "base_uri": "https://localhost:8080/"
        }
      },
      "execution_count": 62,
      "outputs": [
        {
          "output_type": "stream",
          "name": "stdout",
          "text": [
            "+----------------------------------------------------------------------------+--------------------+\n",
            "|                GridSearchCV algorithms best hyperparameter                 |     Best score     |\n",
            "+----------------------------------------------------------------------------+--------------------+\n",
            "|                             SVC(C=10, gamma=1)                             | 0.8970149253731343 |\n",
            "| RandomForestClassifier(max_depth=6, max_features='log2', max_leaf_nodes=9, | 0.8134328358208955 |\n",
            "|                                         n_estimators=50)                   |                    |\n",
            "|                    KNeighborsClassifier(n_neighbors=6)                     | 0.6985074626865673 |\n",
            "|                          LogisticRegression(C=1)                           | 0.8283582089552238 |\n",
            "+----------------------------------------------------------------------------+--------------------+\n"
          ]
        }
      ]
    },
    {
      "cell_type": "markdown",
      "source": [
        "#Finally,\n",
        "Save a copy in your Github. Remember renaming the notebook."
      ],
      "metadata": {
        "id": "Ok7RGkea_b7n"
      }
    }
  ]
}
