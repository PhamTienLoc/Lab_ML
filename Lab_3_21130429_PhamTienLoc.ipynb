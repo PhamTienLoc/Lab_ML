{
  "nbformat": 4,
  "nbformat_minor": 0,
  "metadata": {
    "colab": {
      "provenance": [],
      "include_colab_link": true
    },
    "kernelspec": {
      "name": "python3",
      "display_name": "Python 3"
    },
    "language_info": {
      "name": "python"
    }
  },
  "cells": [
    {
      "cell_type": "markdown",
      "metadata": {
        "id": "view-in-github",
        "colab_type": "text"
      },
      "source": [
        "<a href=\"https://colab.research.google.com/github/PhamTienLoc/Lab_ML/blob/main/Lab_3_21130429_PhamTienLoc.ipynb\" target=\"_parent\"><img src=\"https://colab.research.google.com/assets/colab-badge.svg\" alt=\"Open In Colab\"/></a>"
      ]
    },
    {
      "cell_type": "markdown",
      "source": [
        "# The main aim of **Lab 3** is to deal with some basic techniques for **preprocessing data** and **Linear Regression using Scikit-learn** – a Python-based Machine Learning framework."
      ],
      "metadata": {
        "id": "4jYgKfiGS7XG"
      }
    },
    {
      "cell_type": "markdown",
      "source": [
        "**Deadline: 23:59, 25/03/2024**"
      ],
      "metadata": {
        "id": "KbeXZnmRRqin"
      }
    },
    {
      "cell_type": "code",
      "source": [
        "from google.colab import drive\n",
        "drive.mount('/content/gdrive')\n",
        "%cd '/content/gdrive/MyDrive/data'"
      ],
      "metadata": {
        "id": "03YDHfESN7Ae",
        "colab": {
          "base_uri": "https://localhost:8080/"
        },
        "outputId": "b49220ce-0d54-4102-d1f3-d6a817cfd419"
      },
      "execution_count": 3,
      "outputs": [
        {
          "output_type": "stream",
          "name": "stdout",
          "text": [
            "Drive already mounted at /content/gdrive; to attempt to forcibly remount, call drive.mount(\"/content/gdrive\", force_remount=True).\n",
            "/content/gdrive/MyDrive/data\n"
          ]
        }
      ]
    },
    {
      "cell_type": "markdown",
      "source": [
        "#Import libraries"
      ],
      "metadata": {
        "id": "NQwMvuwTN-SK"
      }
    },
    {
      "cell_type": "code",
      "source": [
        "import numpy as np\n",
        "import pandas as pd\n",
        "import matplotlib.pyplot as plt\n",
        "from sklearn.impute import SimpleImputer\n",
        "from sklearn.linear_model import LinearRegression\n",
        "from sklearn import metrics"
      ],
      "metadata": {
        "id": "s1vWJNUTN9ip"
      },
      "execution_count": 4,
      "outputs": []
    },
    {
      "cell_type": "markdown",
      "source": [
        "# Task 1.\n",
        "The main aim of this task is to get familiar with the tasks of preprocessing data using **Scikit-learn** – a Python-based Machine Learning framework and Linear Regression.\n"
      ],
      "metadata": {
        "id": "LMzehe0sy5wr"
      }
    },
    {
      "cell_type": "markdown",
      "source": [
        "For given 2 datasets (**weather.csv, salary_dummy.csv**),\n",
        "*   Identify issues with these datasets\n",
        "*   Then, apply preprocessing techniques to the datasets\n"
      ],
      "metadata": {
        "id": "Pck4yZk8KmyU"
      }
    },
    {
      "cell_type": "markdown",
      "source": [
        "#Task 1.1. Dataset **weather.csv**"
      ],
      "metadata": {
        "id": "H4nJmxp9zGX4"
      }
    },
    {
      "cell_type": "markdown",
      "source": [
        "Identify **Issues** of the given dataset:\n",
        "\n",
        "\n",
        "1.   List item\n",
        "2.   List item\n",
        "3.   List item\n",
        "4.   List item\n",
        "....\n",
        "\n"
      ],
      "metadata": {
        "id": "3_RXE803Sb_h"
      }
    },
    {
      "cell_type": "markdown",
      "source": [
        "**Preprocessing dataset**:"
      ],
      "metadata": {
        "id": "WIVGBnAnSo-Q"
      }
    },
    {
      "cell_type": "code",
      "source": [
        "#code\n",
        "data1 = pd.read_csv('weather.csv')\n",
        "imputer = SimpleImputer(missing_values=np.nan, strategy='mean')\n",
        "data1[['temperature','humidity']]=imputer.fit_transform(data1[['temperature','humidity']])\n",
        "data1"
      ],
      "metadata": {
        "id": "hp-7wLFgSvTk",
        "colab": {
          "base_uri": "https://localhost:8080/",
          "height": 488
        },
        "outputId": "0b25cf47-22f1-4620-8a86-64918e790814"
      },
      "execution_count": 8,
      "outputs": [
        {
          "output_type": "execute_result",
          "data": {
            "text/plain": [
              "    id   outlook  temperature   humidity  windy play\n",
              "0    1     sunny    85.000000  85.000000  False   no\n",
              "1    2     sunny    80.000000  90.000000   True   no\n",
              "2    3  overcast    83.000000  86.000000  False  yes\n",
              "3    4     rainy    73.846154  96.000000  False  yes\n",
              "4    5     rainy    68.000000  80.000000  False  yes\n",
              "5    6     rainy    65.000000  70.000000   True   no\n",
              "6    7  overcast    64.000000  65.000000   True  yes\n",
              "7    8     sunny    72.000000  95.000000  False   no\n",
              "8    9     sunny    69.000000  82.538462  False  yes\n",
              "9   10     rainy    75.000000  80.000000  False  yes\n",
              "10  11     sunny    75.000000  70.000000   True  yes\n",
              "11  12  overcast    72.000000  90.000000   True  yes\n",
              "12  13  overcast    81.000000  75.000000  False  yes\n",
              "13  14     rainy    71.000000  91.000000   True   no"
            ],
            "text/html": [
              "\n",
              "  <div id=\"df-a3d65d23-56f4-4b05-b594-87b23218e346\" class=\"colab-df-container\">\n",
              "    <div>\n",
              "<style scoped>\n",
              "    .dataframe tbody tr th:only-of-type {\n",
              "        vertical-align: middle;\n",
              "    }\n",
              "\n",
              "    .dataframe tbody tr th {\n",
              "        vertical-align: top;\n",
              "    }\n",
              "\n",
              "    .dataframe thead th {\n",
              "        text-align: right;\n",
              "    }\n",
              "</style>\n",
              "<table border=\"1\" class=\"dataframe\">\n",
              "  <thead>\n",
              "    <tr style=\"text-align: right;\">\n",
              "      <th></th>\n",
              "      <th>id</th>\n",
              "      <th>outlook</th>\n",
              "      <th>temperature</th>\n",
              "      <th>humidity</th>\n",
              "      <th>windy</th>\n",
              "      <th>play</th>\n",
              "    </tr>\n",
              "  </thead>\n",
              "  <tbody>\n",
              "    <tr>\n",
              "      <th>0</th>\n",
              "      <td>1</td>\n",
              "      <td>sunny</td>\n",
              "      <td>85.000000</td>\n",
              "      <td>85.000000</td>\n",
              "      <td>False</td>\n",
              "      <td>no</td>\n",
              "    </tr>\n",
              "    <tr>\n",
              "      <th>1</th>\n",
              "      <td>2</td>\n",
              "      <td>sunny</td>\n",
              "      <td>80.000000</td>\n",
              "      <td>90.000000</td>\n",
              "      <td>True</td>\n",
              "      <td>no</td>\n",
              "    </tr>\n",
              "    <tr>\n",
              "      <th>2</th>\n",
              "      <td>3</td>\n",
              "      <td>overcast</td>\n",
              "      <td>83.000000</td>\n",
              "      <td>86.000000</td>\n",
              "      <td>False</td>\n",
              "      <td>yes</td>\n",
              "    </tr>\n",
              "    <tr>\n",
              "      <th>3</th>\n",
              "      <td>4</td>\n",
              "      <td>rainy</td>\n",
              "      <td>73.846154</td>\n",
              "      <td>96.000000</td>\n",
              "      <td>False</td>\n",
              "      <td>yes</td>\n",
              "    </tr>\n",
              "    <tr>\n",
              "      <th>4</th>\n",
              "      <td>5</td>\n",
              "      <td>rainy</td>\n",
              "      <td>68.000000</td>\n",
              "      <td>80.000000</td>\n",
              "      <td>False</td>\n",
              "      <td>yes</td>\n",
              "    </tr>\n",
              "    <tr>\n",
              "      <th>5</th>\n",
              "      <td>6</td>\n",
              "      <td>rainy</td>\n",
              "      <td>65.000000</td>\n",
              "      <td>70.000000</td>\n",
              "      <td>True</td>\n",
              "      <td>no</td>\n",
              "    </tr>\n",
              "    <tr>\n",
              "      <th>6</th>\n",
              "      <td>7</td>\n",
              "      <td>overcast</td>\n",
              "      <td>64.000000</td>\n",
              "      <td>65.000000</td>\n",
              "      <td>True</td>\n",
              "      <td>yes</td>\n",
              "    </tr>\n",
              "    <tr>\n",
              "      <th>7</th>\n",
              "      <td>8</td>\n",
              "      <td>sunny</td>\n",
              "      <td>72.000000</td>\n",
              "      <td>95.000000</td>\n",
              "      <td>False</td>\n",
              "      <td>no</td>\n",
              "    </tr>\n",
              "    <tr>\n",
              "      <th>8</th>\n",
              "      <td>9</td>\n",
              "      <td>sunny</td>\n",
              "      <td>69.000000</td>\n",
              "      <td>82.538462</td>\n",
              "      <td>False</td>\n",
              "      <td>yes</td>\n",
              "    </tr>\n",
              "    <tr>\n",
              "      <th>9</th>\n",
              "      <td>10</td>\n",
              "      <td>rainy</td>\n",
              "      <td>75.000000</td>\n",
              "      <td>80.000000</td>\n",
              "      <td>False</td>\n",
              "      <td>yes</td>\n",
              "    </tr>\n",
              "    <tr>\n",
              "      <th>10</th>\n",
              "      <td>11</td>\n",
              "      <td>sunny</td>\n",
              "      <td>75.000000</td>\n",
              "      <td>70.000000</td>\n",
              "      <td>True</td>\n",
              "      <td>yes</td>\n",
              "    </tr>\n",
              "    <tr>\n",
              "      <th>11</th>\n",
              "      <td>12</td>\n",
              "      <td>overcast</td>\n",
              "      <td>72.000000</td>\n",
              "      <td>90.000000</td>\n",
              "      <td>True</td>\n",
              "      <td>yes</td>\n",
              "    </tr>\n",
              "    <tr>\n",
              "      <th>12</th>\n",
              "      <td>13</td>\n",
              "      <td>overcast</td>\n",
              "      <td>81.000000</td>\n",
              "      <td>75.000000</td>\n",
              "      <td>False</td>\n",
              "      <td>yes</td>\n",
              "    </tr>\n",
              "    <tr>\n",
              "      <th>13</th>\n",
              "      <td>14</td>\n",
              "      <td>rainy</td>\n",
              "      <td>71.000000</td>\n",
              "      <td>91.000000</td>\n",
              "      <td>True</td>\n",
              "      <td>no</td>\n",
              "    </tr>\n",
              "  </tbody>\n",
              "</table>\n",
              "</div>\n",
              "    <div class=\"colab-df-buttons\">\n",
              "\n",
              "  <div class=\"colab-df-container\">\n",
              "    <button class=\"colab-df-convert\" onclick=\"convertToInteractive('df-a3d65d23-56f4-4b05-b594-87b23218e346')\"\n",
              "            title=\"Convert this dataframe to an interactive table.\"\n",
              "            style=\"display:none;\">\n",
              "\n",
              "  <svg xmlns=\"http://www.w3.org/2000/svg\" height=\"24px\" viewBox=\"0 -960 960 960\">\n",
              "    <path d=\"M120-120v-720h720v720H120Zm60-500h600v-160H180v160Zm220 220h160v-160H400v160Zm0 220h160v-160H400v160ZM180-400h160v-160H180v160Zm440 0h160v-160H620v160ZM180-180h160v-160H180v160Zm440 0h160v-160H620v160Z\"/>\n",
              "  </svg>\n",
              "    </button>\n",
              "\n",
              "  <style>\n",
              "    .colab-df-container {\n",
              "      display:flex;\n",
              "      gap: 12px;\n",
              "    }\n",
              "\n",
              "    .colab-df-convert {\n",
              "      background-color: #E8F0FE;\n",
              "      border: none;\n",
              "      border-radius: 50%;\n",
              "      cursor: pointer;\n",
              "      display: none;\n",
              "      fill: #1967D2;\n",
              "      height: 32px;\n",
              "      padding: 0 0 0 0;\n",
              "      width: 32px;\n",
              "    }\n",
              "\n",
              "    .colab-df-convert:hover {\n",
              "      background-color: #E2EBFA;\n",
              "      box-shadow: 0px 1px 2px rgba(60, 64, 67, 0.3), 0px 1px 3px 1px rgba(60, 64, 67, 0.15);\n",
              "      fill: #174EA6;\n",
              "    }\n",
              "\n",
              "    .colab-df-buttons div {\n",
              "      margin-bottom: 4px;\n",
              "    }\n",
              "\n",
              "    [theme=dark] .colab-df-convert {\n",
              "      background-color: #3B4455;\n",
              "      fill: #D2E3FC;\n",
              "    }\n",
              "\n",
              "    [theme=dark] .colab-df-convert:hover {\n",
              "      background-color: #434B5C;\n",
              "      box-shadow: 0px 1px 3px 1px rgba(0, 0, 0, 0.15);\n",
              "      filter: drop-shadow(0px 1px 2px rgba(0, 0, 0, 0.3));\n",
              "      fill: #FFFFFF;\n",
              "    }\n",
              "  </style>\n",
              "\n",
              "    <script>\n",
              "      const buttonEl =\n",
              "        document.querySelector('#df-a3d65d23-56f4-4b05-b594-87b23218e346 button.colab-df-convert');\n",
              "      buttonEl.style.display =\n",
              "        google.colab.kernel.accessAllowed ? 'block' : 'none';\n",
              "\n",
              "      async function convertToInteractive(key) {\n",
              "        const element = document.querySelector('#df-a3d65d23-56f4-4b05-b594-87b23218e346');\n",
              "        const dataTable =\n",
              "          await google.colab.kernel.invokeFunction('convertToInteractive',\n",
              "                                                    [key], {});\n",
              "        if (!dataTable) return;\n",
              "\n",
              "        const docLinkHtml = 'Like what you see? Visit the ' +\n",
              "          '<a target=\"_blank\" href=https://colab.research.google.com/notebooks/data_table.ipynb>data table notebook</a>'\n",
              "          + ' to learn more about interactive tables.';\n",
              "        element.innerHTML = '';\n",
              "        dataTable['output_type'] = 'display_data';\n",
              "        await google.colab.output.renderOutput(dataTable, element);\n",
              "        const docLink = document.createElement('div');\n",
              "        docLink.innerHTML = docLinkHtml;\n",
              "        element.appendChild(docLink);\n",
              "      }\n",
              "    </script>\n",
              "  </div>\n",
              "\n",
              "\n",
              "<div id=\"df-56c7d90e-59c9-4436-adf0-77d2555ada20\">\n",
              "  <button class=\"colab-df-quickchart\" onclick=\"quickchart('df-56c7d90e-59c9-4436-adf0-77d2555ada20')\"\n",
              "            title=\"Suggest charts\"\n",
              "            style=\"display:none;\">\n",
              "\n",
              "<svg xmlns=\"http://www.w3.org/2000/svg\" height=\"24px\"viewBox=\"0 0 24 24\"\n",
              "     width=\"24px\">\n",
              "    <g>\n",
              "        <path d=\"M19 3H5c-1.1 0-2 .9-2 2v14c0 1.1.9 2 2 2h14c1.1 0 2-.9 2-2V5c0-1.1-.9-2-2-2zM9 17H7v-7h2v7zm4 0h-2V7h2v10zm4 0h-2v-4h2v4z\"/>\n",
              "    </g>\n",
              "</svg>\n",
              "  </button>\n",
              "\n",
              "<style>\n",
              "  .colab-df-quickchart {\n",
              "      --bg-color: #E8F0FE;\n",
              "      --fill-color: #1967D2;\n",
              "      --hover-bg-color: #E2EBFA;\n",
              "      --hover-fill-color: #174EA6;\n",
              "      --disabled-fill-color: #AAA;\n",
              "      --disabled-bg-color: #DDD;\n",
              "  }\n",
              "\n",
              "  [theme=dark] .colab-df-quickchart {\n",
              "      --bg-color: #3B4455;\n",
              "      --fill-color: #D2E3FC;\n",
              "      --hover-bg-color: #434B5C;\n",
              "      --hover-fill-color: #FFFFFF;\n",
              "      --disabled-bg-color: #3B4455;\n",
              "      --disabled-fill-color: #666;\n",
              "  }\n",
              "\n",
              "  .colab-df-quickchart {\n",
              "    background-color: var(--bg-color);\n",
              "    border: none;\n",
              "    border-radius: 50%;\n",
              "    cursor: pointer;\n",
              "    display: none;\n",
              "    fill: var(--fill-color);\n",
              "    height: 32px;\n",
              "    padding: 0;\n",
              "    width: 32px;\n",
              "  }\n",
              "\n",
              "  .colab-df-quickchart:hover {\n",
              "    background-color: var(--hover-bg-color);\n",
              "    box-shadow: 0 1px 2px rgba(60, 64, 67, 0.3), 0 1px 3px 1px rgba(60, 64, 67, 0.15);\n",
              "    fill: var(--button-hover-fill-color);\n",
              "  }\n",
              "\n",
              "  .colab-df-quickchart-complete:disabled,\n",
              "  .colab-df-quickchart-complete:disabled:hover {\n",
              "    background-color: var(--disabled-bg-color);\n",
              "    fill: var(--disabled-fill-color);\n",
              "    box-shadow: none;\n",
              "  }\n",
              "\n",
              "  .colab-df-spinner {\n",
              "    border: 2px solid var(--fill-color);\n",
              "    border-color: transparent;\n",
              "    border-bottom-color: var(--fill-color);\n",
              "    animation:\n",
              "      spin 1s steps(1) infinite;\n",
              "  }\n",
              "\n",
              "  @keyframes spin {\n",
              "    0% {\n",
              "      border-color: transparent;\n",
              "      border-bottom-color: var(--fill-color);\n",
              "      border-left-color: var(--fill-color);\n",
              "    }\n",
              "    20% {\n",
              "      border-color: transparent;\n",
              "      border-left-color: var(--fill-color);\n",
              "      border-top-color: var(--fill-color);\n",
              "    }\n",
              "    30% {\n",
              "      border-color: transparent;\n",
              "      border-left-color: var(--fill-color);\n",
              "      border-top-color: var(--fill-color);\n",
              "      border-right-color: var(--fill-color);\n",
              "    }\n",
              "    40% {\n",
              "      border-color: transparent;\n",
              "      border-right-color: var(--fill-color);\n",
              "      border-top-color: var(--fill-color);\n",
              "    }\n",
              "    60% {\n",
              "      border-color: transparent;\n",
              "      border-right-color: var(--fill-color);\n",
              "    }\n",
              "    80% {\n",
              "      border-color: transparent;\n",
              "      border-right-color: var(--fill-color);\n",
              "      border-bottom-color: var(--fill-color);\n",
              "    }\n",
              "    90% {\n",
              "      border-color: transparent;\n",
              "      border-bottom-color: var(--fill-color);\n",
              "    }\n",
              "  }\n",
              "</style>\n",
              "\n",
              "  <script>\n",
              "    async function quickchart(key) {\n",
              "      const quickchartButtonEl =\n",
              "        document.querySelector('#' + key + ' button');\n",
              "      quickchartButtonEl.disabled = true;  // To prevent multiple clicks.\n",
              "      quickchartButtonEl.classList.add('colab-df-spinner');\n",
              "      try {\n",
              "        const charts = await google.colab.kernel.invokeFunction(\n",
              "            'suggestCharts', [key], {});\n",
              "      } catch (error) {\n",
              "        console.error('Error during call to suggestCharts:', error);\n",
              "      }\n",
              "      quickchartButtonEl.classList.remove('colab-df-spinner');\n",
              "      quickchartButtonEl.classList.add('colab-df-quickchart-complete');\n",
              "    }\n",
              "    (() => {\n",
              "      let quickchartButtonEl =\n",
              "        document.querySelector('#df-56c7d90e-59c9-4436-adf0-77d2555ada20 button');\n",
              "      quickchartButtonEl.style.display =\n",
              "        google.colab.kernel.accessAllowed ? 'block' : 'none';\n",
              "    })();\n",
              "  </script>\n",
              "</div>\n",
              "    </div>\n",
              "  </div>\n"
            ],
            "application/vnd.google.colaboratory.intrinsic+json": {
              "type": "dataframe",
              "variable_name": "data1",
              "summary": "{\n  \"name\": \"data1\",\n  \"rows\": 14,\n  \"fields\": [\n    {\n      \"column\": \"id\",\n      \"properties\": {\n        \"dtype\": \"number\",\n        \"std\": 4,\n        \"min\": 1,\n        \"max\": 14,\n        \"num_unique_values\": 14,\n        \"samples\": [\n          10,\n          12,\n          1\n        ],\n        \"semantic_type\": \"\",\n        \"description\": \"\"\n      }\n    },\n    {\n      \"column\": \"outlook\",\n      \"properties\": {\n        \"dtype\": \"category\",\n        \"num_unique_values\": 3,\n        \"samples\": [\n          \"sunny\",\n          \"overcast\",\n          \"rainy\"\n        ],\n        \"semantic_type\": \"\",\n        \"description\": \"\"\n      }\n    },\n    {\n      \"column\": \"temperature\",\n      \"properties\": {\n        \"dtype\": \"number\",\n        \"std\": 6.490776341455073,\n        \"min\": 64.0,\n        \"max\": 85.0,\n        \"num_unique_values\": 12,\n        \"samples\": [\n          81.0,\n          75.0,\n          85.0\n        ],\n        \"semantic_type\": \"\",\n        \"description\": \"\"\n      }\n    },\n    {\n      \"column\": \"humidity\",\n      \"properties\": {\n        \"dtype\": \"number\",\n        \"std\": 9.724001903421836,\n        \"min\": 65.0,\n        \"max\": 96.0,\n        \"num_unique_values\": 11,\n        \"samples\": [\n          70.0,\n          85.0,\n          75.0\n        ],\n        \"semantic_type\": \"\",\n        \"description\": \"\"\n      }\n    },\n    {\n      \"column\": \"windy\",\n      \"properties\": {\n        \"dtype\": \"boolean\",\n        \"num_unique_values\": 2,\n        \"samples\": [\n          true,\n          false\n        ],\n        \"semantic_type\": \"\",\n        \"description\": \"\"\n      }\n    },\n    {\n      \"column\": \"play\",\n      \"properties\": {\n        \"dtype\": \"category\",\n        \"num_unique_values\": 2,\n        \"samples\": [\n          \"yes\",\n          \"no\"\n        ],\n        \"semantic_type\": \"\",\n        \"description\": \"\"\n      }\n    }\n  ]\n}"
            }
          },
          "metadata": {},
          "execution_count": 8
        }
      ]
    },
    {
      "cell_type": "markdown",
      "source": [
        "#Task 1.2. Dataset **salary_dummy.csv**"
      ],
      "metadata": {
        "id": "GbFjDSGVS3Gg"
      }
    },
    {
      "cell_type": "markdown",
      "source": [
        "Identify **Issues** of the given dataset:\n",
        "\n",
        "\n",
        "1.   List item\n",
        "2.   List item\n",
        "3.   List item\n",
        "4.   List item\n",
        "....\n",
        "\n"
      ],
      "metadata": {
        "id": "0lGRgoArS_5u"
      }
    },
    {
      "cell_type": "markdown",
      "source": [
        "**Preprocessing dataset**:\n",
        "Impute missing values for features using **SimpleImputer**"
      ],
      "metadata": {
        "id": "EPlB4J5fTCUD"
      }
    },
    {
      "cell_type": "code",
      "source": [
        "#code\n",
        "data2 = pd.read_csv('salary_dummy.csv')\n",
        "imputer = SimpleImputer(missing_values=np.nan, strategy='mean')\n",
        "data2[['Age','Salary']]=imputer.fit_transform(data2[['Age','Salary']])\n",
        "data2\n",
        "data2 = pd.get_dummies(data2, )"
      ],
      "metadata": {
        "id": "Q9skC5VxTDCd",
        "colab": {
          "base_uri": "https://localhost:8080/",
          "height": 363
        },
        "outputId": "49825ee7-5246-4c52-b989-e917dd7ffaf3"
      },
      "execution_count": 9,
      "outputs": [
        {
          "output_type": "execute_result",
          "data": {
            "text/plain": [
              "   No  Country        Age        Salary Purchased\n",
              "0   1   France  44.000000  72000.000000        No\n",
              "1   2    Spain  27.000000  48000.000000       Yes\n",
              "2   3  Germany  30.000000  54000.000000        No\n",
              "3   4    Spain  38.000000  61000.000000        No\n",
              "4   5  Germany  40.000000  63777.777778       Yes\n",
              "5   6   France  35.000000  58000.000000       Yes\n",
              "6   7    Spain  38.777778  52000.000000        No\n",
              "7   8   France  48.000000  79000.000000       Yes\n",
              "8   9  Germany  50.000000  83000.000000        No\n",
              "9  10   France  37.000000  67000.000000       Yes"
            ],
            "text/html": [
              "\n",
              "  <div id=\"df-d2ae313d-3398-4114-af36-1ec83ae5f1e9\" class=\"colab-df-container\">\n",
              "    <div>\n",
              "<style scoped>\n",
              "    .dataframe tbody tr th:only-of-type {\n",
              "        vertical-align: middle;\n",
              "    }\n",
              "\n",
              "    .dataframe tbody tr th {\n",
              "        vertical-align: top;\n",
              "    }\n",
              "\n",
              "    .dataframe thead th {\n",
              "        text-align: right;\n",
              "    }\n",
              "</style>\n",
              "<table border=\"1\" class=\"dataframe\">\n",
              "  <thead>\n",
              "    <tr style=\"text-align: right;\">\n",
              "      <th></th>\n",
              "      <th>No</th>\n",
              "      <th>Country</th>\n",
              "      <th>Age</th>\n",
              "      <th>Salary</th>\n",
              "      <th>Purchased</th>\n",
              "    </tr>\n",
              "  </thead>\n",
              "  <tbody>\n",
              "    <tr>\n",
              "      <th>0</th>\n",
              "      <td>1</td>\n",
              "      <td>France</td>\n",
              "      <td>44.000000</td>\n",
              "      <td>72000.000000</td>\n",
              "      <td>No</td>\n",
              "    </tr>\n",
              "    <tr>\n",
              "      <th>1</th>\n",
              "      <td>2</td>\n",
              "      <td>Spain</td>\n",
              "      <td>27.000000</td>\n",
              "      <td>48000.000000</td>\n",
              "      <td>Yes</td>\n",
              "    </tr>\n",
              "    <tr>\n",
              "      <th>2</th>\n",
              "      <td>3</td>\n",
              "      <td>Germany</td>\n",
              "      <td>30.000000</td>\n",
              "      <td>54000.000000</td>\n",
              "      <td>No</td>\n",
              "    </tr>\n",
              "    <tr>\n",
              "      <th>3</th>\n",
              "      <td>4</td>\n",
              "      <td>Spain</td>\n",
              "      <td>38.000000</td>\n",
              "      <td>61000.000000</td>\n",
              "      <td>No</td>\n",
              "    </tr>\n",
              "    <tr>\n",
              "      <th>4</th>\n",
              "      <td>5</td>\n",
              "      <td>Germany</td>\n",
              "      <td>40.000000</td>\n",
              "      <td>63777.777778</td>\n",
              "      <td>Yes</td>\n",
              "    </tr>\n",
              "    <tr>\n",
              "      <th>5</th>\n",
              "      <td>6</td>\n",
              "      <td>France</td>\n",
              "      <td>35.000000</td>\n",
              "      <td>58000.000000</td>\n",
              "      <td>Yes</td>\n",
              "    </tr>\n",
              "    <tr>\n",
              "      <th>6</th>\n",
              "      <td>7</td>\n",
              "      <td>Spain</td>\n",
              "      <td>38.777778</td>\n",
              "      <td>52000.000000</td>\n",
              "      <td>No</td>\n",
              "    </tr>\n",
              "    <tr>\n",
              "      <th>7</th>\n",
              "      <td>8</td>\n",
              "      <td>France</td>\n",
              "      <td>48.000000</td>\n",
              "      <td>79000.000000</td>\n",
              "      <td>Yes</td>\n",
              "    </tr>\n",
              "    <tr>\n",
              "      <th>8</th>\n",
              "      <td>9</td>\n",
              "      <td>Germany</td>\n",
              "      <td>50.000000</td>\n",
              "      <td>83000.000000</td>\n",
              "      <td>No</td>\n",
              "    </tr>\n",
              "    <tr>\n",
              "      <th>9</th>\n",
              "      <td>10</td>\n",
              "      <td>France</td>\n",
              "      <td>37.000000</td>\n",
              "      <td>67000.000000</td>\n",
              "      <td>Yes</td>\n",
              "    </tr>\n",
              "  </tbody>\n",
              "</table>\n",
              "</div>\n",
              "    <div class=\"colab-df-buttons\">\n",
              "\n",
              "  <div class=\"colab-df-container\">\n",
              "    <button class=\"colab-df-convert\" onclick=\"convertToInteractive('df-d2ae313d-3398-4114-af36-1ec83ae5f1e9')\"\n",
              "            title=\"Convert this dataframe to an interactive table.\"\n",
              "            style=\"display:none;\">\n",
              "\n",
              "  <svg xmlns=\"http://www.w3.org/2000/svg\" height=\"24px\" viewBox=\"0 -960 960 960\">\n",
              "    <path d=\"M120-120v-720h720v720H120Zm60-500h600v-160H180v160Zm220 220h160v-160H400v160Zm0 220h160v-160H400v160ZM180-400h160v-160H180v160Zm440 0h160v-160H620v160ZM180-180h160v-160H180v160Zm440 0h160v-160H620v160Z\"/>\n",
              "  </svg>\n",
              "    </button>\n",
              "\n",
              "  <style>\n",
              "    .colab-df-container {\n",
              "      display:flex;\n",
              "      gap: 12px;\n",
              "    }\n",
              "\n",
              "    .colab-df-convert {\n",
              "      background-color: #E8F0FE;\n",
              "      border: none;\n",
              "      border-radius: 50%;\n",
              "      cursor: pointer;\n",
              "      display: none;\n",
              "      fill: #1967D2;\n",
              "      height: 32px;\n",
              "      padding: 0 0 0 0;\n",
              "      width: 32px;\n",
              "    }\n",
              "\n",
              "    .colab-df-convert:hover {\n",
              "      background-color: #E2EBFA;\n",
              "      box-shadow: 0px 1px 2px rgba(60, 64, 67, 0.3), 0px 1px 3px 1px rgba(60, 64, 67, 0.15);\n",
              "      fill: #174EA6;\n",
              "    }\n",
              "\n",
              "    .colab-df-buttons div {\n",
              "      margin-bottom: 4px;\n",
              "    }\n",
              "\n",
              "    [theme=dark] .colab-df-convert {\n",
              "      background-color: #3B4455;\n",
              "      fill: #D2E3FC;\n",
              "    }\n",
              "\n",
              "    [theme=dark] .colab-df-convert:hover {\n",
              "      background-color: #434B5C;\n",
              "      box-shadow: 0px 1px 3px 1px rgba(0, 0, 0, 0.15);\n",
              "      filter: drop-shadow(0px 1px 2px rgba(0, 0, 0, 0.3));\n",
              "      fill: #FFFFFF;\n",
              "    }\n",
              "  </style>\n",
              "\n",
              "    <script>\n",
              "      const buttonEl =\n",
              "        document.querySelector('#df-d2ae313d-3398-4114-af36-1ec83ae5f1e9 button.colab-df-convert');\n",
              "      buttonEl.style.display =\n",
              "        google.colab.kernel.accessAllowed ? 'block' : 'none';\n",
              "\n",
              "      async function convertToInteractive(key) {\n",
              "        const element = document.querySelector('#df-d2ae313d-3398-4114-af36-1ec83ae5f1e9');\n",
              "        const dataTable =\n",
              "          await google.colab.kernel.invokeFunction('convertToInteractive',\n",
              "                                                    [key], {});\n",
              "        if (!dataTable) return;\n",
              "\n",
              "        const docLinkHtml = 'Like what you see? Visit the ' +\n",
              "          '<a target=\"_blank\" href=https://colab.research.google.com/notebooks/data_table.ipynb>data table notebook</a>'\n",
              "          + ' to learn more about interactive tables.';\n",
              "        element.innerHTML = '';\n",
              "        dataTable['output_type'] = 'display_data';\n",
              "        await google.colab.output.renderOutput(dataTable, element);\n",
              "        const docLink = document.createElement('div');\n",
              "        docLink.innerHTML = docLinkHtml;\n",
              "        element.appendChild(docLink);\n",
              "      }\n",
              "    </script>\n",
              "  </div>\n",
              "\n",
              "\n",
              "<div id=\"df-e50debd4-009d-46a5-8389-b0a50eff475a\">\n",
              "  <button class=\"colab-df-quickchart\" onclick=\"quickchart('df-e50debd4-009d-46a5-8389-b0a50eff475a')\"\n",
              "            title=\"Suggest charts\"\n",
              "            style=\"display:none;\">\n",
              "\n",
              "<svg xmlns=\"http://www.w3.org/2000/svg\" height=\"24px\"viewBox=\"0 0 24 24\"\n",
              "     width=\"24px\">\n",
              "    <g>\n",
              "        <path d=\"M19 3H5c-1.1 0-2 .9-2 2v14c0 1.1.9 2 2 2h14c1.1 0 2-.9 2-2V5c0-1.1-.9-2-2-2zM9 17H7v-7h2v7zm4 0h-2V7h2v10zm4 0h-2v-4h2v4z\"/>\n",
              "    </g>\n",
              "</svg>\n",
              "  </button>\n",
              "\n",
              "<style>\n",
              "  .colab-df-quickchart {\n",
              "      --bg-color: #E8F0FE;\n",
              "      --fill-color: #1967D2;\n",
              "      --hover-bg-color: #E2EBFA;\n",
              "      --hover-fill-color: #174EA6;\n",
              "      --disabled-fill-color: #AAA;\n",
              "      --disabled-bg-color: #DDD;\n",
              "  }\n",
              "\n",
              "  [theme=dark] .colab-df-quickchart {\n",
              "      --bg-color: #3B4455;\n",
              "      --fill-color: #D2E3FC;\n",
              "      --hover-bg-color: #434B5C;\n",
              "      --hover-fill-color: #FFFFFF;\n",
              "      --disabled-bg-color: #3B4455;\n",
              "      --disabled-fill-color: #666;\n",
              "  }\n",
              "\n",
              "  .colab-df-quickchart {\n",
              "    background-color: var(--bg-color);\n",
              "    border: none;\n",
              "    border-radius: 50%;\n",
              "    cursor: pointer;\n",
              "    display: none;\n",
              "    fill: var(--fill-color);\n",
              "    height: 32px;\n",
              "    padding: 0;\n",
              "    width: 32px;\n",
              "  }\n",
              "\n",
              "  .colab-df-quickchart:hover {\n",
              "    background-color: var(--hover-bg-color);\n",
              "    box-shadow: 0 1px 2px rgba(60, 64, 67, 0.3), 0 1px 3px 1px rgba(60, 64, 67, 0.15);\n",
              "    fill: var(--button-hover-fill-color);\n",
              "  }\n",
              "\n",
              "  .colab-df-quickchart-complete:disabled,\n",
              "  .colab-df-quickchart-complete:disabled:hover {\n",
              "    background-color: var(--disabled-bg-color);\n",
              "    fill: var(--disabled-fill-color);\n",
              "    box-shadow: none;\n",
              "  }\n",
              "\n",
              "  .colab-df-spinner {\n",
              "    border: 2px solid var(--fill-color);\n",
              "    border-color: transparent;\n",
              "    border-bottom-color: var(--fill-color);\n",
              "    animation:\n",
              "      spin 1s steps(1) infinite;\n",
              "  }\n",
              "\n",
              "  @keyframes spin {\n",
              "    0% {\n",
              "      border-color: transparent;\n",
              "      border-bottom-color: var(--fill-color);\n",
              "      border-left-color: var(--fill-color);\n",
              "    }\n",
              "    20% {\n",
              "      border-color: transparent;\n",
              "      border-left-color: var(--fill-color);\n",
              "      border-top-color: var(--fill-color);\n",
              "    }\n",
              "    30% {\n",
              "      border-color: transparent;\n",
              "      border-left-color: var(--fill-color);\n",
              "      border-top-color: var(--fill-color);\n",
              "      border-right-color: var(--fill-color);\n",
              "    }\n",
              "    40% {\n",
              "      border-color: transparent;\n",
              "      border-right-color: var(--fill-color);\n",
              "      border-top-color: var(--fill-color);\n",
              "    }\n",
              "    60% {\n",
              "      border-color: transparent;\n",
              "      border-right-color: var(--fill-color);\n",
              "    }\n",
              "    80% {\n",
              "      border-color: transparent;\n",
              "      border-right-color: var(--fill-color);\n",
              "      border-bottom-color: var(--fill-color);\n",
              "    }\n",
              "    90% {\n",
              "      border-color: transparent;\n",
              "      border-bottom-color: var(--fill-color);\n",
              "    }\n",
              "  }\n",
              "</style>\n",
              "\n",
              "  <script>\n",
              "    async function quickchart(key) {\n",
              "      const quickchartButtonEl =\n",
              "        document.querySelector('#' + key + ' button');\n",
              "      quickchartButtonEl.disabled = true;  // To prevent multiple clicks.\n",
              "      quickchartButtonEl.classList.add('colab-df-spinner');\n",
              "      try {\n",
              "        const charts = await google.colab.kernel.invokeFunction(\n",
              "            'suggestCharts', [key], {});\n",
              "      } catch (error) {\n",
              "        console.error('Error during call to suggestCharts:', error);\n",
              "      }\n",
              "      quickchartButtonEl.classList.remove('colab-df-spinner');\n",
              "      quickchartButtonEl.classList.add('colab-df-quickchart-complete');\n",
              "    }\n",
              "    (() => {\n",
              "      let quickchartButtonEl =\n",
              "        document.querySelector('#df-e50debd4-009d-46a5-8389-b0a50eff475a button');\n",
              "      quickchartButtonEl.style.display =\n",
              "        google.colab.kernel.accessAllowed ? 'block' : 'none';\n",
              "    })();\n",
              "  </script>\n",
              "</div>\n",
              "    </div>\n",
              "  </div>\n"
            ],
            "application/vnd.google.colaboratory.intrinsic+json": {
              "type": "dataframe",
              "variable_name": "data2",
              "summary": "{\n  \"name\": \"data2\",\n  \"rows\": 10,\n  \"fields\": [\n    {\n      \"column\": \"No\",\n      \"properties\": {\n        \"dtype\": \"number\",\n        \"std\": 3,\n        \"min\": 1,\n        \"max\": 10,\n        \"num_unique_values\": 10,\n        \"samples\": [\n          9,\n          2,\n          6\n        ],\n        \"semantic_type\": \"\",\n        \"description\": \"\"\n      }\n    },\n    {\n      \"column\": \"Country\",\n      \"properties\": {\n        \"dtype\": \"category\",\n        \"num_unique_values\": 3,\n        \"samples\": [\n          \"France\",\n          \"Spain\",\n          \"Germany\"\n        ],\n        \"semantic_type\": \"\",\n        \"description\": \"\"\n      }\n    },\n    {\n      \"column\": \"Age\",\n      \"properties\": {\n        \"dtype\": \"number\",\n        \"std\": 7.253777219533095,\n        \"min\": 27.0,\n        \"max\": 50.0,\n        \"num_unique_values\": 10,\n        \"samples\": [\n          50.0,\n          27.0,\n          35.0\n        ],\n        \"semantic_type\": \"\",\n        \"description\": \"\"\n      }\n    },\n    {\n      \"column\": \"Salary\",\n      \"properties\": {\n        \"dtype\": \"number\",\n        \"std\": 11564.099405562389,\n        \"min\": 48000.0,\n        \"max\": 83000.0,\n        \"num_unique_values\": 10,\n        \"samples\": [\n          83000.0,\n          48000.0,\n          58000.0\n        ],\n        \"semantic_type\": \"\",\n        \"description\": \"\"\n      }\n    },\n    {\n      \"column\": \"Purchased\",\n      \"properties\": {\n        \"dtype\": \"category\",\n        \"num_unique_values\": 2,\n        \"samples\": [\n          \"Yes\",\n          \"No\"\n        ],\n        \"semantic_type\": \"\",\n        \"description\": \"\"\n      }\n    }\n  ]\n}"
            }
          },
          "metadata": {},
          "execution_count": 9
        }
      ]
    },
    {
      "cell_type": "markdown",
      "source": [
        "After imputing missing values for salary dataset, please apply **CATEGORICAL TO NUMERIC** for feature Country"
      ],
      "metadata": {
        "id": "x-wK6JVv5Zs7"
      }
    },
    {
      "cell_type": "markdown",
      "source": [
        "# **Task 2**. Simple Linear Regression in Scikit-Learn\n",
        "---\n",
        "# **Usage:**\n",
        "> **Step 1**: build a model\n",
        "![image.png](data:image/png;base64,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)\n",
        "\n",
        "> **Step 2**: test the model\n",
        "\n",
        "*   With test set:\n",
        "`y_pred = regressor.predict(X_test)`\n",
        "\n",
        "*   With a single value (\"predict\" method always expects a 2D array as the format of its inputs)\n",
        "`regressor.predict([[12]])`\n",
        "\n",
        "> **Step 3**:\n",
        "*   get w0, w1 , w2, …,\n",
        "-- W0: `regressor.intercept_`\n",
        "-- w1, w2, …: `regressor.coef_`\n",
        "*   R^2 score: sum of squared r(i)\n",
        "`r(i) = y(i) - f(x(i))`: residual of ith instance\n",
        "\n",
        "\n",
        "> **Metrics**:\n",
        "*   metrics.explained_variance_score(y_test, y_pred)\n",
        "*   metrics.mean_absolute_error(y_ test, y_pred)\n",
        "*   metrics.mean_squared_error(y_ test, y_pred[, ...])\n",
        "*   metrics.mean_squared_log_error(y_ test, y_pred)\n",
        "*   metrics.median_absolute_error(y_ test, y_pred)\n",
        "*   metrics.r2_score(y_ test, y_pred[, ...])\n"
      ],
      "metadata": {
        "id": "4_r5ZV4_zL20"
      }
    },
    {
      "cell_type": "markdown",
      "source": [
        "\n",
        "\n",
        "---\n",
        "\n"
      ],
      "metadata": {
        "id": "oSy2WoJiSHQM"
      }
    },
    {
      "cell_type": "markdown",
      "source": [
        "# Tasks\n",
        "The main aim of these tasks is to get familiar with **Linear Regression** problems. Apply LinearRegression to the following datasets. Note **the error obtained, coefficients and values of metrics** as aforementioned.\n",
        "*   **dataset1.csv** - a synthetic dataset including 5 points (1-dimensional data) with one target\n",
        "*   **dataset2.csv** - a synthetic dataset including 1000 points (3-dimensional data) with one target variable. The variables are named x1, x2, x3, y. y is the variable to be regressed. Split the dataset into training set and test set (70% for training set and 30% for test set).\n"
      ],
      "metadata": {
        "id": "oJwsJwj03iD_"
      }
    },
    {
      "cell_type": "markdown",
      "source": [
        "# Task 2.1. dataset1.csv\n"
      ],
      "metadata": {
        "id": "XXmlzCILTkdG"
      }
    },
    {
      "cell_type": "code",
      "source": [
        "#code\n",
        "data3 = pd.read_csv('dataset1.csv')\n",
        "regressor = LinearRegression()\n",
        "regressor.fit(data3[['x']],data3[['y']])\n",
        "y_pred = regressor.predict(data3[['x']])\n",
        "plt.scatter(data3[['x']],data3[['y']])\n",
        "plt.plot(data3[['x']], y_pred, color='red')"
      ],
      "metadata": {
        "id": "3KA4BgbB3tbs",
        "colab": {
          "base_uri": "https://localhost:8080/",
          "height": 447
        },
        "outputId": "283fda7e-b344-4273-bfc2-0fc9bb80da5f"
      },
      "execution_count": 15,
      "outputs": [
        {
          "output_type": "execute_result",
          "data": {
            "text/plain": [
              "[<matplotlib.lines.Line2D at 0x7ca0b8f1cb20>]"
            ]
          },
          "metadata": {},
          "execution_count": 15
        },
        {
          "output_type": "display_data",
          "data": {
            "text/plain": [
              "<Figure size 640x480 with 1 Axes>"
            ],
            "image/png": "[encoded data removed]"
          },
          "metadata": {}
        }
      ]
    },
    {
      "cell_type": "markdown",
      "source": [
        "# Task 2.2. dataset2.csv\n"
      ],
      "metadata": {
        "id": "swMtgNZUUQlv"
      }
    },
    {
      "cell_type": "code",
      "source": [
        "#code\n",
        "data4 = pd.read_csv('dataset2.csv')\n"
      ],
      "metadata": {
        "id": "B8HMqi34USt_"
      },
      "execution_count": null,
      "outputs": []
    },
    {
      "cell_type": "markdown",
      "source": [
        "# Task 2.3. Apply LinearRegression to the following dataset:\n",
        "*   Red wine quality: https://archive.ics.uci.edu/ml/machine-learning-databases/wine-quality/winequality-red.csv . The dataset includes info about the chemical properties of different types of wine and how they relate to overall quality.\n",
        "\n"
      ],
      "metadata": {
        "id": "yt-_Q4Ak4sFL"
      }
    },
    {
      "cell_type": "code",
      "source": [
        "#code"
      ],
      "metadata": {
        "id": "zW6-olSN5NFV"
      },
      "execution_count": null,
      "outputs": []
    },
    {
      "cell_type": "markdown",
      "source": [
        "# Task 2.4. Apply LinearRegression to the following dataset:\n",
        "*   Energy efficiency: https://archive.ics.uci.edu/ml/datasets/Energy+efficiency.\n",
        "\n",
        "\n"
      ],
      "metadata": {
        "id": "jGxa2efd5N97"
      }
    },
    {
      "cell_type": "code",
      "source": [
        "#code"
      ],
      "metadata": {
        "id": "bcO-jgg55XBr"
      },
      "execution_count": null,
      "outputs": []
    },
    {
      "cell_type": "markdown",
      "source": [
        "# Finally,\n",
        "Remember renaming the notebook."
      ],
      "metadata": {
        "id": "Ok7RGkea_b7n"
      }
    }
  ]
}