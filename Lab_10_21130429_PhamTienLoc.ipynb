{
  "nbformat": 4,
  "nbformat_minor": 0,
  "metadata": {
    "colab": {
      "provenance": [],
      "include_colab_link": true
    },
    "kernelspec": {
      "name": "python3",
      "display_name": "Python 3"
    },
    "language_info": {
      "name": "python"
    }
  },
  "cells": [
    {
      "cell_type": "markdown",
      "metadata": {
        "id": "view-in-github",
        "colab_type": "text"
      },
      "source": [
        "<a href=\"https://colab.research.google.com/github/PhamTienLoc/Lab_ML/blob/main/Lab_10_21130429_PhamTienLoc.ipynb\" target=\"_parent\"><img src=\"https://colab.research.google.com/assets/colab-badge.svg\" alt=\"Open In Colab\"/></a>"
      ]
    },
    {
      "cell_type": "markdown",
      "source": [
        "# This lab deals with **cross validation** for some classification algorithms and **clustering methods** using sklearn api.\n",
        "\n",
        "*   **Deadline: 23:59, 20/5/2024**\n",
        "\n"
      ],
      "metadata": {
        "id": "LMzehe0sy5wr"
      }
    },
    {
      "cell_type": "markdown",
      "source": [
        "# Import libraries"
      ],
      "metadata": {
        "id": "H4nJmxp9zGX4"
      }
    },
    {
      "cell_type": "code",
      "execution_count": 3,
      "metadata": {
        "id": "DoVWQ8AEyc-C"
      },
      "outputs": [],
      "source": [
        "# code\n",
        "import numpy as np\n",
        "import pandas as pd\n",
        "import matplotlib.pyplot as plt\n",
        "from sklearn import metrics\n",
        "from sklearn.model_selection import train_test_split\n",
        "from sklearn import datasets\n",
        "from sklearn import svm\n",
        "from sklearn.neighbors import KNeighborsClassifier\n",
        "from sklearn.ensemble import RandomForestClassifier\n",
        "from sklearn.linear_model import LogisticRegression\n",
        "from sklearn import metrics\n",
        "from prettytable import PrettyTable\n",
        "from sklearn.model_selection import GridSearchCV\n",
        "from sklearn.pipeline import Pipeline\n",
        "from sklearn.preprocessing import StandardScaler\n",
        "from sklearn.datasets import make_classification\n",
        "from sklearn.decomposition import PCA\n",
        "from sklearn import set_config\n",
        "from sklearn.neural_network import MLPClassifier\n",
        "from sklearn.feature_selection import SelectKBest, chi2\n",
        "from sklearn.model_selection import cross_validate\n",
        "from sklearn.model_selection import KFold\n",
        "from sklearn.model_selection import cross_val_score\n",
        "from sklearn.cluster import KMeans\n",
        "from scipy.stats import mode\n",
        "from sklearn.cluster import AgglomerativeClustering\n",
        "from scipy.cluster.hierarchy import dendrogram, linkage\n",
        "import scipy.cluster.hierarchy as shc"
      ]
    },
    {
      "cell_type": "code",
      "source": [
        "from google.colab import drive\n",
        "drive.mount('/content/gdrive')\n",
        "%cd '/content/gdrive/MyDrive/data'"
      ],
      "metadata": {
        "colab": {
          "base_uri": "https://localhost:8080/"
        },
        "id": "t6nRvAhYbUuP",
        "outputId": "d1429fd7-06c3-4dd7-9e48-de80eb411dc4"
      },
      "execution_count": 5,
      "outputs": [
        {
          "output_type": "stream",
          "name": "stdout",
          "text": [
            "Drive already mounted at /content/gdrive; to attempt to forcibly remount, call drive.mount(\"/content/gdrive\", force_remount=True).\n",
            "/content/gdrive/MyDrive/data\n"
          ]
        }
      ]
    },
    {
      "cell_type": "markdown",
      "source": [
        "#Task 1. With **iris** dataset\n",
        "*  1.1. Apply **SVM** algorithm with cross validation\n"
      ],
      "metadata": {
        "id": "x_dG9SA5OhGT"
      }
    },
    {
      "cell_type": "code",
      "source": [
        "#code\n",
        "iris = datasets.load_iris()\n",
        "X = iris.data\n",
        "y = iris.target\n",
        "\n",
        "svm_clf =svm.SVC(kernel=\"sigmoid\", random_state=0)\n",
        "\n",
        "svm_scores = cross_validate(svm_clf, X, y, scoring='accuracy', cv=10)\n",
        "\n",
        "print(sorted(svm_scores.keys()))\n",
        "print(np.mean(svm_scores['test_score']))"
      ],
      "metadata": {
        "id": "62jExOZ952fF",
        "colab": {
          "base_uri": "https://localhost:8080/"
        },
        "outputId": "26b09582-4563-455a-9784-b31992ac3ddf"
      },
      "execution_count": 3,
      "outputs": [
        {
          "output_type": "stream",
          "name": "stdout",
          "text": [
            "['fit_time', 'score_time', 'test_score']\n",
            "0.06666666666666668\n"
          ]
        }
      ]
    },
    {
      "cell_type": "markdown",
      "source": [
        "*  1.2 Apply **feature selection** to the dataset and then use **RandomForest**, **kNN** algorithm with cross validation"
      ],
      "metadata": {
        "id": "2g--8cng53sY"
      }
    },
    {
      "cell_type": "code",
      "source": [
        "#code\n",
        "X_new = SelectKBest(chi2, k = 2).fit_transform(X, y)\n",
        "\n",
        "rf_clf = RandomForestClassifier(n_estimators=100)\n",
        "rf_scores = cross_validate(rf_clf, X_new, y, scoring='accuracy', cv=10)\n",
        "\n",
        "kNN_clf = KNeighborsClassifier(n_neighbors=10)\n",
        "kNN_scores = cross_validate(kNN_clf, X_new, y, scoring='accuracy', cv=10)"
      ],
      "metadata": {
        "id": "fX0_kItYPism"
      },
      "execution_count": 28,
      "outputs": []
    },
    {
      "cell_type": "markdown",
      "source": [
        "*  1.3 Compare the obtained results of these approaches (SVM, RandomForest, kNN) using PrettyTable"
      ],
      "metadata": {
        "id": "gtb8ltIqTohd"
      }
    },
    {
      "cell_type": "code",
      "source": [
        "#code\n",
        "t = PrettyTable(['Algorithms', 'Test score'])\n",
        "t.add_row(['SVM', np.mean(svm_scores['test_score'])])\n",
        "t.add_row(['Random Forest with feature selection', np.mean(rf_scores['test_score'])])\n",
        "t.add_row(['kNN with feature selection', np.mean(kNN_scores['test_score'])])\n",
        "\n",
        "print(t)"
      ],
      "metadata": {
        "id": "N8mWDU2YT26O",
        "colab": {
          "base_uri": "https://localhost:8080/"
        },
        "outputId": "9bd15279-a380-48cb-95ca-66201f5b4b2f"
      },
      "execution_count": 29,
      "outputs": [
        {
          "output_type": "stream",
          "name": "stdout",
          "text": [
            "+--------------------------------------+---------------------+\n",
            "|              Algorithms              |      Test score     |\n",
            "+--------------------------------------+---------------------+\n",
            "|                 SVM                  | 0.06666666666666668 |\n",
            "| Random Forest with feature selection |  0.9666666666666666 |\n",
            "|      kNN with feature selection      |         0.96        |\n",
            "+--------------------------------------+---------------------+\n"
          ]
        }
      ]
    },
    {
      "cell_type": "markdown",
      "source": [
        "#Task 2. With fashion dataset:\n",
        "*   2.1. Apply **K-Means** algorithm using k=10,"
      ],
      "metadata": {
        "id": "kNv07ARGzOUm"
      }
    },
    {
      "cell_type": "code",
      "source": [
        "# code\n",
        "data1 = pd.read_csv('fashion_train.csv')\n",
        "data2 = pd.read_csv('fashion_test.csv')\n",
        "X_train = data1.drop(columns='y')\n",
        "y_train = data1[['y']]\n",
        "X_test = data2.drop(columns='y')\n",
        "y_test = data2[['y']]\n",
        "\n",
        "kmeans = KMeans(n_clusters = 10, random_state = 42, n_init=\"auto\")\n",
        "kmeans.fit(X_train)\n",
        "y_pred_clusters = kmeans.predict(X_test)\n",
        "\n",
        "labels = np.zeros_like(y_pred_clusters)\n",
        "for i in range(10):\n",
        "  mask = (y_pred_clusters == i)\n",
        "  #print(mask)\n",
        "  labels[mask] = mode(y_test[mask])[0]\n",
        "  #print(labels[mask])\n",
        "print(\"K-Means\")\n",
        "print(\"Accuracy:\", metrics.accuracy_score(y_test, labels))\n",
        "print(\"Precision:\", metrics.precision_score(y_test, labels, average='macro'))\n",
        "print(\"Recall:\", metrics.recall_score(y_test, labels, average='macro'))\n",
        "print(\"F1 measure:\", metrics.f1_score(y_test, labels, average='macro'))"
      ],
      "metadata": {
        "id": "sOsg77IBzEyo",
        "colab": {
          "base_uri": "https://localhost:8080/"
        },
        "outputId": "0df85e23-9f86-451b-b648-c70a12963b14"
      },
      "execution_count": 35,
      "outputs": [
        {
          "output_type": "stream",
          "name": "stdout",
          "text": [
            "K-Means\n",
            "Accuracy: 0.524\n",
            "Precision: 0.41967010205210287\n",
            "Recall: 0.523296973343057\n",
            "F1 measure: 0.45717987887159406\n"
          ]
        },
        {
          "output_type": "stream",
          "name": "stderr",
          "text": [
            "/usr/local/lib/python3.10/dist-packages/sklearn/metrics/_classification.py:1344: UndefinedMetricWarning: Precision is ill-defined and being set to 0.0 in labels with no predicted samples. Use `zero_division` parameter to control this behavior.\n",
            "  _warn_prf(average, modifier, msg_start, len(result))\n"
          ]
        }
      ]
    },
    {
      "cell_type": "markdown",
      "source": [
        "*   2.2. Compare the obtained result with with other classification algorithms such as **Randomforest**, **kNN**, and **SVM** in terms of accuracy, precision, recall, f1 using cross validation.\n"
      ],
      "metadata": {
        "id": "pnoVB8J4vV36"
      }
    },
    {
      "cell_type": "code",
      "source": [
        "# code\n",
        "def printScore(model):\n",
        "  print(\"Accuracy:\", cross_val_score(model, X_train, y_train.values.ravel(), cv=10, scoring='accuracy').mean())\n",
        "  print(\"Precision:\", cross_val_score(model, X_train, y_train.values.ravel(), cv=10, scoring='precision_macro').mean())\n",
        "  print(\"Recall:\", cross_val_score(model, X_train, y_train.values.ravel(), cv=10, scoring='recall_macro').mean())\n",
        "  print(\"F1 measure:\",cross_val_score(model, X_train, y_train.values.ravel(), cv=10, scoring='f1_macro').mean())\n",
        "\n",
        "rf_model = RandomForestClassifier(n_estimators=100)\n",
        "print(\"RandomForest\")\n",
        "printScore(rf_model)\n",
        "\n",
        "print(\"-------------------------------------\")\n",
        "kNN_model = KNeighborsClassifier()\n",
        "print(\"kNN\")\n",
        "printScore(kNN_model)\n",
        "\n",
        "print(\"-------------------------------------\")\n",
        "svm_model = svm.SVC(kernel='rbf', random_state=0)\n",
        "print(\"SVM\")\n",
        "printScore(svm_model)"
      ],
      "metadata": {
        "id": "-ZTSvsJdvYqI",
        "colab": {
          "base_uri": "https://localhost:8080/"
        },
        "outputId": "863431d6-98f0-4d2d-8dfb-9ac832c9d216"
      },
      "execution_count": 31,
      "outputs": [
        {
          "output_type": "stream",
          "name": "stdout",
          "text": [
            "RandomForest\n",
            "Accuracy: 0.7949999999999999\n",
            "Precision: 0.8053009097455692\n",
            "Recall: 0.8012847707847708\n",
            "F1 measure: 0.794754880416652\n",
            "-------------------------------------\n",
            "kNN\n",
            "Accuracy: 0.763\n",
            "Precision: 0.7907057786984256\n",
            "Recall: 0.7690442890442889\n",
            "F1 measure: 0.7665658445110697\n",
            "-------------------------------------\n",
            "SVM\n",
            "Accuracy: 0.792\n",
            "Precision: 0.8078633793537044\n",
            "Recall: 0.7993552836052835\n",
            "F1 measure: 0.7948694638113898\n"
          ]
        }
      ]
    },
    {
      "cell_type": "markdown",
      "source": [
        "*   2.3. From the obtained results, **which approach is better** for this problem: Supervised learning or Unsupervised learning?"
      ],
      "metadata": {
        "id": "uyey-ndXvZlb"
      }
    },
    {
      "cell_type": "code",
      "source": [
        "#code\n",
        "print(\"Ở đây ta thấy đối với bài toán trên thì Supervised learning (học có giám sát) cho ra kết quả tốt hơn\")"
      ],
      "metadata": {
        "id": "Qzh_D-rgvbv9",
        "colab": {
          "base_uri": "https://localhost:8080/"
        },
        "outputId": "9c0ffdac-4406-4028-8f33-452b3116a6e9"
      },
      "execution_count": 37,
      "outputs": [
        {
          "output_type": "stream",
          "name": "stdout",
          "text": [
            "Ở đây ta thấy đối với bài toán trên thì Supervised learning (học có giám sát) cho ra kết quả tốt hơn\n"
          ]
        }
      ]
    },
    {
      "cell_type": "markdown",
      "source": [
        "2.4. Apply **AgglomerativeClustering** algorithm to fashion dataset using the number of clusters is 10"
      ],
      "metadata": {
        "id": "ol1U_T_NvcqV"
      }
    },
    {
      "cell_type": "code",
      "source": [
        "#code\n",
        "cluster = AgglomerativeClustering(n_clusters=10, metric='euclidean', linkage='ward')\n",
        "cluster.fit_predict(X_test)\n",
        "cluster.labels_"
      ],
      "metadata": {
        "id": "8h4qqiIBSytO",
        "colab": {
          "base_uri": "https://localhost:8080/"
        },
        "outputId": "aa817cac-c0d0-4a1c-87c2-06ac47bb4c5a"
      },
      "execution_count": 39,
      "outputs": [
        {
          "output_type": "execute_result",
          "data": {
            "text/plain": [
              "array([1, 4, 8, 5, 0, 4, 6, 3, 3, 1, 0, 0, 9, 7, 4, 6, 9, 2, 0, 6, 8, 9,\n",
              "       4, 9, 0, 5, 0, 4, 0, 3, 3, 4, 0, 4, 4, 8, 8, 9, 5, 1, 1, 1, 6, 4,\n",
              "       4, 4, 9, 4, 6, 6, 3, 9, 7, 4, 1, 5, 9, 3, 1, 4, 9, 1, 1, 8, 5, 1,\n",
              "       8, 1, 5, 2, 6, 5, 8, 7, 4, 7, 0, 4, 6, 5, 8, 9, 9, 0, 5, 0, 4, 5,\n",
              "       6, 4, 4, 9, 3, 1, 1, 4, 8, 1, 9, 0, 4, 0, 6, 6, 0, 9, 2, 9, 3, 6,\n",
              "       1, 4, 4, 9, 2, 2, 1, 8, 0, 1, 4, 9, 1, 8, 3, 1, 2, 9, 2, 9, 4, 2,\n",
              "       8, 5, 2, 8, 2, 4, 9, 1, 3, 8, 3, 8, 3, 2, 9, 5, 1, 2, 7, 6, 4, 0,\n",
              "       0, 9, 3, 5, 3, 7, 4, 1, 3, 8, 9, 9, 3, 9, 7, 8, 7, 6, 1, 2, 3, 4,\n",
              "       1, 1, 3, 0, 9, 9, 0, 0, 4, 7, 5, 9, 0, 3, 1, 1, 8, 1, 0, 0, 1, 0,\n",
              "       2, 3, 2, 3, 7, 1, 8, 4, 4, 9, 8, 5, 4, 6, 1, 9, 8, 1, 4, 4, 5, 1,\n",
              "       9, 8, 2, 4, 4, 3, 8, 5, 0, 9, 7, 2, 4, 9, 0, 6, 0, 4, 4, 9, 8, 5,\n",
              "       1, 9, 8, 4, 7, 4, 0, 3, 4, 3, 4, 1, 5, 2, 4, 0, 1, 4, 3, 1, 4, 7,\n",
              "       3, 4, 3, 5, 4, 0, 3, 1, 3, 4, 4, 9, 5, 1, 1, 2, 8, 4, 1, 4, 6, 7,\n",
              "       9, 2, 5, 1, 1, 8, 9, 4, 1, 6, 3, 0, 5, 5, 5, 5, 0, 3, 5, 9, 3, 2,\n",
              "       3, 3, 3, 1, 4, 9, 9, 9, 7, 9, 2, 6, 2, 0, 3, 7, 6, 1, 2, 8, 3, 9,\n",
              "       9, 3, 3, 7, 8, 3, 4, 9, 9, 7, 9, 9, 9, 1, 9, 0, 4, 8, 6, 9, 5, 0,\n",
              "       4, 7, 9, 2, 1, 4, 3, 3, 3, 1, 0, 9, 3, 3, 1, 3, 0, 3, 0, 5, 1, 9,\n",
              "       1, 2, 2, 8, 7, 4, 5, 2, 5, 4, 5, 1, 9, 9, 1, 0, 8, 5, 9, 8, 7, 0,\n",
              "       1, 8, 6, 0, 1, 8, 2, 1, 0, 2, 8, 4, 4, 3, 2, 8, 4, 6, 8, 1, 3, 4,\n",
              "       3, 7, 5, 0, 1, 5, 0, 4, 3, 1, 2, 1, 4, 1, 1, 0, 4, 7, 8, 6, 0, 3,\n",
              "       0, 3, 0, 8, 5, 1, 1, 1, 0, 5, 4, 1, 5, 3, 6, 9, 8, 2, 3, 9, 1, 1,\n",
              "       8, 1, 9, 9, 4, 8, 0, 0, 1, 3, 1, 9, 1, 8, 7, 4, 8, 1, 8, 1, 1, 1,\n",
              "       1, 1, 6, 2, 1, 9, 6, 8, 3, 1, 9, 1, 9, 1, 1, 1, 7, 4, 1, 9, 9, 6,\n",
              "       4, 9, 8, 9, 3, 1, 4, 1, 2, 5, 5, 4, 8, 1, 4, 3, 3, 5, 9, 9, 1, 6,\n",
              "       0, 2, 1, 3, 9, 9, 3, 8, 1, 0, 8, 4, 4, 1, 2, 3, 9, 5, 9, 2, 6, 0,\n",
              "       2, 1, 5, 8, 9, 1, 2, 4, 1, 2, 1, 6, 9, 0, 3, 9, 4, 9, 5, 7, 1, 4,\n",
              "       8, 3, 2, 8, 1, 4, 6, 9, 3, 2, 1, 6, 0, 5, 1, 1, 1, 4, 1, 5, 2, 0,\n",
              "       5, 9, 8, 3, 2, 1, 7, 1, 1, 1, 6, 5, 3, 7, 9, 2, 3, 1, 6, 2, 3, 4,\n",
              "       3, 9, 5, 1, 5, 3, 1, 4, 1, 1, 1, 2, 5, 1, 0, 3, 4, 9, 1, 0, 1, 5,\n",
              "       3, 0, 1, 8, 3, 9, 5, 8, 7, 7, 8, 6, 0, 9, 4, 9, 6, 9, 9, 1, 0, 9,\n",
              "       3, 4, 1, 3, 4, 2, 9, 3, 9, 1, 1, 9, 2, 5, 5, 3, 7, 7, 1, 6, 2, 2,\n",
              "       7, 7, 3, 9, 4, 4, 9, 8, 1, 1, 4, 8, 2, 1, 1, 7, 9, 1, 4, 9, 6, 4,\n",
              "       3, 0, 2, 4, 3, 4, 1, 3, 0, 1, 3, 3, 2, 9, 5, 6, 1, 2, 5, 1, 4, 4,\n",
              "       0, 0, 2, 1, 1, 2, 4, 8, 6, 1, 1, 0, 8, 0, 4, 5, 4, 1, 4, 1, 3, 3,\n",
              "       9, 6, 4, 6, 1, 2, 8, 0, 1, 8, 4, 5, 1, 4, 1, 2, 3, 4, 4, 1, 1, 0,\n",
              "       1, 8, 0, 9, 0, 4, 4, 8, 0, 1, 1, 9, 8, 8, 2, 3, 4, 4, 2, 9, 5, 2,\n",
              "       1, 0, 9, 4, 7, 9, 5, 4, 8, 3, 0, 5, 2, 9, 0, 3, 1, 5, 0, 8, 0, 3,\n",
              "       1, 4, 1, 1, 1, 2, 4, 2, 3, 1, 4, 2, 0, 3, 9, 5, 3, 0, 6, 1, 1, 4,\n",
              "       4, 1, 3, 1, 1, 0, 3, 5, 2, 8, 1, 4, 2, 9, 4, 1, 5, 4, 9, 0, 1, 3,\n",
              "       7, 9, 2, 9, 4, 9, 3, 4, 0, 8, 9, 8, 1, 5, 3, 5, 6, 8, 2, 9, 9, 9,\n",
              "       5, 3, 0, 5, 1, 9, 0, 9, 8, 0, 5, 0, 4, 5, 8, 1, 4, 4, 5, 0, 2, 6,\n",
              "       2, 2, 4, 6, 0, 9, 1, 5, 9, 7, 3, 9, 5, 4, 4, 2, 9, 1, 2, 0, 4, 2,\n",
              "       4, 9, 6, 6, 7, 4, 2, 3, 9, 1, 1, 1, 9, 9, 1, 9, 3, 2, 1, 4, 8, 8,\n",
              "       9, 8, 0, 8, 5, 1, 2, 6, 9, 1, 4, 4, 3, 3, 2, 1, 1, 6, 6, 8, 1, 4,\n",
              "       5, 3, 2, 4, 8, 9, 9, 7, 7, 6, 0, 0, 5, 8, 8, 2, 9, 1, 4, 1, 6, 1,\n",
              "       5, 9, 4, 6, 6, 0, 4, 1, 2, 2])"
            ]
          },
          "metadata": {},
          "execution_count": 39
        }
      ]
    },
    {
      "cell_type": "markdown",
      "source": [
        "#Task 3.\n",
        "For given dataset (shopping-data.csv) including 5 attributes: **CustomerID**, **Genre**, **Age**, **Annual Income**, and **Spending Score**.\n",
        "*   3.1. Using the **scipy library** to create the dendrograms for the given dataset (remember drop categorical attributes: **CustomerID**, **Genre**)\n",
        "\n",
        "\n",
        "\n"
      ],
      "metadata": {
        "id": "b52OPWPD2afi"
      }
    },
    {
      "cell_type": "code",
      "source": [
        "#code\n",
        "shopping_data = pd.read_csv(\"shopping-data.csv\")\n",
        "new_shopping_data = shopping_data.drop([\"CustomerID\",\"Genre\"], axis='columns')\n",
        "\n",
        "plt.figure(figsize=(10, 7))\n",
        "plt.title(\"Customer Dendograms\")\n",
        "dend = shc.dendrogram(shc.linkage(new_shopping_data.iloc[:, 0:len(new_shopping_data.columns)], method='ward'))"
      ],
      "metadata": {
        "id": "YYY2dLtH3P8H",
        "colab": {
          "base_uri": "https://localhost:8080/",
          "height": 621
        },
        "outputId": "23f89cad-c2e3-4a0c-854e-103a4ffb88fa"
      },
      "execution_count": 10,
      "outputs": [
        {
          "output_type": "display_data",
          "data": {
            "text/plain": [
              "<Figure size 1000x700 with 1 Axes>"
            ],
            "image/png": "[encoded data removed]"
          },
          "metadata": {}
        }
      ]
    },
    {
      "cell_type": "markdown",
      "source": [
        "*   3.2. Apply K-Means to the preprocessed dataset with k belongs to [2,10]. Then compute SSE values and plot them to find the best value of k."
      ],
      "metadata": {
        "id": "eHlh_dWUyEMr"
      }
    },
    {
      "cell_type": "code",
      "source": [
        "#code"
      ],
      "metadata": {
        "id": "8vx3mfIidu4P"
      },
      "execution_count": null,
      "outputs": []
    },
    {
      "cell_type": "markdown",
      "source": [
        "*   3.2. From the obtained dengrograms, choose an appropriate number of clusters and apply **AgglomerativeClustering** algorithm to the given dataset"
      ],
      "metadata": {
        "id": "RJpsTIiyv-1h"
      }
    },
    {
      "cell_type": "code",
      "source": [
        "#code"
      ],
      "metadata": {
        "id": "5ZE7A0Au1Pg0"
      },
      "execution_count": null,
      "outputs": []
    },
    {
      "cell_type": "markdown",
      "source": [
        "#Finally,\n",
        "Save a copy in your Github. Remember renaming the notebook."
      ],
      "metadata": {
        "id": "Ok7RGkea_b7n"
      }
    }
  ]
}