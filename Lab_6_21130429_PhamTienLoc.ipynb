{
  "nbformat": 4,
  "nbformat_minor": 0,
  "metadata": {
    "colab": {
      "provenance": [],
      "include_colab_link": true
    },
    "kernelspec": {
      "name": "python3",
      "display_name": "Python 3"
    },
    "language_info": {
      "name": "python"
    }
  },
  "cells": [
    {
      "cell_type": "markdown",
      "metadata": {
        "id": "view-in-github",
        "colab_type": "text"
      },
      "source": [
        "<a href=\"https://colab.research.google.com/github/PhamTienLoc/Lab_ML/blob/main/Lab_6_21130429_PhamTienLoc.ipynb\" target=\"_parent\"><img src=\"https://colab.research.google.com/assets/colab-badge.svg\" alt=\"Open In Colab\"/></a>"
      ]
    },
    {
      "cell_type": "markdown",
      "source": [
        "# This lab is to deal with classification task using **Random Forests** and **Naïve Bayes** algorithms with/without **Feature Selection**.\n",
        "\n",
        "*   **Deadline: 23:59, 15/04/2024**\n",
        "\n"
      ],
      "metadata": {
        "id": "LMzehe0sy5wr"
      }
    },
    {
      "cell_type": "markdown",
      "source": [
        "# Import libraries"
      ],
      "metadata": {
        "id": "H4nJmxp9zGX4"
      }
    },
    {
      "cell_type": "code",
      "execution_count": 11,
      "metadata": {
        "id": "DoVWQ8AEyc-C"
      },
      "outputs": [],
      "source": [
        "# code\n",
        "import numpy as np\n",
        "import pandas as pd\n",
        "import matplotlib.pyplot as plt\n",
        "import seaborn as sns\n",
        "from sklearn import preprocessing\n",
        "from sklearn import datasets\n",
        "from sklearn.decomposition import PCA\n",
        "from sklearn.preprocessing import StandardScaler\n",
        "from sklearn.model_selection import train_test_split\n",
        "from sklearn.linear_model import LogisticRegression\n",
        "from sklearn.neighbors import KNeighborsClassifier\n",
        "from sklearn.ensemble import RandomForestClassifier\n",
        "from sklearn import metrics\n",
        "from sklearn import svm\n",
        "from sklearn.naive_bayes import GaussianNB\n",
        "from sklearn.ensemble import ExtraTreesClassifier"
      ]
    },
    {
      "cell_type": "code",
      "source": [
        "\n",
        "from google.colab import drive\n",
        "drive.mount('/content/gdrive')\n",
        "%cd '/content/gdrive/MyDrive/data'"
      ],
      "metadata": {
        "colab": {
          "base_uri": "https://localhost:8080/"
        },
        "id": "1qAxSgpZOCN6",
        "outputId": "cd526663-e07f-4229-98e5-f0a663b502be"
      },
      "execution_count": 3,
      "outputs": [
        {
          "output_type": "stream",
          "name": "stdout",
          "text": [
            "Mounted at /content/gdrive\n",
            "/content/gdrive/MyDrive/data\n"
          ]
        }
      ]
    },
    {
      "cell_type": "markdown",
      "source": [
        "#Task 1.\n",
        "Task 1. Compare the performance of selected classification algorithms including **Random forest**, **NaiveBayes**, and **SVM** with **FASHION** dataset based on **accuracy, precision, recall, f1** measures according to **without using selection feature** and **using selection feature**.\n",
        "\n"
      ],
      "metadata": {
        "id": "kNv07ARGzOUm"
      }
    },
    {
      "cell_type": "code",
      "source": [
        "# code\n",
        "data1 = pd.read_csv('fashion_train.csv')\n",
        "data2 = pd.read_csv('fashion_test.csv')\n",
        "X_train = data1.drop(columns='y')\n",
        "y_train = data1[['y']]\n",
        "X_test = data2.drop(columns='y')\n",
        "y_test = data2[['y']]\n",
        "\n",
        "rf_clf = RandomForestClassifier(n_estimators=100)\n",
        "rf_clf.fit(X_train, y_train)\n",
        "y_pred_rf = rf_clf.predict(X_test)\n",
        "print(\"Without using selection feature\")\n",
        "print(\"Random forest\")\n",
        "print(\"Accuracy:\", metrics.accuracy_score(y_test, y_pred_rf))\n",
        "print(\"Precision:\", metrics.precision_score(y_test, y_pred_rf, average='macro'))\n",
        "print(\"Recall:\", metrics.recall_score(y_test, y_pred_rf, average='macro'))\n",
        "print(\"F1 measure:\", metrics.f1_score(y_test, y_pred_rf, average='macro'))\n",
        "print(\"----------------\")\n",
        "model = GaussianNB()\n",
        "model.fit(X_train, y_train)\n",
        "y_pred_nb = model.predict(X_test)\n",
        "print(\"Naive Bayes Gaussian\")\n",
        "print(\"Accuracy:\", metrics.accuracy_score(y_test, y_pred_nb))\n",
        "print(\"Precision:\", metrics.precision_score(y_test, y_pred_nb, average='macro'))\n",
        "print(\"Recall:\", metrics.recall_score(y_test, y_pred_nb, average='macro'))\n",
        "print(\"F1 measure:\", metrics.f1_score(y_test, y_pred_nb, average='macro'))\n",
        "print(\"----------------\")\n",
        "linear_clf = svm.SVC(kernel='linear')\n",
        "linear_clf.fit(X_train, y_train)\n",
        "y_pred_svm_linear = linear_clf.predict(X_test)\n",
        "print(\"SVM Linear\")\n",
        "print(\"Accuracy:\", metrics.accuracy_score(y_test, y_pred_svm_linear))\n",
        "print(\"Precision:\", metrics.precision_score(y_test, y_pred_svm_linear, average='macro'))\n",
        "print(\"Recall:\", metrics.recall_score(y_test, y_pred_svm_linear, average='macro'))\n",
        "print(\"F1 measure:\", metrics.f1_score(y_test, y_pred_svm_linear, average='macro'))\n",
        "print(\" Using selection feature\")\n",
        "model2 = ExtraTreesClassifier(n_estimators=10)\n",
        "model2.fit(X_train, y_train)\n",
        "print(model2.feature_importances_)"
      ],
      "metadata": {
        "id": "sOsg77IBzEyo",
        "colab": {
          "base_uri": "https://localhost:8080/"
        },
        "outputId": "ee8e94fc-bf0d-42bd-96c2-a54e5b2ce7d8"
      },
      "execution_count": 15,
      "outputs": [
        {
          "output_type": "stream",
          "name": "stderr",
          "text": [
            "<ipython-input-15-2f73a94e0d8a>:10: DataConversionWarning: A column-vector y was passed when a 1d array was expected. Please change the shape of y to (n_samples,), for example using ravel().\n",
            "  rf_clf.fit(X_train, y_train)\n"
          ]
        },
        {
          "output_type": "stream",
          "name": "stdout",
          "text": [
            "Without using selection feature\n",
            "Random forest\n",
            "Accuracy: 0.813\n",
            "Precision: 0.8086361069305094\n",
            "Recall: 0.8098496913620101\n",
            "F1 measure: 0.8051710653120894\n",
            "----------------\n"
          ]
        },
        {
          "output_type": "stream",
          "name": "stderr",
          "text": [
            "/usr/local/lib/python3.10/dist-packages/sklearn/utils/validation.py:1143: DataConversionWarning: A column-vector y was passed when a 1d array was expected. Please change the shape of y to (n_samples, ), for example using ravel().\n",
            "  y = column_or_1d(y, warn=True)\n"
          ]
        },
        {
          "output_type": "stream",
          "name": "stdout",
          "text": [
            "Naive Bayes Gaussian\n",
            "Accuracy: 0.556\n",
            "Precision: 0.5788628371304589\n",
            "Recall: 0.559496772854223\n",
            "F1 measure: 0.5256907025966638\n",
            "----------------\n"
          ]
        },
        {
          "output_type": "stream",
          "name": "stderr",
          "text": [
            "/usr/local/lib/python3.10/dist-packages/sklearn/utils/validation.py:1143: DataConversionWarning: A column-vector y was passed when a 1d array was expected. Please change the shape of y to (n_samples, ), for example using ravel().\n",
            "  y = column_or_1d(y, warn=True)\n"
          ]
        },
        {
          "output_type": "stream",
          "name": "stdout",
          "text": [
            "SVM Linear\n",
            "Accuracy: 0.809\n",
            "Precision: 0.8117729613602249\n",
            "Recall: 0.8080638899207333\n",
            "F1 measure: 0.8054464844513045\n",
            " Using selection feature\n",
            "[0.00000000e+00 1.66648968e-04 1.11293385e-04 0.00000000e+00\n",
            " 0.00000000e+00 8.90347080e-05 3.23115713e-04 7.39297724e-04\n",
            " 6.89784578e-04 5.41627807e-04 2.88913131e-04 2.45947977e-03\n",
            " 2.09105663e-03 9.41065065e-04 1.58689942e-03 1.12793477e-03\n",
            " 1.45057196e-03 1.86136533e-03 1.60245905e-03 6.37491881e-04\n",
            " 6.00740848e-04 2.33162159e-04 4.80151461e-04 3.07840268e-04\n",
            " 0.00000000e+00 1.11293385e-04 2.12116661e-04 0.00000000e+00\n",
            " 0.00000000e+00 0.00000000e+00 2.35142947e-04 1.94763424e-04\n",
            " 0.00000000e+00 5.18342709e-04 1.67989623e-04 1.17122141e-03\n",
            " 5.03065567e-04 1.50837868e-03 2.56482650e-03 1.76907106e-03\n",
            " 4.86010223e-04 7.03329092e-04 1.82938888e-03 2.23499095e-03\n",
            " 7.87739289e-03 2.45573689e-03 5.93620506e-04 4.15837737e-03\n",
            " 3.21940276e-04 1.02827680e-03 4.66429266e-04 1.34713522e-03\n",
            " 3.62086256e-04 0.00000000e+00 0.00000000e+00 0.00000000e+00\n",
            " 0.00000000e+00 0.00000000e+00 3.85817068e-04 2.78233462e-04\n",
            " 6.06298627e-04 3.06998522e-04 4.67532877e-03 3.24918378e-03\n",
            " 1.58769871e-03 4.29595255e-04 1.11293385e-04 5.53613248e-04\n",
            " 1.44230967e-03 3.16164130e-03 1.06627907e-03 8.14343909e-04\n",
            " 1.23991430e-03 4.40102705e-04 1.59224340e-03 1.99841757e-03\n",
            " 3.18276467e-03 2.16719938e-03 1.59938023e-03 8.48753898e-04\n",
            " 1.25355895e-03 0.00000000e+00 0.00000000e+00 0.00000000e+00\n",
            " 0.00000000e+00 1.07212627e-04 1.48391180e-04 1.45663401e-04\n",
            " 3.79182270e-04 1.68839558e-03 4.29176608e-03 2.16041385e-03\n",
            " 6.88934960e-04 8.11062543e-04 1.36027923e-02 8.74934441e-03\n",
            " 1.74825337e-03 6.07514162e-04 6.98675139e-04 2.01855070e-03\n",
            " 1.21230294e-03 2.11221318e-03 5.41627807e-04 2.69400168e-03\n",
            " 2.30906473e-03 7.79235547e-04 2.13824315e-03 6.99856759e-04\n",
            " 1.79659321e-04 0.00000000e+00 1.66940077e-04 0.00000000e+00\n",
            " 0.00000000e+00 0.00000000e+00 2.22586770e-04 3.51866346e-04\n",
            " 6.67760310e-04 6.16731457e-03 1.60828083e-03 2.59684565e-04\n",
            " 9.27878485e-04 1.13058106e-03 2.62382351e-03 1.34994359e-03\n",
            " 8.57461855e-04 2.28061315e-03 7.79053695e-04 1.32382124e-03\n",
            " 1.59335391e-03 6.01048517e-04 7.31046808e-04 1.55695912e-03\n",
            " 1.76987506e-03 3.89526847e-04 5.55230708e-04 1.09242305e-04\n",
            " 5.24666248e-04 6.50689030e-04 0.00000000e+00 0.00000000e+00\n",
            " 0.00000000e+00 1.72504747e-04 0.00000000e+00 2.77967210e-04\n",
            " 8.47066319e-04 6.02499021e-03 1.39634470e-03 6.80479554e-04\n",
            " 4.37535758e-04 1.47046445e-03 4.08075745e-04 0.00000000e+00\n",
            " 2.90051398e-03 7.60036358e-04 1.77992583e-03 3.02082045e-04\n",
            " 2.62777624e-03 1.03252585e-03 4.16541652e-04 4.82271335e-04\n",
            " 1.42563292e-03 4.18342336e-03 2.42417771e-03 2.40918886e-03\n",
            " 1.85488975e-04 0.00000000e+00 0.00000000e+00 0.00000000e+00\n",
            " 0.00000000e+00 2.14911364e-04 1.71326024e-04 3.15331257e-04\n",
            " 2.07816427e-03 9.12304889e-03 4.78561555e-04 4.63722437e-04\n",
            " 6.23415783e-03 4.67779389e-04 1.93764637e-04 1.00867977e-03\n",
            " 1.80086766e-03 1.23191841e-02 3.63400418e-03 3.16795123e-03\n",
            " 2.18596952e-03 4.26044120e-03 8.41103117e-04 1.59965343e-03\n",
            " 1.12344390e-03 3.40253511e-03 1.59119694e-03 1.19826445e-03\n",
            " 4.39266323e-03 1.00352861e-03 2.76547199e-04 2.07747652e-04\n",
            " 0.00000000e+00 0.00000000e+00 0.00000000e+00 1.11293385e-04\n",
            " 0.00000000e+00 1.11957879e-03 1.99040820e-03 1.37705737e-03\n",
            " 2.28314035e-03 5.10359665e-04 8.56575865e-03 9.84328160e-04\n",
            " 1.00271245e-03 9.82130623e-04 8.32192310e-04 1.54508845e-03\n",
            " 1.55860590e-03 6.99558420e-04 2.35436316e-03 3.78397509e-04\n",
            " 8.84813037e-04 3.60659276e-03 1.06956662e-03 3.50380257e-04\n",
            " 1.01781338e-03 8.93656816e-04 7.62595228e-04 0.00000000e+00\n",
            " 0.00000000e+00 2.93193028e-04 1.11293385e-04 3.85753743e-04\n",
            " 1.77927115e-03 4.06587756e-04 6.15573763e-04 3.15331257e-04\n",
            " 2.30328723e-03 7.76542830e-04 5.11452068e-03 8.03108960e-04\n",
            " 2.59684565e-04 1.26931730e-03 1.64874285e-03 1.35367379e-03\n",
            " 4.29101673e-03 1.72017893e-03 1.14244340e-03 4.56302878e-04\n",
            " 2.22586770e-04 5.33038636e-03 1.07519602e-03 7.85944450e-03\n",
            " 3.06056809e-04 5.10812515e-04 1.11293385e-04 0.00000000e+00\n",
            " 0.00000000e+00 1.96782860e-04 1.65350172e-04 1.85488975e-04\n",
            " 2.83515302e-03 1.78624886e-03 4.95349301e-03 7.00729660e-03\n",
            " 5.15004925e-04 1.55996043e-03 5.22412019e-03 0.00000000e+00\n",
            " 6.49723106e-04 6.67760310e-04 1.04061148e-03 7.59114936e-04\n",
            " 1.02389914e-03 4.26624642e-04 7.32069949e-04 2.22515377e-03\n",
            " 5.99019605e-03 8.68313238e-04 8.34492659e-04 7.51585439e-03\n",
            " 4.73286309e-04 3.51899084e-04 3.86347036e-04 1.35768496e-04\n",
            " 0.00000000e+00 2.90233383e-04 2.89362801e-04 2.11457431e-04\n",
            " 7.10327137e-04 1.54181637e-03 5.70000568e-03 3.33430992e-03\n",
            " 1.08468308e-03 2.80614430e-03 1.11891324e-03 1.78069416e-04\n",
            " 8.56714463e-04 3.36353341e-04 1.84489833e-03 7.81968521e-04\n",
            " 1.13559014e-03 4.51145940e-04 5.68832856e-04 6.49211412e-04\n",
            " 4.36910849e-04 8.39466677e-04 6.75669070e-04 6.12113617e-04\n",
            " 3.15705424e-03 1.16062607e-03 9.14603330e-04 4.17738193e-04\n",
            " 0.00000000e+00 9.77308206e-04 4.25533531e-05 0.00000000e+00\n",
            " 7.34248425e-04 2.75761450e-03 9.25049089e-03 1.94928649e-03\n",
            " 1.41042812e-03 1.66797937e-03 1.63158956e-03 6.93782017e-04\n",
            " 1.25832872e-03 3.51538239e-03 3.33880155e-04 2.41135667e-04\n",
            " 1.63940856e-03 6.60857021e-04 2.28616266e-03 2.12097210e-03\n",
            " 1.13008312e-03 3.05519940e-03 1.05347731e-03 5.83415823e-04\n",
            " 8.20953538e-04 3.14094664e-04 3.70977950e-05 1.48391180e-04\n",
            " 1.75941748e-04 4.24236355e-04 9.07930763e-04 3.17730940e-04\n",
            " 6.48328131e-04 3.17011284e-03 4.38357339e-03 1.62608001e-03\n",
            " 5.94089956e-03 7.01148325e-04 4.09564323e-04 2.11067578e-03\n",
            " 8.67814666e-04 2.33853603e-03 4.82394754e-03 3.89033233e-03\n",
            " 2.62579631e-03 8.03217393e-04 8.99790155e-04 5.02121064e-04\n",
            " 1.65368517e-03 6.48902813e-03 7.93983975e-04 6.96201952e-04\n",
            " 3.67268170e-04 1.43383405e-03 4.39106420e-04 2.63251661e-04\n",
            " 4.80650854e-04 3.32559771e-03 1.85488975e-04 8.98240833e-04\n",
            " 9.57927104e-04 6.29027713e-03 4.81934082e-04 1.76981368e-03\n",
            " 1.53156141e-03 2.27886455e-04 1.13940283e-03 1.29865469e-03\n",
            " 8.46279396e-04 5.39842097e-04 2.41700570e-03 8.10775285e-04\n",
            " 1.24621537e-03 2.97326761e-03 3.26065734e-03 1.97854907e-04\n",
            " 9.68688894e-04 6.32556161e-03 7.05255890e-04 5.81383667e-03\n",
            " 7.10422774e-04 6.67078351e-03 5.22656306e-04 3.30507628e-04\n",
            " 0.00000000e+00 9.84019169e-04 6.92042503e-04 4.68227170e-04\n",
            " 2.67104124e-04 1.61362691e-03 1.69794638e-03 2.07871542e-03\n",
            " 5.77095547e-04 6.82583103e-04 1.09841911e-03 1.15400641e-03\n",
            " 1.28151072e-03 6.42789441e-04 3.65080144e-03 1.44809833e-03\n",
            " 1.07920858e-04 1.24316672e-03 4.16731897e-04 1.46520573e-03\n",
            " 1.75851055e-03 1.11293385e-04 6.93928519e-03 5.77280233e-04\n",
            " 1.22422723e-04 2.69207528e-03 6.12308869e-04 2.80000024e-04\n",
            " 6.00902745e-04 3.59716119e-04 3.54489623e-03 1.32492125e-04\n",
            " 5.87381754e-04 2.47167160e-03 1.47386173e-03 2.01417316e-03\n",
            " 9.77468012e-04 3.68975575e-03 2.92333331e-04 7.72429088e-04\n",
            " 6.64672200e-04 1.97532556e-03 2.96782360e-04 1.10229298e-03\n",
            " 5.58542326e-04 7.21720739e-04 4.69961612e-04 9.46464673e-04\n",
            " 1.54835273e-03 1.45893904e-03 8.77313775e-03 2.51938402e-03\n",
            " 5.60080346e-04 1.65226014e-03 2.93072580e-04 1.90788660e-04\n",
            " 0.00000000e+00 4.32080200e-04 5.94091163e-04 7.38340814e-04\n",
            " 0.00000000e+00 5.31073223e-04 8.18624676e-04 3.94192602e-03\n",
            " 1.44675848e-03 1.71095090e-03 5.54849841e-04 1.27944032e-03\n",
            " 5.47104148e-04 1.19546985e-03 8.70073055e-04 2.74187109e-03\n",
            " 1.06017940e-03 6.26398126e-04 1.08792059e-03 1.31681686e-03\n",
            " 1.60720493e-03 1.39816563e-03 5.61429357e-04 1.15745120e-03\n",
            " 1.11293385e-04 1.45485379e-03 7.47137542e-03 3.17981100e-05\n",
            " 5.56466925e-05 5.76723678e-04 7.52035865e-04 5.89083642e-04\n",
            " 2.01760774e-03 1.58318241e-03 4.84921177e-04 1.85711908e-03\n",
            " 3.14288107e-04 3.69918013e-04 8.87429988e-04 1.56198904e-03\n",
            " 7.91734395e-04 8.51129411e-04 6.77082087e-03 2.92446254e-04\n",
            " 5.71836011e-04 1.11293385e-04 7.25711090e-04 1.74309800e-03\n",
            " 1.45333285e-03 7.64891394e-04 1.02718087e-03 0.00000000e+00\n",
            " 8.82714627e-04 6.01599269e-04 2.59684565e-04 2.27223994e-04\n",
            " 3.70184276e-04 4.11167228e-04 5.51837315e-04 2.89362801e-04\n",
            " 2.50410116e-04 1.11293385e-04 2.31066266e-04 1.33316978e-03\n",
            " 1.34436097e-03 5.04852601e-04 3.43918382e-04 7.88282848e-04\n",
            " 8.24341912e-04 6.92492173e-04 3.58608615e-04 7.21026635e-04\n",
            " 6.12137707e-04 8.55069611e-04 1.48391180e-04 5.44389222e-04\n",
            " 1.34790014e-03 7.50218590e-04 6.48594132e-03 1.08077440e-03\n",
            " 7.84851846e-04 0.00000000e+00 1.48391180e-04 3.58421773e-04\n",
            " 0.00000000e+00 1.72504747e-04 7.92302907e-04 3.15331257e-04\n",
            " 1.03069237e-03 8.17123099e-04 1.99390571e-03 9.36633629e-04\n",
            " 1.06753647e-03 9.33804497e-04 7.21092930e-04 1.52904745e-03\n",
            " 5.17054004e-04 3.56138832e-04 1.72310041e-03 1.54237241e-03\n",
            " 1.53247979e-03 2.16054507e-03 2.49153132e-03 1.30025564e-03\n",
            " 2.15270499e-03 9.77906810e-04 1.43522530e-03 1.12868466e-03\n",
            " 1.59118351e-03 7.38458108e-04 3.89626039e-04 1.83269449e-04\n",
            " 0.00000000e+00 4.38439822e-04 3.79538979e-04 2.77291636e-04\n",
            " 4.14435367e-04 2.54384880e-04 1.61697580e-03 3.07401407e-03\n",
            " 1.22464800e-03 9.44491707e-04 1.17871553e-03 1.07964775e-03\n",
            " 1.92552281e-03 6.29410637e-03 1.53386660e-03 4.19953620e-04\n",
            " 1.03630915e-03 1.36705425e-03 4.93459678e-04 5.76870712e-04\n",
            " 3.17298040e-03 1.56472425e-03 1.59156939e-03 3.15897325e-03\n",
            " 9.26239353e-04 0.00000000e+00 2.29088720e-03 7.31351000e-04\n",
            " 0.00000000e+00 3.77953604e-04 0.00000000e+00 7.09340302e-04\n",
            " 1.49538620e-03 2.96739131e-03 1.05668196e-03 4.94819118e-04\n",
            " 2.62384373e-03 4.06059702e-03 2.06080815e-03 4.94773740e-03\n",
            " 1.04998600e-03 1.60077611e-03 4.37474899e-03 4.60583393e-04\n",
            " 1.64786600e-03 1.55025433e-03 7.87389657e-04 1.33380484e-03\n",
            " 2.52397816e-03 4.52255846e-04 2.16806766e-03 1.94760255e-03\n",
            " 6.95789755e-04 1.97246122e-04 1.66940077e-04 0.00000000e+00\n",
            " 1.11293385e-04 0.00000000e+00 1.66940077e-04 5.62368847e-04\n",
            " 2.43289013e-04 4.73866693e-04 7.87353606e-04 1.50857285e-03\n",
            " 1.66050973e-03 2.41135667e-04 1.21287045e-03 5.15144206e-04\n",
            " 1.56861843e-03 5.57921740e-04 1.09975088e-03 1.50567488e-03\n",
            " 1.19229616e-03 1.16563819e-03 4.26848924e-04 1.07383755e-03\n",
            " 1.88789405e-03 7.77700239e-04 2.94075353e-03 1.07867294e-03\n",
            " 1.89198754e-05 1.66940077e-04 1.11293385e-04 0.00000000e+00\n",
            " 0.00000000e+00 0.00000000e+00 0.00000000e+00 4.65408701e-04\n",
            " 6.60739525e-03 1.68663011e-03 1.03300224e-03 1.28915699e-03\n",
            " 3.89526847e-04 1.95381720e-04 1.44427964e-03 1.12026910e-03\n",
            " 1.78069416e-04 6.67230341e-04 5.07263889e-03 4.91981370e-04\n",
            " 0.00000000e+00 5.71614796e-03 8.09078448e-04 1.90435348e-04\n",
            " 1.16361615e-03 1.77182394e-03 5.48517397e-04 9.64028761e-04\n",
            " 7.24952744e-04 2.52550374e-04 1.46964342e-04 0.00000000e+00\n",
            " 0.00000000e+00 0.00000000e+00 0.00000000e+00 3.07512184e-04\n",
            " 0.00000000e+00 2.23330738e-03 8.14031616e-04 2.46060305e-03\n",
            " 6.65110467e-04 4.79693110e-04 2.54384880e-04 5.85071853e-04\n",
            " 7.38643597e-04 1.50266314e-03 4.71116284e-03 9.70261913e-04\n",
            " 3.58916314e-03 8.38224245e-04 6.76518039e-04 7.24068863e-04\n",
            " 6.76067226e-04 9.82068722e-04 1.85578043e-03 1.52020925e-03\n",
            " 5.60366358e-04 3.12681415e-04 1.11293385e-04 0.00000000e+00\n",
            " 0.00000000e+00 0.00000000e+00 2.89362801e-04 7.89964811e-05\n",
            " 4.82366638e-03 1.01834153e-02 9.98195669e-04 1.09033792e-03\n",
            " 0.00000000e+00 8.68980981e-04 8.40892774e-04 2.93824794e-04\n",
            " 1.74582319e-03 1.88398667e-03 4.42889515e-03 5.46805237e-04\n",
            " 5.99466642e-04 2.31861219e-04 7.48380499e-04 4.22914863e-04\n",
            " 1.49706589e-03 6.79741655e-04 8.97697926e-04 0.00000000e+00\n",
            " 0.00000000e+00 0.00000000e+00 1.18712944e-04 2.02351609e-04\n",
            " 0.00000000e+00 0.00000000e+00 3.98658612e-04 4.49601659e-04\n",
            " 3.32531144e-04 4.11544630e-04 7.52025301e-04 8.78006430e-04\n",
            " 1.55810739e-04 1.85048414e-03 1.40586950e-03 3.65270597e-04\n",
            " 3.21379217e-03 1.60942193e-03 8.16734368e-03 1.11871244e-03\n",
            " 3.45009493e-04 3.98190258e-03 1.35774408e-03 8.27154852e-04\n",
            " 4.21854926e-04 4.18675115e-04 1.52848623e-03 9.52451020e-04\n",
            " 5.14789974e-04 1.48391180e-04 1.85488975e-04 0.00000000e+00\n",
            " 0.00000000e+00 0.00000000e+00 0.00000000e+00 1.33552062e-04\n",
            " 2.38485825e-04 8.02415134e-04 6.16000053e-04 5.70512943e-04\n",
            " 1.10018782e-03 8.42119946e-04 1.26309997e-03 5.62097840e-04\n",
            " 2.05466846e-03 2.84307787e-03 2.10906097e-03 5.16148552e-04\n",
            " 1.62947867e-03 3.52429052e-04 4.51569852e-04 8.16151490e-04\n",
            " 2.17507092e-03 3.93622058e-04 6.16220808e-04 2.04037872e-04\n",
            " 0.00000000e+00 3.45012185e-04 1.78069416e-04 0.00000000e+00]\n"
          ]
        },
        {
          "output_type": "stream",
          "name": "stderr",
          "text": [
            "<ipython-input-15-2f73a94e0d8a>:38: DataConversionWarning: A column-vector y was passed when a 1d array was expected. Please change the shape of y to (n_samples,), for example using ravel().\n",
            "  model2.fit(X_train, y_train)\n"
          ]
        }
      ]
    },
    {
      "cell_type": "markdown",
      "source": [
        "#Task 2.\n",
        "For given bank dataset (**bank.csv**) having the following attributes :\n",
        "1.\t**age** (numeric)\n",
        "2.\t**job** : type of job (categorical: 'admin.','blue-collar','entrepreneur','housemaid','management','retired','self-employed','services','student','technician','unemployed','unknown')\n",
        "3.\t**marital** : marital status (categorical: 'divorced','married','single','unknown'; note: 'divorced' means divorced or widowed)\n",
        "4.\t**education** (categorical: 'basic.4y','basic.6y','basic.9y','high.school','illiterate','professional.course','university.degree','unknown')\n",
        "5.\t**default**: has credit in default? (categorical: 'no','yes','unknown')\n",
        "6.\t**housing**: has housing loan? (categorical: 'no','yes','unknown')\n",
        "7.\t**loan**: has personal loan? (categorical: 'no','yes','unknown')\n",
        "8.\t**contact**: contact communication type (categorical: 'cellular','telephone')\n",
        "9.\t**month**: last contact month of year (categorical: 'jan', 'feb', 'mar', ..., 'nov', 'dec')\n",
        "10.\t**day_of_week**: last contact day of the week (categorical: 'mon','tue','wed','thu','fri')\n",
        "11.\t**duration**: last contact duration, in seconds (numeric). Important note: this attribute highly affects the output target (e.g., if duration=0 then y='no'). Yet, the duration is not known before a call is performed. Also, after the end of the call y is obviously known. Thus, this input should only be included for benchmark purposes and should be discarded if the intention is to have a realistic predictive model.\n",
        "12.\t**campaign**: number of contacts performed during this campaign and for this client (numeric, includes last contact)\n",
        "13.\t**pdays**: number of days that passed by after the client was last contacted from a previous campaign (numeric; 999 means client was not previously contacted)\n",
        "14.\t**previous**: number of contacts performed before this campaign and for this client (numeric)\n",
        "15.\t**poutcome**: outcome of the previous marketing campaign (categorical: 'failure','nonexistent','success')\n",
        "Output variable (desired target):\n",
        "16.\t**y**. has the client subscribed a term deposit? (binary: 'yes','no')\n",
        "\n"
      ],
      "metadata": {
        "id": "b52OPWPD2afi"
      }
    },
    {
      "cell_type": "markdown",
      "source": [
        "#2.1. Apply StandardScaler() function to columns that contains numerical data ('age', 'balance', 'day', 'campaign', 'pdays', 'previous')"
      ],
      "metadata": {
        "id": "q89LEvT7dqaZ"
      }
    },
    {
      "cell_type": "code",
      "source": [
        "#code"
      ],
      "metadata": {
        "id": "8vx3mfIidu4P"
      },
      "execution_count": null,
      "outputs": []
    },
    {
      "cell_type": "markdown",
      "source": [
        "#2.2. Apply Encode Categorical Value (OneHotEncoder) to transfrom categorical data to numerical data ('job', 'marital', 'education', 'default', 'housing', 'loan', 'contact', 'month', 'poutcome')"
      ],
      "metadata": {
        "id": "r7acR0TxdvY8"
      }
    },
    {
      "cell_type": "code",
      "source": [
        "#code"
      ],
      "metadata": {
        "id": "egtgBmAtd0um"
      },
      "execution_count": null,
      "outputs": []
    },
    {
      "cell_type": "markdown",
      "source": [
        "#2.3. Apply **Decision tree, Logistic Regression, Random forest, kNN, NaïveBayes, SVM** algorithms to the preproceed dataset in the previous steps. Then compare the obtained results using **accuracy, precision, recall, f1** measures."
      ],
      "metadata": {
        "id": "K2Si6d69d1nh"
      }
    },
    {
      "cell_type": "code",
      "source": [
        "#code"
      ],
      "metadata": {
        "id": "Ouil-cf_d8jW"
      },
      "execution_count": null,
      "outputs": []
    },
    {
      "cell_type": "markdown",
      "source": [
        "#2.4. Using a selection feature technique to above dataset, then compare the classification results with those in Task 2.3."
      ],
      "metadata": {
        "id": "SweVRB4meApP"
      }
    },
    {
      "cell_type": "code",
      "source": [
        "#code"
      ],
      "metadata": {
        "id": "seFBhqCSeC7C"
      },
      "execution_count": null,
      "outputs": []
    },
    {
      "cell_type": "markdown",
      "source": [
        "#Task 3.\n",
        "For a given dataset (**mobile price classification**), perform feature selection techniques and then compare the performance of selected classification algorithms (**Decision Tree, kNN, Logistic Regression, SVM, Random Forest, and NaiveBayes**) based on **accuracy, precision, recall, and f1** measures.\n"
      ],
      "metadata": {
        "id": "Z5pp7_h-aP2u"
      }
    },
    {
      "cell_type": "code",
      "source": [
        "# code"
      ],
      "metadata": {
        "id": "Rw_-8FIf2KxW"
      },
      "execution_count": null,
      "outputs": []
    },
    {
      "cell_type": "markdown",
      "source": [
        "#Task 4.\n",
        "For a given dataset (named **mushroom.csv**) with the following information:\n",
        "\n",
        "*   Attribute Information: (**classes**: edible=e, poisonous=p)\n",
        "*   **cap-shape**: bell=b,conical=c,convex=x,flat=f, knobbed=k,sunken=s\n",
        "*   **cap-surface**: fibrous=f,grooves=g,scaly=y,smooth=s\n",
        "*   **cap-color**: brown=n,buff=b,cinnamon=c,gray=g,green=r,pink=p,purple=u,red=e,white=w,yellow=y\n",
        "*   **bruises**: bruises=t,no=f\n",
        "*   **odor**: almond=a,anise=l,creosote=c,fishy=y,foul=f,musty=m,none=n,pungent=p,spicy=s\n",
        "*   **gill-attachment**: attached=a,descending=d,free=f,notched=n\n",
        "*   **gill-spacing**: close=c,crowded=w,distant=d\n",
        "*   **gill-size**: broad=b,narrow=n\n",
        "*   **gill-color**: black=k,brown=n,buff=b,chocolate=h,gray=g, green=r,orange=o,pink=p,purple=u,red=e,white=w,yellow=y\n",
        "*   **stalk-shape**: enlarging=e,tapering=t\n",
        "*   **stalk-root**: bulbous=b,club=c,cup=u,equal=e,rhizomorphs=z,rooted=r,missing=?\n",
        "*   **stalk-surface-above-ring**: fibrous=f,scaly=y,silky=k,smooth=s\n",
        "*   **stalk-surface-below-ring**: fibrous=f,scaly=y,silky=k,smooth=s\n",
        "*   **stalk-color-above-ring**: brown=n,buff=b,cinnamon=c,gray=g,orange=o,pink=p,red=e,white=w,yellow=y\n",
        "*   **stalk-color-below-ring**: brown=n,buff=b,cinnamon=c,gray=g,orange=o,pink=p,red=e,white=w,yellow=y\n",
        "*   **veil-type**: partial=p,universal=u\n",
        "*   **veil-color**: brown=n,orange=o,white=w,yellow=y\n",
        "*   **ring-number**: none=n,one=o,two=t\n",
        "*   **ring-type**: cobwebby=c,evanescent=e,flaring=f,large=l,none=n,pendant=p,sheathing=s,zone=z\n",
        "*   **spore-print-color**: black=k,brown=n,buff=b,chocolate=h,green=r,orange=o,purple=u,white=w,yellow=y\n",
        "*   **population**: abundant=a,clustered=c,numerous=n,scattered=s,several=v,solitary=y\n",
        "*   **habitat**: grasses=g,leaves=l,meadows=m,paths=p,urban=u,waste=w,woods=d"
      ],
      "metadata": {
        "id": "01l4jOwqRosO"
      }
    },
    {
      "cell_type": "markdown",
      "source": [
        "#Task 4.1. Apply approriate reprocessing techniques for the mushroom dataset"
      ],
      "metadata": {
        "id": "-sdulZgrUKa6"
      }
    },
    {
      "cell_type": "code",
      "source": [
        "#code"
      ],
      "metadata": {
        "id": "b0EAe9xyUTdJ"
      },
      "execution_count": null,
      "outputs": []
    },
    {
      "cell_type": "markdown",
      "source": [
        "#Task 4.2. Apply classification algorithms (**Decision Tree, Logistic Regression, SVM, kNN, Random Forest, NaiveBayes**) to the reprocessed dataset"
      ],
      "metadata": {
        "id": "TLjmCHZdUUdY"
      }
    },
    {
      "cell_type": "code",
      "source": [
        "#code"
      ],
      "metadata": {
        "id": "Z4qZBUVWUt6l"
      },
      "execution_count": null,
      "outputs": []
    },
    {
      "cell_type": "markdown",
      "source": [
        "#Task 4.3. Apply an feature selection method to dataset obtained in Task 4.1, then apply classification algorithm to the obtained dataset. Compare the performance of classification models before and after applying the feature selection technique in term of **accuracy, precision, recall, and F1** measures"
      ],
      "metadata": {
        "id": "jOg7DfjjVZgf"
      }
    },
    {
      "cell_type": "code",
      "source": [
        "#code"
      ],
      "metadata": {
        "id": "tSPivXdAUu0H"
      },
      "execution_count": null,
      "outputs": []
    },
    {
      "cell_type": "markdown",
      "source": [
        "#Finally,\n",
        "Save a copy in your Github. Remember renaming the notebook."
      ],
      "metadata": {
        "id": "Ok7RGkea_b7n"
      }
    }
  ]
}