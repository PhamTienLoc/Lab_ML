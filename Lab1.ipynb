{
  "nbformat": 4,
  "nbformat_minor": 0,
  "metadata": {
    "colab": {
      "provenance": [],
      "collapsed_sections": [
        "KPQLH7qwSOoh"
      ],
      "authorship_tag": "ABX9TyOlEYP77PcEDrwBl9gKcILY",
      "include_colab_link": true
    },
    "kernelspec": {
      "name": "python3",
      "display_name": "Python 3"
    },
    "language_info": {
      "name": "python"
    }
  },
  "cells": [
    {
      "cell_type": "markdown",
      "metadata": {
        "id": "view-in-github",
        "colab_type": "text"
      },
      "source": [
        "<a href=\"https://colab.research.google.com/github/PhamTienLoc/Lab_ML/blob/main/Lab1.ipynb\" target=\"_parent\"><img src=\"https://colab.research.google.com/assets/colab-badge.svg\" alt=\"Open In Colab\"/></a>"
      ]
    },
    {
      "cell_type": "markdown",
      "source": [
        "# **Task 1**\n"
      ],
      "metadata": {
        "id": "PVTIfuyjNH2N"
      }
    },
    {
      "cell_type": "markdown",
      "source": [
        "**Task 1.1**"
      ],
      "metadata": {
        "id": "D1zHsBs4NX9t"
      }
    },
    {
      "cell_type": "code",
      "source": [
        "n = int(input(\"Enter n: \"))\n",
        "L = []\n",
        "i = 0\n",
        "for i in range(int(n)):\n",
        "  x = input()\n",
        "  L.append(int(x))\n",
        "\n",
        "print(L)\n",
        "\n",
        "max_re = max(L)\n",
        "print(\"Max element in L: {}\".format(max_re))\n",
        "\n",
        "min_re = min(L)\n",
        "print(\"Min element in L: {}\".format(min_re))\n",
        "\n",
        "sum_re = sum(L)\n",
        "print(\"Sum of element in L: {}\".format(sum_re))\n",
        "\n",
        "print(\"Sorted L: {}\".format(sorted(L)))\n",
        "\n",
        "posNum = 0\n",
        "negNum = 0\n",
        "for i in L:\n",
        "    if i > 0:\n",
        "      posNum+=1\n",
        "    elif i < 0:\n",
        "      negNum+=1\n",
        "print(\"Number of positive numbers in L: {}\".format(posNum))\n",
        "print(\"Number of negative numbers in L: {}\".format(negNum))"
      ],
      "metadata": {
        "id": "8LrBUYcZIKRY"
      },
      "execution_count": null,
      "outputs": []
    },
    {
      "cell_type": "markdown",
      "source": [
        "**Task 1.2**"
      ],
      "metadata": {
        "id": "0PwGl-QKQPSq"
      }
    },
    {
      "cell_type": "code",
      "source": [
        "def factorial(n):\n",
        "  result = 1\n",
        "  for i in range(1, n+1):\n",
        "    result*=1\n",
        "  return result\n",
        "\n",
        "print(factorial(input()).t)"
      ],
      "metadata": {
        "colab": {
          "base_uri": "https://localhost:8080/",
          "height": 315
        },
        "id": "zJOyfjeESFeg",
        "outputId": "20e25f30-8b6d-4d70-fa4c-cbef8f8d131c"
      },
      "execution_count": 3,
      "outputs": [
        {
          "name": "stdout",
          "output_type": "stream",
          "text": [
            "3\n"
          ]
        },
        {
          "output_type": "error",
          "ename": "TypeError",
          "evalue": "can only concatenate str (not \"int\") to str",
          "traceback": [
            "\u001b[0;31m---------------------------------------------------------------------------\u001b[0m",
            "\u001b[0;31mTypeError\u001b[0m                                 Traceback (most recent call last)",
            "\u001b[0;32m<ipython-input-3-c755bdbc639a>\u001b[0m in \u001b[0;36m<cell line: 7>\u001b[0;34m()\u001b[0m\n\u001b[1;32m      5\u001b[0m   \u001b[0;32mreturn\u001b[0m \u001b[0mresult\u001b[0m\u001b[0;34m\u001b[0m\u001b[0;34m\u001b[0m\u001b[0m\n\u001b[1;32m      6\u001b[0m \u001b[0;34m\u001b[0m\u001b[0m\n\u001b[0;32m----> 7\u001b[0;31m \u001b[0mprint\u001b[0m\u001b[0;34m(\u001b[0m\u001b[0mfactorial\u001b[0m\u001b[0;34m(\u001b[0m\u001b[0minput\u001b[0m\u001b[0;34m(\u001b[0m\u001b[0;34m)\u001b[0m\u001b[0;34m)\u001b[0m\u001b[0;34m)\u001b[0m\u001b[0;34m\u001b[0m\u001b[0;34m\u001b[0m\u001b[0m\n\u001b[0m",
            "\u001b[0;32m<ipython-input-3-c755bdbc639a>\u001b[0m in \u001b[0;36mfactorial\u001b[0;34m(n)\u001b[0m\n\u001b[1;32m      1\u001b[0m \u001b[0;32mdef\u001b[0m \u001b[0mfactorial\u001b[0m\u001b[0;34m(\u001b[0m\u001b[0mn\u001b[0m\u001b[0;34m)\u001b[0m\u001b[0;34m:\u001b[0m\u001b[0;34m\u001b[0m\u001b[0;34m\u001b[0m\u001b[0m\n\u001b[1;32m      2\u001b[0m   \u001b[0mresult\u001b[0m \u001b[0;34m=\u001b[0m \u001b[0;36m1\u001b[0m\u001b[0;34m\u001b[0m\u001b[0;34m\u001b[0m\u001b[0m\n\u001b[0;32m----> 3\u001b[0;31m   \u001b[0;32mfor\u001b[0m \u001b[0mi\u001b[0m \u001b[0;32min\u001b[0m \u001b[0mrange\u001b[0m\u001b[0;34m(\u001b[0m\u001b[0;36m1\u001b[0m\u001b[0;34m,\u001b[0m \u001b[0mn\u001b[0m\u001b[0;34m+\u001b[0m\u001b[0;36m1\u001b[0m\u001b[0;34m)\u001b[0m\u001b[0;34m:\u001b[0m\u001b[0;34m\u001b[0m\u001b[0;34m\u001b[0m\u001b[0m\n\u001b[0m\u001b[1;32m      4\u001b[0m     \u001b[0mresult\u001b[0m\u001b[0;34m*=\u001b[0m\u001b[0;36m1\u001b[0m\u001b[0;34m\u001b[0m\u001b[0;34m\u001b[0m\u001b[0m\n\u001b[1;32m      5\u001b[0m   \u001b[0;32mreturn\u001b[0m \u001b[0mresult\u001b[0m\u001b[0;34m\u001b[0m\u001b[0;34m\u001b[0m\u001b[0m\n",
            "\u001b[0;31mTypeError\u001b[0m: can only concatenate str (not \"int\") to str"
          ]
        }
      ]
    },
    {
      "cell_type": "markdown",
      "source": [
        "**Task 1.3**"
      ],
      "metadata": {
        "id": "vdXAhFP_SHJL"
      }
    },
    {
      "cell_type": "code",
      "source": [],
      "metadata": {
        "id": "06KtAnzaSKOk"
      },
      "execution_count": null,
      "outputs": []
    },
    {
      "cell_type": "markdown",
      "source": [
        "#**Task 2**\n",
        "\n",
        "\n"
      ],
      "metadata": {
        "id": "KPQLH7qwSOoh"
      }
    },
    {
      "cell_type": "markdown",
      "source": [
        "**Task 2.1**"
      ],
      "metadata": {
        "id": "xtwHNjMVSdg_"
      }
    },
    {
      "cell_type": "code",
      "source": [],
      "metadata": {
        "id": "oDoaNMlsSsOd"
      },
      "execution_count": null,
      "outputs": []
    },
    {
      "cell_type": "markdown",
      "source": [
        "**Task 2.2**"
      ],
      "metadata": {
        "id": "r5dMi2YjSstG"
      }
    },
    {
      "cell_type": "code",
      "source": [],
      "metadata": {
        "id": "7YIYC_jsSump"
      },
      "execution_count": null,
      "outputs": []
    },
    {
      "cell_type": "markdown",
      "source": [
        "**Task 2.3**"
      ],
      "metadata": {
        "id": "X2rKOG4rSwQT"
      }
    },
    {
      "cell_type": "code",
      "source": [],
      "metadata": {
        "id": "yFnwebxaS0nK"
      },
      "execution_count": null,
      "outputs": []
    }
  ]
}